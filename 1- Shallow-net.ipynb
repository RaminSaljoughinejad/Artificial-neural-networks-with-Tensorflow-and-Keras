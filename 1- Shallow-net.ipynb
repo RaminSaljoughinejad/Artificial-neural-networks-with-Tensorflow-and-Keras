{
 "cells": [
  {
   "cell_type": "markdown",
   "metadata": {},
   "source": [
    "# MNIST dataset --- Shallow Net\n",
    "\n",
    "<span style=\"color:red;\">Aims:</span><br>\n",
    "    1-Learn how to Import DataSets from Keras<br>\n",
    "    2-Understanding of Sequence Model<br>\n",
    "    3-Understanding of Dense Layer<br>\n",
    "    4-The Difference between SGD and adam Optimizer<br>"
   ]
  },
  {
   "cell_type": "markdown",
   "metadata": {},
   "source": [
    "### Loading Dependencies"
   ]
  },
  {
   "cell_type": "code",
   "execution_count": 1,
   "metadata": {},
   "outputs": [
    {
     "name": "stderr",
     "output_type": "stream",
     "text": [
      "Using TensorFlow backend.\n"
     ]
    }
   ],
   "source": [
    "import keras\n",
    "from keras.datasets import mnist\n",
    "from keras.models import Sequential\n",
    "from keras.layers import Dense\n",
    "from keras.optimizers import SGD, adam\n",
    "import matplotlib.pyplot as plt"
   ]
  },
  {
   "cell_type": "markdown",
   "metadata": {},
   "source": [
    "### Loading Data"
   ]
  },
  {
   "cell_type": "code",
   "execution_count": 2,
   "metadata": {},
   "outputs": [],
   "source": [
    "(X_train, Y_train),(X_test, Y_test) = mnist.load_data()"
   ]
  },
  {
   "cell_type": "markdown",
   "metadata": {},
   "source": [
    "### Exploring Data"
   ]
  },
  {
   "cell_type": "code",
   "execution_count": 3,
   "metadata": {},
   "outputs": [
    {
     "name": "stdout",
     "output_type": "stream",
     "text": [
      "X_train Shape: (60000, 28, 28)\n",
      "Y_test Shape: (60000,)\n",
      "X_test Shape: (10000, 28, 28)\n",
      "Y_test Shape: (10000, 28, 28)\n"
     ]
    }
   ],
   "source": [
    "print(\"X_train Shape:\",X_train.shape)\n",
    "print(\"Y_test Shape:\",Y_train.shape)\n",
    "print(\"X_test Shape:\",X_test.shape)\n",
    "print(\"Y_test Shape:\",X_test.shape)"
   ]
  },
  {
   "cell_type": "code",
   "execution_count": 4,
   "metadata": {},
   "outputs": [
    {
     "data": {
      "text/plain": [
       "<matplotlib.image.AxesImage at 0x2416848a198>"
      ]
     },
     "execution_count": 4,
     "metadata": {},
     "output_type": "execute_result"
    },
    {
     "data": {
      "image/png": "[encoded data removed]",
      "text/plain": [
       "<Figure size 432x288 with 1 Axes>"
      ]
     },
     "metadata": {
      "needs_background": "light"
     },
     "output_type": "display_data"
    }
   ],
   "source": [
    "plt.imshow(X_train[2])"
   ]
  },
  {
   "cell_type": "code",
   "execution_count": 5,
   "metadata": {},
   "outputs": [
    {
     "name": "stdout",
     "output_type": "stream",
     "text": [
      "4\n"
     ]
    }
   ],
   "source": [
    "print(Y_train[2])"
   ]
  },
  {
   "cell_type": "code",
   "execution_count": 6,
   "metadata": {},
   "outputs": [],
   "source": [
    "X_train = X_train.reshape(60000, 784)\n",
    "X_test = X_test.reshape(10000, 784)"
   ]
  },
  {
   "cell_type": "code",
   "execution_count": 7,
   "metadata": {},
   "outputs": [],
   "source": [
    "n_classes = 10\n",
    "Y_train = keras.utils.to_categorical(Y_train,n_classes)\n",
    "Y_test = keras.utils.to_categorical(Y_test, n_classes)"
   ]
  },
  {
   "cell_type": "markdown",
   "metadata": {},
   "source": [
    "### Creating the Model"
   ]
  },
  {
   "cell_type": "code",
   "execution_count": 8,
   "metadata": {},
   "outputs": [
    {
     "name": "stdout",
     "output_type": "stream",
     "text": [
      "_________________________________________________________________\n",
      "Layer (type)                 Output Shape              Param #   \n",
      "=================================================================\n",
      "dense_1 (Dense)              (None, 64)                50240     \n",
      "_________________________________________________________________\n",
      "dense_2 (Dense)              (None, 10)                650       \n",
      "=================================================================\n",
      "Total params: 50,890\n",
      "Trainable params: 50,890\n",
      "Non-trainable params: 0\n",
      "_________________________________________________________________\n"
     ]
    }
   ],
   "source": [
    "model = Sequential()\n",
    "model.add(Dense((64), activation=\"sigmoid\", input_shape=(784,)))\n",
    "model.add(Dense((10), activation=\"softmax\"))\n",
    "\n",
    "model.summary()"
   ]
  },
  {
   "cell_type": "markdown",
   "metadata": {},
   "source": [
    "### Configuring the model"
   ]
  },
  {
   "cell_type": "code",
   "execution_count": 9,
   "metadata": {},
   "outputs": [],
   "source": [
    "model.compile(loss=\"mean_squared_error\", optimizer=\"Adam\", metrics=[\"accuracy\"])"
   ]
  },
  {
   "cell_type": "markdown",
   "metadata": {},
   "source": [
    "### Training The Model"
   ]
  },
  {
   "cell_type": "code",
   "execution_count": 10,
   "metadata": {},
   "outputs": [
    {
     "name": "stdout",
     "output_type": "stream",
     "text": [
      "Train on 60000 samples, validate on 10000 samples\n",
      "Epoch 1/20\n",
      "60000/60000 [==============================] - 1s 17us/step - loss: 0.0324 - acc: 0.7952 - val_loss: 0.0183 - val_acc: 0.8922\n",
      "Epoch 2/20\n",
      "60000/60000 [==============================] - 1s 13us/step - loss: 0.0169 - acc: 0.8960 - val_loss: 0.0150 - val_acc: 0.9089\n",
      "Epoch 3/20\n",
      "60000/60000 [==============================] - 1s 14us/step - loss: 0.0151 - acc: 0.9062 - val_loss: 0.0132 - val_acc: 0.9171\n",
      "Epoch 4/20\n",
      "60000/60000 [==============================] - 1s 14us/step - loss: 0.0137 - acc: 0.9140 - val_loss: 0.0131 - val_acc: 0.9172\n",
      "Epoch 5/20\n",
      "60000/60000 [==============================] - 1s 13us/step - loss: 0.0135 - acc: 0.9138 - val_loss: 0.0129 - val_acc: 0.9185\n",
      "Epoch 6/20\n",
      "60000/60000 [==============================] - 1s 13us/step - loss: 0.0127 - acc: 0.9191 - val_loss: 0.0119 - val_acc: 0.9254\n",
      "Epoch 7/20\n",
      "60000/60000 [==============================] - 1s 14us/step - loss: 0.0120 - acc: 0.9240 - val_loss: 0.0114 - val_acc: 0.9261\n",
      "Epoch 8/20\n",
      "60000/60000 [==============================] - 1s 15us/step - loss: 0.0125 - acc: 0.9199 - val_loss: 0.0118 - val_acc: 0.9228\n",
      "Epoch 9/20\n",
      "60000/60000 [==============================] - 1s 14us/step - loss: 0.0121 - acc: 0.9220 - val_loss: 0.0118 - val_acc: 0.9242\n",
      "Epoch 10/20\n",
      "60000/60000 [==============================] - 1s 13us/step - loss: 0.0118 - acc: 0.9227 - val_loss: 0.0112 - val_acc: 0.9259\n",
      "Epoch 11/20\n",
      "60000/60000 [==============================] - 1s 14us/step - loss: 0.0116 - acc: 0.9248 - val_loss: 0.0119 - val_acc: 0.9233\n",
      "Epoch 12/20\n",
      "60000/60000 [==============================] - 1s 14us/step - loss: 0.0113 - acc: 0.9269 - val_loss: 0.0112 - val_acc: 0.9268\n",
      "Epoch 13/20\n",
      "60000/60000 [==============================] - 1s 14us/step - loss: 0.0110 - acc: 0.9289 - val_loss: 0.0106 - val_acc: 0.9321\n",
      "Epoch 14/20\n",
      "60000/60000 [==============================] - 1s 14us/step - loss: 0.0107 - acc: 0.9302 - val_loss: 0.0103 - val_acc: 0.9341\n",
      "Epoch 15/20\n",
      "60000/60000 [==============================] - 1s 14us/step - loss: 0.0106 - acc: 0.9302 - val_loss: 0.0104 - val_acc: 0.9348\n",
      "Epoch 16/20\n",
      "60000/60000 [==============================] - 1s 14us/step - loss: 0.0104 - acc: 0.9321 - val_loss: 0.0105 - val_acc: 0.9338\n",
      "Epoch 17/20\n",
      "60000/60000 [==============================] - 1s 13us/step - loss: 0.0109 - acc: 0.9295 - val_loss: 0.0105 - val_acc: 0.9322\n",
      "Epoch 18/20\n",
      "60000/60000 [==============================] - 1s 13us/step - loss: 0.0105 - acc: 0.9315 - val_loss: 0.0113 - val_acc: 0.9264\n",
      "Epoch 19/20\n",
      "60000/60000 [==============================] - 1s 14us/step - loss: 0.0105 - acc: 0.9314 - val_loss: 0.0105 - val_acc: 0.9305\n",
      "Epoch 20/20\n",
      "60000/60000 [==============================] - 1s 15us/step - loss: 0.0104 - acc: 0.9325 - val_loss: 0.0105 - val_acc: 0.9333\n"
     ]
    },
    {
     "data": {
      "text/plain": [
       "<keras.callbacks.History at 0x241684faeb8>"
      ]
     },
     "execution_count": 10,
     "metadata": {},
     "output_type": "execute_result"
    }
   ],
   "source": [
    "model.fit(X_train,Y_train, batch_size=128, epochs=20, validation_data=(X_test,Y_test))"
   ]
  },
  {
   "cell_type": "markdown",
   "metadata": {},
   "source": [
    "### Checking Model Prediction"
   ]
  },
  {
   "cell_type": "code",
   "execution_count": 11,
   "metadata": {},
   "outputs": [
    {
     "name": "stdout",
     "output_type": "stream",
     "text": [
      "[[4.7849346e-04 1.8454710e-04 8.0312714e-03 5.1113926e-03 6.0758018e-01\n",
      "  4.4064177e-03 2.2131629e-02 1.3112660e-02 1.1423613e-02 3.2753974e-01]]\n"
     ]
    }
   ],
   "source": [
    "Prediction = model.predict([[X_train[2]]])\n",
    "print(Prediction)"
   ]
  },
  {
   "cell_type": "code",
   "execution_count": 12,
   "metadata": {},
   "outputs": [
    {
     "name": "stdout",
     "output_type": "stream",
     "text": [
      "4\n"
     ]
    }
   ],
   "source": [
    "max_num = Prediction.max()\n",
    "Prediction = Prediction.tolist()\n",
    "x = 0;\n",
    "Prediction = Prediction[0]\n",
    "for items in Prediction:\n",
    "    if(items==max_num):\n",
    "        break;\n",
    "    x+=1\n",
    "print(x)"
   ]
  }
 ],
 "metadata": {
  "kernelspec": {
   "display_name": "Python 3",
   "language": "python",
   "name": "python3"
  },
  "language_info": {
   "codemirror_mode": {
    "name": "ipython",
    "version": 3
   },
   "file_extension": ".py",
   "mimetype": "text/x-python",
   "name": "python",
   "nbconvert_exporter": "python",
   "pygments_lexer": "ipython3",
   "version": "3.6.8"
  }
 },
 "nbformat": 4,
 "nbformat_minor": 2
}
