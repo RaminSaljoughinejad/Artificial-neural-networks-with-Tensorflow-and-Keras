{
 "cells": [
  {
   "cell_type": "markdown",
   "metadata": {},
   "source": [
    "# Fashion MNIST dataset --- Shallow Net\n",
    "\n",
    "<span style=\"color:red;\">Aims:</span><br>\n",
    "    1-New Dataset<br>\n",
    "    2-Understanding the diffrence between mean_squared_error and categorical_crossentropy<br>\n",
    "    3-Understanding of 'Sigmoid', 'Softmax', 'Tanh' and 'Relu' activation layers.<br>"
   ]
  },
  {
   "cell_type": "markdown",
   "metadata": {},
   "source": [
    "### Loading Dependencies"
   ]
  },
  {
   "cell_type": "code",
   "execution_count": 1,
   "metadata": {},
   "outputs": [
    {
     "name": "stderr",
     "output_type": "stream",
     "text": [
      "Using TensorFlow backend.\n"
     ]
    }
   ],
   "source": [
    "import keras\n",
    "from keras.datasets import fashion_mnist\n",
    "from keras.models import Sequential\n",
    "from keras.layers import Dense, Dropout\n",
    "from keras.optimizers import SGD, adam\n",
    "import matplotlib.pyplot as plt"
   ]
  },
  {
   "cell_type": "markdown",
   "metadata": {},
   "source": [
    "### Loading Data"
   ]
  },
  {
   "cell_type": "code",
   "execution_count": 2,
   "metadata": {},
   "outputs": [],
   "source": [
    "(X_train, Y_train),(X_test, Y_test) = fashion_mnist.load_data()"
   ]
  },
  {
   "cell_type": "markdown",
   "metadata": {},
   "source": [
    "### Exploring Data"
   ]
  },
  {
   "cell_type": "code",
   "execution_count": 3,
   "metadata": {},
   "outputs": [
    {
     "name": "stdout",
     "output_type": "stream",
     "text": [
      "X_train Shape: (60000, 28, 28)\n",
      "Y_test Shape: (60000,)\n",
      "X_test Shape: (10000, 28, 28)\n",
      "Y_test Shape: (10000, 28, 28)\n"
     ]
    }
   ],
   "source": [
    "print(\"X_train Shape:\",X_train.shape)\n",
    "print(\"Y_test Shape:\",Y_train.shape)\n",
    "print(\"X_test Shape:\",X_test.shape)\n",
    "print(\"Y_test Shape:\",X_test.shape)"
   ]
  },
  {
   "cell_type": "code",
   "execution_count": 4,
   "metadata": {},
   "outputs": [
    {
     "data": {
      "text/plain": [
       "<matplotlib.image.AxesImage at 0x1e4c1e1ee80>"
      ]
     },
     "execution_count": 4,
     "metadata": {},
     "output_type": "execute_result"
    },
    {
     "data": {
      "image/png": "[encoded data removed]",
      "text/plain": [
       "<Figure size 432x288 with 1 Axes>"
      ]
     },
     "metadata": {
      "needs_background": "light"
     },
     "output_type": "display_data"
    }
   ],
   "source": [
    "plt.imshow(X_train[5])"
   ]
  },
  {
   "cell_type": "code",
   "execution_count": 5,
   "metadata": {},
   "outputs": [
    {
     "name": "stdout",
     "output_type": "stream",
     "text": [
      "2\n"
     ]
    }
   ],
   "source": [
    "print(Y_train[5])"
   ]
  },
  {
   "cell_type": "code",
   "execution_count": 6,
   "metadata": {},
   "outputs": [],
   "source": [
    "X_train = X_train.reshape(60000, 784)\n",
    "X_test = X_test.reshape(10000, 784)"
   ]
  },
  {
   "cell_type": "code",
   "execution_count": 7,
   "metadata": {},
   "outputs": [],
   "source": [
    "n_classes = 10\n",
    "Y_train = keras.utils.to_categorical(Y_train,n_classes)\n",
    "Y_test = keras.utils.to_categorical(Y_test, n_classes)"
   ]
  },
  {
   "cell_type": "markdown",
   "metadata": {},
   "source": [
    "### Creating the Model"
   ]
  },
  {
   "cell_type": "code",
   "execution_count": 8,
   "metadata": {},
   "outputs": [
    {
     "name": "stdout",
     "output_type": "stream",
     "text": [
      "_________________________________________________________________\n",
      "Layer (type)                 Output Shape              Param #   \n",
      "=================================================================\n",
      "dense_1 (Dense)              (None, 64)                50240     \n",
      "_________________________________________________________________\n",
      "dense_2 (Dense)              (None, 10)                650       \n",
      "=================================================================\n",
      "Total params: 50,890\n",
      "Trainable params: 50,890\n",
      "Non-trainable params: 0\n",
      "_________________________________________________________________\n"
     ]
    }
   ],
   "source": [
    "model = Sequential()\n",
    "model.add(Dense((64), activation=\"sigmoid\", input_shape=(784,)))\n",
    "model.add(Dense((10), activation=\"softmax\"))\n",
    "\n",
    "model.summary()"
   ]
  },
  {
   "cell_type": "markdown",
   "metadata": {},
   "source": [
    "### Configuring the model"
   ]
  },
  {
   "cell_type": "code",
   "execution_count": 9,
   "metadata": {},
   "outputs": [],
   "source": [
    "model.compile(loss=\"categorical_crossentropy\", optimizer=\"Adam\", metrics=[\"accuracy\"])"
   ]
  },
  {
   "cell_type": "markdown",
   "metadata": {},
   "source": [
    "### Training The Model"
   ]
  },
  {
   "cell_type": "code",
   "execution_count": 10,
   "metadata": {},
   "outputs": [
    {
     "name": "stdout",
     "output_type": "stream",
     "text": [
      "Train on 60000 samples, validate on 10000 samples\n",
      "Epoch 1/20\n",
      "60000/60000 [==============================] - 1s 18us/step - loss: 0.9845 - acc: 0.6912 - val_loss: 0.7536 - val_acc: 0.7500\n",
      "Epoch 2/20\n",
      "60000/60000 [==============================] - 1s 14us/step - loss: 0.6979 - acc: 0.7549 - val_loss: 0.6674 - val_acc: 0.7594\n",
      "Epoch 3/20\n",
      "60000/60000 [==============================] - 1s 15us/step - loss: 0.6515 - acc: 0.7694 - val_loss: 0.6692 - val_acc: 0.7516\n",
      "Epoch 4/20\n",
      "60000/60000 [==============================] - 1s 14us/step - loss: 0.6355 - acc: 0.7719 - val_loss: 0.6568 - val_acc: 0.7674\n",
      "Epoch 5/20\n",
      "60000/60000 [==============================] - 1s 15us/step - loss: 0.6210 - acc: 0.7698 - val_loss: 0.6514 - val_acc: 0.7479\n",
      "Epoch 6/20\n",
      "60000/60000 [==============================] - 1s 16us/step - loss: 0.6330 - acc: 0.7684 - val_loss: 0.6307 - val_acc: 0.7743\n",
      "Epoch 7/20\n",
      "60000/60000 [==============================] - 1s 15us/step - loss: 0.6385 - acc: 0.7686 - val_loss: 0.6712 - val_acc: 0.7562\n",
      "Epoch 8/20\n",
      "60000/60000 [==============================] - 1s 16us/step - loss: 0.6175 - acc: 0.7742 - val_loss: 0.6247 - val_acc: 0.7697\n",
      "Epoch 9/20\n",
      "60000/60000 [==============================] - 1s 15us/step - loss: 0.5974 - acc: 0.7800 - val_loss: 0.6246 - val_acc: 0.7622\n",
      "Epoch 10/20\n",
      "60000/60000 [==============================] - 1s 16us/step - loss: 0.6058 - acc: 0.7781 - val_loss: 0.6056 - val_acc: 0.7886\n",
      "Epoch 11/20\n",
      "60000/60000 [==============================] - 1s 14us/step - loss: 0.5862 - acc: 0.7869 - val_loss: 0.6386 - val_acc: 0.7746\n",
      "Epoch 12/20\n",
      "60000/60000 [==============================] - 1s 14us/step - loss: 0.5787 - acc: 0.7899 - val_loss: 0.6019 - val_acc: 0.7820\n",
      "Epoch 13/20\n",
      "60000/60000 [==============================] - 1s 14us/step - loss: 0.5687 - acc: 0.7939 - val_loss: 0.5860 - val_acc: 0.7885\n",
      "Epoch 14/20\n",
      "60000/60000 [==============================] - 1s 16us/step - loss: 0.5697 - acc: 0.7963 - val_loss: 0.6175 - val_acc: 0.7793\n",
      "Epoch 15/20\n",
      "60000/60000 [==============================] - 1s 16us/step - loss: 0.5810 - acc: 0.7892 - val_loss: 0.6146 - val_acc: 0.7626\n",
      "Epoch 16/20\n",
      "60000/60000 [==============================] - 1s 14us/step - loss: 0.5662 - acc: 0.7998 - val_loss: 0.6103 - val_acc: 0.7777\n",
      "Epoch 17/20\n",
      "60000/60000 [==============================] - 1s 14us/step - loss: 0.5756 - acc: 0.7901 - val_loss: 0.6014 - val_acc: 0.7856\n",
      "Epoch 18/20\n",
      "60000/60000 [==============================] - 1s 14us/step - loss: 0.5706 - acc: 0.7907 - val_loss: 0.6283 - val_acc: 0.7713\n",
      "Epoch 19/20\n",
      "60000/60000 [==============================] - 1s 14us/step - loss: 0.6137 - acc: 0.7804 - val_loss: 0.6199 - val_acc: 0.7879\n",
      "Epoch 20/20\n",
      "60000/60000 [==============================] - 1s 15us/step - loss: 0.6018 - acc: 0.7828 - val_loss: 0.6225 - val_acc: 0.7697\n"
     ]
    },
    {
     "data": {
      "text/plain": [
       "<keras.callbacks.History at 0x1e4c1e85320>"
      ]
     },
     "execution_count": 10,
     "metadata": {},
     "output_type": "execute_result"
    }
   ],
   "source": [
    "model.fit(X_train,Y_train, batch_size=128, epochs=20, validation_data=(X_test,Y_test))"
   ]
  },
  {
   "cell_type": "markdown",
   "metadata": {},
   "source": [
    "### Checking Model Prediction"
   ]
  },
  {
   "cell_type": "code",
   "execution_count": 11,
   "metadata": {},
   "outputs": [
    {
     "name": "stdout",
     "output_type": "stream",
     "text": [
      "[[4.2545497e-02 3.1899390e-01 5.8111832e-02 2.2781886e-01 7.1669526e-02\n",
      "  2.1713313e-04 3.2613005e-02 1.3830923e-02 6.4642791e-04 2.3355296e-01]]\n"
     ]
    }
   ],
   "source": [
    "Prediction = model.predict([[X_train[2]]])\n",
    "print(Prediction)"
   ]
  },
  {
   "cell_type": "code",
   "execution_count": 12,
   "metadata": {},
   "outputs": [
    {
     "name": "stdout",
     "output_type": "stream",
     "text": [
      "1\n"
     ]
    }
   ],
   "source": [
    "max_num = Prediction.max()\n",
    "Prediction = Prediction.tolist()\n",
    "x = 0;\n",
    "Prediction = Prediction[0]\n",
    "for items in Prediction:\n",
    "    if(items==max_num):\n",
    "        break;\n",
    "    x+=1\n",
    "print(x)"
   ]
  }
 ],
 "metadata": {
  "kernelspec": {
   "display_name": "Python 3",
   "language": "python",
   "name": "python3"
  },
  "language_info": {
   "codemirror_mode": {
    "name": "ipython",
    "version": 3
   },
   "file_extension": ".py",
   "mimetype": "text/x-python",
   "name": "python",
   "nbconvert_exporter": "python",
   "pygments_lexer": "ipython3",
   "version": "3.6.8"
  }
 },
 "nbformat": 4,
 "nbformat_minor": 2
}
