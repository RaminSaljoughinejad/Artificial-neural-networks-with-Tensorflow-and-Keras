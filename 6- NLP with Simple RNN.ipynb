{
 "cells": [
  {
   "cell_type": "markdown",
   "metadata": {},
   "source": [
    "# Natural Language Processing using LSTM"
   ]
  },
  {
   "cell_type": "markdown",
   "metadata": {},
   "source": [
    "### Loading Dependencies"
   ]
  },
  {
   "cell_type": "code",
   "execution_count": 1,
   "metadata": {},
   "outputs": [
    {
     "name": "stderr",
     "output_type": "stream",
     "text": [
      "Using TensorFlow backend.\n"
     ]
    }
   ],
   "source": [
    "import keras\n",
    "from keras.datasets import imdb\n",
    "from keras.preprocessing.sequence import pad_sequences\n",
    "from keras.models import Sequential\n",
    "from keras.layers import Dense, Dropout, Embedding, SpatialDropout1D\n",
    "from keras.layers import SimpleRNN \n",
    "from keras.callbacks import ModelCheckpoint\n",
    "import os\n",
    "from sklearn.metrics import roc_auc_score \n",
    "import matplotlib.pyplot as plt \n",
    "%matplotlib inline"
   ]
  },
  {
   "cell_type": "markdown",
   "metadata": {},
   "source": [
    "### Loading Data"
   ]
  },
  {
   "cell_type": "code",
   "execution_count": 2,
   "metadata": {},
   "outputs": [],
   "source": [
    "n_unique_words = 10000 \n",
    "(x_train, y_train), (x_valid, y_valid) = imdb.load_data(num_words=n_unique_words)"
   ]
  },
  {
   "cell_type": "markdown",
   "metadata": {},
   "source": [
    "### Working with Data"
   ]
  },
  {
   "cell_type": "code",
   "execution_count": 3,
   "metadata": {},
   "outputs": [],
   "source": [
    "max_review_length = 100\n",
    "pad_type = trunc_type = 'pre'\n",
    "x_train = pad_sequences(x_train, maxlen=max_review_length, padding=pad_type, truncating=trunc_type, value=0)\n",
    "x_valid = pad_sequences(x_valid, maxlen=max_review_length, padding=pad_type, truncating=trunc_type, value=0)"
   ]
  },
  {
   "cell_type": "markdown",
   "metadata": {},
   "source": [
    "### Creating the model"
   ]
  },
  {
   "cell_type": "code",
   "execution_count": 4,
   "metadata": {},
   "outputs": [
    {
     "name": "stdout",
     "output_type": "stream",
     "text": [
      "_________________________________________________________________\n",
      "Layer (type)                 Output Shape              Param #   \n",
      "=================================================================\n",
      "embedding_1 (Embedding)      (None, 100, 64)           640000    \n",
      "_________________________________________________________________\n",
      "spatial_dropout1d_1 (Spatial (None, 100, 64)           0         \n",
      "_________________________________________________________________\n",
      "simple_rnn_1 (SimpleRNN)     (None, 256)               82176     \n",
      "_________________________________________________________________\n",
      "dense_1 (Dense)              (None, 1)                 257       \n",
      "=================================================================\n",
      "Total params: 722,433\n",
      "Trainable params: 722,433\n",
      "Non-trainable params: 0\n",
      "_________________________________________________________________\n"
     ]
    }
   ],
   "source": [
    "model = Sequential()\n",
    "model.add(Embedding(n_unique_words, 64, input_length=max_review_length)) \n",
    "model.add(SpatialDropout1D(0.2))\n",
    "model.add(SimpleRNN(256, dropout=0.2))\n",
    "model.add(Dense(1, activation='sigmoid'))\n",
    "\n",
    "model.summary()"
   ]
  },
  {
   "cell_type": "markdown",
   "metadata": {},
   "source": [
    "### Configure model"
   ]
  },
  {
   "cell_type": "code",
   "execution_count": 5,
   "metadata": {},
   "outputs": [],
   "source": [
    "model.compile(loss='binary_crossentropy', optimizer='adam', metrics=['accuracy'])"
   ]
  },
  {
   "cell_type": "markdown",
   "metadata": {},
   "source": [
    "### Model Checkpoints"
   ]
  },
  {
   "cell_type": "code",
   "execution_count": 6,
   "metadata": {},
   "outputs": [],
   "source": [
    "output_dir = 'model_output/SimpleRNN/'\n",
    "modelcheckpoint = ModelCheckpoint(filepath=output_dir+\"/weights.{epoch:02d}.hdf5\")\n",
    "if not os.path.exists(output_dir):\n",
    "    os.makedirs(output_dir)"
   ]
  },
  {
   "cell_type": "markdown",
   "metadata": {},
   "source": [
    "### Training the model\n",
    "SimpeRNN takes Longer to Learn!<br>\n",
    "You will need 3x more Epochs"
   ]
  },
  {
   "cell_type": "code",
   "execution_count": 7,
   "metadata": {},
   "outputs": [
    {
     "name": "stdout",
     "output_type": "stream",
     "text": [
      "Train on 25000 samples, validate on 25000 samples\n",
      "Epoch 1/20\n",
      "25000/25000 [==============================] - 34s 1ms/step - loss: 0.6948 - acc: 0.5250 - val_loss: 0.7002 - val_acc: 0.5141\n",
      "Epoch 2/20\n",
      "25000/25000 [==============================] - 32s 1ms/step - loss: 0.6292 - acc: 0.6315 - val_loss: 0.6641 - val_acc: 0.5989\n",
      "Epoch 3/20\n",
      "25000/25000 [==============================] - 32s 1ms/step - loss: 0.5336 - acc: 0.7277 - val_loss: 0.6245 - val_acc: 0.6406\n",
      "Epoch 4/20\n",
      "25000/25000 [==============================] - 34s 1ms/step - loss: 0.4242 - acc: 0.8070 - val_loss: 0.6509 - val_acc: 0.6574\n",
      "Epoch 5/20\n",
      "25000/25000 [==============================] - 33s 1ms/step - loss: 0.4335 - acc: 0.7886 - val_loss: 0.6327 - val_acc: 0.6184\n",
      "Epoch 6/20\n",
      "25000/25000 [==============================] - 32s 1ms/step - loss: 0.4879 - acc: 0.7654 - val_loss: 0.6617 - val_acc: 0.6587\n",
      "Epoch 7/20\n",
      "25000/25000 [==============================] - 32s 1ms/step - loss: 0.3740 - acc: 0.8313 - val_loss: 0.7573 - val_acc: 0.6470\n",
      "Epoch 8/20\n",
      "25000/25000 [==============================] - 33s 1ms/step - loss: 0.3045 - acc: 0.8700 - val_loss: 0.7447 - val_acc: 0.6695\n",
      "Epoch 9/20\n",
      "25000/25000 [==============================] - 32s 1ms/step - loss: 0.2554 - acc: 0.8931 - val_loss: 0.7859 - val_acc: 0.6816\n",
      "Epoch 10/20\n",
      "25000/25000 [==============================] - 32s 1ms/step - loss: 0.2107 - acc: 0.9152 - val_loss: 0.8821 - val_acc: 0.6724\n",
      "Epoch 11/20\n",
      "25000/25000 [==============================] - 32s 1ms/step - loss: 0.1755 - acc: 0.9298 - val_loss: 0.9542 - val_acc: 0.6678\n",
      "Epoch 12/20\n",
      "25000/25000 [==============================] - 32s 1ms/step - loss: 0.1600 - acc: 0.9376 - val_loss: 0.9935 - val_acc: 0.6321\n",
      "Epoch 13/20\n",
      "25000/25000 [==============================] - 32s 1ms/step - loss: 0.1430 - acc: 0.9438 - val_loss: 1.0694 - val_acc: 0.6766\n",
      "Epoch 14/20\n",
      "25000/25000 [==============================] - 32s 1ms/step - loss: 0.1284 - acc: 0.9506 - val_loss: 1.2231 - val_acc: 0.6370\n",
      "Epoch 15/20\n",
      "25000/25000 [==============================] - 32s 1ms/step - loss: 0.1032 - acc: 0.9612 - val_loss: 1.1462 - val_acc: 0.6692\n",
      "Epoch 16/20\n",
      "25000/25000 [==============================] - 32s 1ms/step - loss: 0.1775 - acc: 0.9226 - val_loss: 0.6703 - val_acc: 0.6808\n",
      "Epoch 17/20\n",
      "25000/25000 [==============================] - 33s 1ms/step - loss: 0.2060 - acc: 0.9175 - val_loss: 0.8986 - val_acc: 0.6801\n",
      "Epoch 18/20\n",
      "25000/25000 [==============================] - 35s 1ms/step - loss: 0.1157 - acc: 0.9582 - val_loss: 1.1130 - val_acc: 0.6410\n",
      "Epoch 19/20\n",
      "25000/25000 [==============================] - 34s 1ms/step - loss: 0.1006 - acc: 0.9630 - val_loss: 1.1632 - val_acc: 0.6598\n",
      "Epoch 20/20\n",
      "25000/25000 [==============================] - 33s 1ms/step - loss: 0.0769 - acc: 0.9732 - val_loss: 1.2647 - val_acc: 0.6527\n"
     ]
    },
    {
     "data": {
      "text/plain": [
       "<keras.callbacks.History at 0x20a40e4d2b0>"
      ]
     },
     "execution_count": 7,
     "metadata": {},
     "output_type": "execute_result"
    }
   ],
   "source": [
    "model.fit(x_train, y_train, batch_size=128, epochs=20, verbose=1, validation_data=(x_valid, y_valid), callbacks=[modelcheckpoint])"
   ]
  },
  {
   "cell_type": "markdown",
   "metadata": {},
   "source": [
    "### Model Evaluation"
   ]
  },
  {
   "cell_type": "code",
   "execution_count": 8,
   "metadata": {},
   "outputs": [],
   "source": [
    "model.load_weights(output_dir+\"weights.09.hdf5\")\n",
    "y_hat = model.predict_proba(x_valid)"
   ]
  },
  {
   "cell_type": "code",
   "execution_count": 9,
   "metadata": {},
   "outputs": [
    {
     "data": {
      "image/png": "[encoded data removed]",
      "text/plain": [
       "<Figure size 432x288 with 1 Axes>"
      ]
     },
     "metadata": {
      "needs_background": "light"
     },
     "output_type": "display_data"
    }
   ],
   "source": [
    "plt.hist(y_hat)\n",
    "_ = plt.axvline(x=0.5, color='orange')"
   ]
  },
  {
   "cell_type": "code",
   "execution_count": 10,
   "metadata": {},
   "outputs": [
    {
     "data": {
      "text/plain": [
       "'74.32'"
      ]
     },
     "execution_count": 10,
     "metadata": {},
     "output_type": "execute_result"
    }
   ],
   "source": [
    "\"{:0.2f}\".format(roc_auc_score(y_valid, y_hat)*100.0)"
   ]
  }
 ],
 "metadata": {
  "kernelspec": {
   "display_name": "Python 3",
   "language": "python",
   "name": "python3"
  },
  "language_info": {
   "codemirror_mode": {
    "name": "ipython",
    "version": 3
   },
   "file_extension": ".py",
   "mimetype": "text/x-python",
   "name": "python",
   "nbconvert_exporter": "python",
   "pygments_lexer": "ipython3",
   "version": "3.6.8"
  }
 },
 "nbformat": 4,
 "nbformat_minor": 2
}
