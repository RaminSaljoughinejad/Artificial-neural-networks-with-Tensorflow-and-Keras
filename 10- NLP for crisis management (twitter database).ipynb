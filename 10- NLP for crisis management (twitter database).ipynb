{
 "cells": [
  {
   "cell_type": "markdown",
   "metadata": {},
   "source": [
    "# NLP for crisis management (twitter dataset)"
   ]
  },
  {
   "cell_type": "markdown",
   "metadata": {},
   "source": [
    "### Loading CSv Dependencies and Datas"
   ]
  },
  {
   "cell_type": "code",
   "execution_count": 1,
   "metadata": {},
   "outputs": [],
   "source": [
    "import csv\n",
    "csv_file = open(\"socialmedia-disaster-tweets-DFE.csv\", encoding=\"utf8\")\n",
    "csv_reader = csv.DictReader(csv_file, delimiter=',')"
   ]
  },
  {
   "cell_type": "markdown",
   "metadata": {},
   "source": [
    "### Preprocessing Data"
   ]
  },
  {
   "cell_type": "code",
   "execution_count": 2,
   "metadata": {},
   "outputs": [
    {
     "name": "stdout",
     "output_type": "stream",
     "text": [
      "10877 Lines processed---END of File\n"
     ]
    }
   ],
   "source": [
    "my_data = []\n",
    "x = 1\n",
    "for row in csv_reader:\n",
    "    my_data.append([row['choose_one'],row['text']])\n",
    "    x+=1\n",
    "print(x,\"Lines processed---END of File\")"
   ]
  },
  {
   "cell_type": "markdown",
   "metadata": {},
   "source": [
    "#### Creating a list of Classes"
   ]
  },
  {
   "cell_type": "code",
   "execution_count": 3,
   "metadata": {},
   "outputs": [
    {
     "name": "stdout",
     "output_type": "stream",
     "text": [
      "['Relevant', 'Not Relevant', \"Can't Decide\"]\n"
     ]
    }
   ],
   "source": [
    "data_types = []\n",
    "for items in my_data:\n",
    "    if items[0] not in data_types:\n",
    "        data_types.append(items[0])\n",
    "print(data_types)"
   ]
  },
  {
   "cell_type": "markdown",
   "metadata": {},
   "source": [
    "#### Flagging datas into two classes. Relevent - Not Relevant"
   ]
  },
  {
   "cell_type": "code",
   "execution_count": 4,
   "metadata": {},
   "outputs": [
    {
     "name": "stdout",
     "output_type": "stream",
     "text": [
      "[[1, 'Just happened a terrible car crash'], [1, 'Our Deeds are the Reason of this #earthquake May ALLAH Forgive us all'], [1, 'Heard about #earthquake is different cities, stay safe everyone.'], [1, 'there is a forest fire at spot pond, geese are fleeing across the street, I cannot save them all'], [1, 'Forest fire near La Ronge Sask. Canada']]\n"
     ]
    }
   ],
   "source": [
    "x = 0\n",
    "for items in my_data:\n",
    "    if items[0]==\"Relevant\":\n",
    "        my_data[x][0]=1\n",
    "    elif items[0]==\"Not Relevant\":\n",
    "        my_data[x][0]=0\n",
    "    else:\n",
    "        my_data[x][0]=2\n",
    "    x+=1\n",
    "edited_data = []\n",
    "for items in my_data:\n",
    "    if items[0]!=2:\n",
    "        edited_data.append(items)\n",
    "my_data = edited_data\n",
    "print(my_data[0:5])"
   ]
  },
  {
   "cell_type": "markdown",
   "metadata": {},
   "source": [
    "#### Loading NLTK Dependencies and Datas"
   ]
  },
  {
   "cell_type": "code",
   "execution_count": 5,
   "metadata": {},
   "outputs": [
    {
     "name": "stderr",
     "output_type": "stream",
     "text": [
      "[nltk_data] Downloading package punkt to\n",
      "[nltk_data]     C:\\Users\\Ramin\\AppData\\Roaming\\nltk_data...\n",
      "[nltk_data]   Package punkt is already up-to-date!\n"
     ]
    }
   ],
   "source": [
    "import nltk\n",
    "nltk.download('punkt')\n",
    "from nltk.tokenize import word_tokenize\n",
    "from nltk.corpus import stopwords"
   ]
  },
  {
   "cell_type": "markdown",
   "metadata": {},
   "source": [
    "#### Replacing URLs with 'HTTP'"
   ]
  },
  {
   "cell_type": "code",
   "execution_count": 6,
   "metadata": {},
   "outputs": [
    {
     "name": "stdout",
     "output_type": "stream",
     "text": [
      "[[1, 'Just happened a terrible car crash'], [1, 'Our Deeds are the Reason of this #earthquake May ALLAH Forgive us all'], [1, 'Heard about #earthquake is different cities, stay safe everyone.'], [1, 'there is a forest fire at spot pond, geese are fleeing across the street, I cannot save them all'], [1, 'Forest fire near La Ronge Sask. Canada']]\n"
     ]
    }
   ],
   "source": [
    "x=0\n",
    "for items in my_data:\n",
    "    sent=\"\"\n",
    "    word = \"\"\n",
    "    for mychar in items[1]:\n",
    "        if(mychar==\" \"):\n",
    "            if 'http' in word:\n",
    "                word = \"HTTP\"\n",
    "                sent+=word + \" \"\n",
    "                word=\"\"\n",
    "            else:\n",
    "                sent+=word + \" \"\n",
    "                word = \"\"\n",
    "        else:\n",
    "            word+=mychar\n",
    "    if 'http' not in word:\n",
    "        sent+=word\n",
    "    else:\n",
    "        sent+=\"HTTP\"\n",
    "    #print(sent)\n",
    "    my_data[x][1]=sent\n",
    "    x+=1\n",
    "print(my_data[0:5])"
   ]
  },
  {
   "cell_type": "markdown",
   "metadata": {},
   "source": [
    "#### Replacing User_Ids with 'userID'"
   ]
  },
  {
   "cell_type": "code",
   "execution_count": 7,
   "metadata": {},
   "outputs": [
    {
     "name": "stdout",
     "output_type": "stream",
     "text": [
      "[[1, 'Just happened a terrible car crash'], [1, 'Our Deeds are the Reason of this #earthquake May ALLAH Forgive us all'], [1, 'Heard about #earthquake is different cities, stay safe everyone.'], [1, 'there is a forest fire at spot pond, geese are fleeing across the street, I cannot save them all'], [1, 'Forest fire near La Ronge Sask. Canada']]\n"
     ]
    }
   ],
   "source": [
    "x=0\n",
    "for items in my_data:\n",
    "    sent=\"\"\n",
    "    word = \"\"\n",
    "    for mychar in items[1]:\n",
    "        if(mychar==\" \"):\n",
    "            if '@' in word:\n",
    "                word = \"userID\"\n",
    "                sent+=word + \" \"\n",
    "                word=\"\"\n",
    "            else:\n",
    "                sent+=word + \" \"\n",
    "                word = \"\"\n",
    "        else:\n",
    "            word+=mychar\n",
    "    if '@' not in word:\n",
    "        sent+=word\n",
    "    else:\n",
    "        sent+=\"userID\"\n",
    "    #print(sent)\n",
    "    my_data[x][1]=sent\n",
    "    x+=1\n",
    "print(my_data[0:5])"
   ]
  },
  {
   "cell_type": "markdown",
   "metadata": {},
   "source": [
    "#### Removing Punctuation\n",
    "Exeption: periods, semicolons, question and exclamation marks"
   ]
  },
  {
   "cell_type": "code",
   "execution_count": 8,
   "metadata": {},
   "outputs": [
    {
     "name": "stdout",
     "output_type": "stream",
     "text": [
      "[[1, 'Just happened a terrible car crash'], [1, 'Our Deeds are the Reason of this  earthquake May ALLAH Forgive us all'], [1, 'Heard about  earthquake is different cities  stay safe everyone.'], [1, 'there is a forest fire at spot pond  geese are fleeing across the street  I cannot save them all'], [1, 'Forest fire near La Ronge Sask. Canada']]\n"
     ]
    }
   ],
   "source": [
    "punctuation_list = [\"@\",\"$\",\"%\",\"^\",\"&\",\"*\",\"(\",\")\",\"<\",\">\",\":\",\"\\n\",\",\",\"~\",\"=\",\"'\",\"#\",\"-\",\"_\",\"+\",\"/\"]\n",
    "x =0\n",
    "for items in my_data:\n",
    "    sent=\"\"\n",
    "    for char in items[1]:\n",
    "        if char not in punctuation_list:\n",
    "            sent+=char\n",
    "        else:\n",
    "            sent+=\" \"\n",
    "    my_data[x][1]=sent\n",
    "    #print(sent)\n",
    "    sent=\"\"\n",
    "    x+=1\n",
    "print(my_data[0:5])"
   ]
  },
  {
   "cell_type": "markdown",
   "metadata": {},
   "source": [
    "#### Replacing Digits with 'D'"
   ]
  },
  {
   "cell_type": "code",
   "execution_count": 9,
   "metadata": {},
   "outputs": [
    {
     "name": "stdout",
     "output_type": "stream",
     "text": [
      "[[1, 'Just happened a terrible car crash'], [1, 'Our Deeds are the Reason of this  earthquake May ALLAH Forgive us all'], [1, 'Heard about  earthquake is different cities  stay safe everyone '], [1, 'there is a forest fire at spot pond  geese are fleeing across the street  I cannot save them all'], [1, 'Forest fire near La Ronge Sask  Canada'], [1, 'All residents asked to  shelter in place  are being notified by officers  No other evacuation or shelter in place orders are expected'], [1, 'D D people receive  wildfires evacuation orders in California '], [1, 'Just got sent this photo from Ruby  Alaska as smoke from  wildfires pours into a school '], [1, ' RockyFire Update    California Hwy  D closed in both directions due to Lake County fire    CAfire  wildfires'], [1, 'Apocalypse lighting   Spokane  wildfires']]\n"
     ]
    }
   ],
   "source": [
    "x=0\n",
    "for items in my_data:\n",
    "    sent=\"\"\n",
    "    word = \"\"\n",
    "    for mychar in items[1]:\n",
    "        if(mychar==\" \"):\n",
    "            if word.isnumeric():\n",
    "                word = \"D\"\n",
    "                sent+=word + \" \"\n",
    "                word=\"\"\n",
    "            else:\n",
    "                sent+=word + \" \"\n",
    "                word = \"\"\n",
    "        elif(mychar==\".\"):\n",
    "            if not(word.isnumeric()):\n",
    "                sent+=word + \" \"\n",
    "                word = \"\" \n",
    "        else:\n",
    "            word+=mychar\n",
    "    if not(word.isnumeric()):\n",
    "        sent+=word\n",
    "    else:\n",
    "        sent+=\"D\"\n",
    "    #print(sent)\n",
    "    my_data[x][1]=sent\n",
    "    x+=1\n",
    "print(my_data[0:10])"
   ]
  },
  {
   "cell_type": "markdown",
   "metadata": {},
   "source": [
    "#### Removing unnecessary spaces >1"
   ]
  },
  {
   "cell_type": "code",
   "execution_count": 10,
   "metadata": {},
   "outputs": [
    {
     "name": "stdout",
     "output_type": "stream",
     "text": [
      "[[1, 'Just happened a terrible car crash'], [1, 'Our Deeds are the Reason of this earthquake May ALLAH Forgive us all'], [1, 'Heard about earthquake is different cities stay safe everyone '], [1, 'there is a forest fire at spot pond geese are fleeing across the street I cannot save them all'], [1, 'Forest fire near La Ronge Sask Canada'], [1, 'All residents asked to shelter in place are being notified by officers No other evacuation or shelter in place orders are expected'], [1, 'D D people receive wildfires evacuation orders in California '], [1, 'Just got sent this photo from Ruby Alaska as smoke from wildfires pours into a school '], [1, ' RockyFire Update California Hwy D closed in both directions due to Lake County fire CAfire wildfires'], [1, 'Apocalypse lighting Spokane wildfires']]\n"
     ]
    }
   ],
   "source": [
    "x=0\n",
    "for items in my_data:\n",
    "    sent=\"\"\n",
    "    pre_char=\"\"\n",
    "    for char in items[1]:\n",
    "        if char == \" \":\n",
    "            if pre_char != \" \":\n",
    "                pre_char = \" \"\n",
    "                sent+=char\n",
    "        else:\n",
    "            pre_char = char\n",
    "            sent+=char\n",
    "    #print(sent)\n",
    "    my_data[x][1]=sent\n",
    "    x+=1\n",
    "    sent=\"\"\n",
    "    pre_char=\"\"\n",
    "print(my_data[0:10])"
   ]
  },
  {
   "cell_type": "markdown",
   "metadata": {},
   "source": [
    "#### All senteces to lowercase"
   ]
  },
  {
   "cell_type": "code",
   "execution_count": 11,
   "metadata": {},
   "outputs": [],
   "source": [
    "x = 0\n",
    "for items in my_data:\n",
    "    sent = \"\"\n",
    "    for chars in items[1]:\n",
    "        sent+=chars.lower()\n",
    "    #print(sent)\n",
    "    my_data[x][1]=sent\n",
    "    sent=\"\"\n",
    "    x+=1"
   ]
  },
  {
   "cell_type": "markdown",
   "metadata": {},
   "source": [
    "#### Creating keys of words"
   ]
  },
  {
   "cell_type": "code",
   "execution_count": 12,
   "metadata": {},
   "outputs": [
    {
     "data": {
      "text/plain": [
       "18182"
      ]
     },
     "execution_count": 12,
     "metadata": {},
     "output_type": "execute_result"
    }
   ],
   "source": [
    "keys = []\n",
    "keys.append('pad')\n",
    "indexed_data = my_data\n",
    "x=0\n",
    "for items in my_data:\n",
    "    tokenized_sent = word_tokenize(items[1])\n",
    "    #print(tokenized_sent)\n",
    "    new_sent=\"\"\n",
    "    for eachItem in tokenized_sent:\n",
    "        if eachItem not in keys:\n",
    "            keys.append(eachItem)\n",
    "            new_sent += str(keys.index(eachItem))+\" \"\n",
    "        else:\n",
    "            new_sent += str(keys.index(eachItem))+\" \"\n",
    "    #print(new_sent)\n",
    "    indexed_data[x][1]=new_sent\n",
    "    x+=1\n",
    "#print(indexed_data)\n",
    "len(keys)"
   ]
  },
  {
   "cell_type": "code",
   "execution_count": 13,
   "metadata": {},
   "outputs": [
    {
     "name": "stdout",
     "output_type": "stream",
     "text": [
      "['pad', 'just', 'happened', 'a', 'terrible', 'car', 'crash', 'our', 'deeds', 'are', 'the', 'reason', 'of', 'this', 'earthquake', 'may', 'allah', 'forgive', 'us', 'all', 'heard', 'about', 'is', 'different', 'cities', 'stay', 'safe', 'everyone', 'there', 'forest', 'fire', 'at', 'spot', 'pond', 'geese', 'fleeing', 'across', 'street', 'i', 'can', 'not', 'save', 'them', 'near', 'la', 'ronge', 'sask', 'canada', 'residents', 'asked', 'to', 'shelter', 'in', 'place', 'being', 'notified', 'by', 'officers', 'no', 'other', 'evacuation', 'or', 'orders', 'expected', 'd', 'people', 'receive', 'wildfires', 'california', 'got', 'sent', 'photo', 'from', 'ruby', 'alaska', 'as', 'smoke', 'pours', 'into', 'school', 'rockyfire', 'update', 'hwy', 'closed', 'both', 'directions', 'due', 'lake', 'county', 'cafire', 'apocalypse', 'lighting', 'spokane', 'flood', 'disaster', 'heavy', 'rain', 'causes', 'flash', 'flooding', 'streets', 'manitou', 'colorado', 'springs', 'areas', 'typhoon', 'soudelor', 'kills', 'china', 'and', 'taiwan', 'we', 're', 'shaking', 'it', 's', 'an', 'm', 'on', 'top', 'hill', 'see', 'woods', 'emergency', 'happening', 'now', 'building', 'afraid', 'that', 'tornado', 'coming', 'area', 'three', 'died', 'heat', 'wave', 'so', 'far', 'haha', 'south', 'tampa', 'getting', 'flooded', 'hah', 'wait', 'second', 'live', 'what', 'am', 'gon', 'na', 'do', 'fvck', 'raining', 'florida', 'tampabay', 'days', 've', 'lost', 'count', 'bago', 'myanmar', 'arrived', 'damage', 'bus', 'multi', 'breaking', 'they', 'probably', 'still', 'show', 'more', 'life', 'than', 'arsenal', 'did', 'yesterday', 'eh', '?', 'hey', '!', 'how', 'you', 'up', 'man', 'love', 'fruits', 'summer', 'lovely', 'my', 'fast', 'nice', 'hat', 'goooooooaaaaaal', 'fuck', 'off', 'don', 't', 'like', 'cold', 'ridiculous', 'london', 'cool', ';', 'skiing', 'wonderful', 'day', 'nooooooooo', 'looooool', 'way', 'eat', 'shit', 'was', 'nyc', 'last', 'week', 'girlfriend', 'cooool', 'pasta', 'tell', 'me', 'if', 'end', 'awesome', 'birmingham', 'wholesale', 'market', 'ablaze', 'bbc', 'news', 'breaks', 'out', 'http', 'userid', 'will', 'wear', 'shorts', 'for', 'race', 'markets', 'always', 'try', 'bring', 'metal', 'rt', 'africanbaze', 'nigeria', 'flag', 'set', 'aba', 'previouslyondoyintv', 'toke', 'makinwa‰ûªs', 'marriage', 'crisis', 'sets', 'nigerian', 'twitter', 'crying', 'plus', 'side', 'look', 'sky', 'night', 'mufc', 'built', 'much', 'hype', 'around', 'new', 'acquisitions', 'but', 'doubt', 'epl', 'season', 'inec', 'office', 'abia', 'barbados', 'bridgetown', 'jamaica', '‰ûò', 'two', 'cars', 'santa', 'cruz', '‰ûó', 'head', 'st', 'elizabeth', 'police', 'superintende', 'lord', 'check', 'these', 'nsfw', 'psa', 'i‰ûªm', 'splitting', 'personalities', 'techies', 'follow', 'burners', 'outside', 'alive', 'dead', 'inside', 'had', 'time', 'visiting', 'cfc', 'ancop', 'site', 'thanks', 'tita', 'vida', 'taking', 'care', 'soooo', 'pumped', 'wanted', 'chicago', 'with', 'preaching', 'hotel', 'gained', 'followers', 'know', 'your', 'stats', 'grow', 'west', 'burned', 'thousands', 'alone', 'perfect', 'tracklist', 'leave', 'beware', 'world', 'sierra', 'leone', 'amp', 'guap', 'burning', 'turban', 'diva', 'via', 'first', 'retainers', 'quite', 'weird', 'better', 'get', 'used', 'have', 'every', 'single', 'next', 'year', 'least', 'diss', 'song', 'take', 'thing', 'run', 'smh', 'eye', 'opener', 'though', 'he', 'game', 'deputies', 'shot', 'before', 'brighton', 'home', 'wife', 'six', 'years', 'jail', 'setting', 'rape', 'victim', 'dies', 'she', 'herself', 'old', 'girl', 'burn', 'injuries', 'ablaze‰û', 'superintendent', 'lanford', 'salmon', 'has', 'r', 'arsonist', 'deliberately', 'black', 'church', 'north', 'carolinaåêablaze', 'noches', 'el', 'bestia', 'happy', 'teammates', 'training', 'hard', 'goodnight', 'gunners', 'kurds', 'trampling', 'turkmen', 'later', 'while', 'others', 'vandalized', 'offices', 'front', 'diyala', 'truck', 'r21', 'voortrekker', 'ave', 'tambo', 'intl', 'cargo', 'section', 'hearts', 'city', 'gift', 'skyline', 'kiss', 'upon', 'lips', 'tonight', 'los', 'angeles', 'expecting', 'ig', 'fb', 'be', 'filled', 'sunset', 'shots', 'peeps', 'climate', 'energy', 'myself', 'revel', 'yours', 'wmv', 'videos', 'means', 'mac', 'farewell', 'en', 'route', 'dvd', 'gtxrwm', 'progressive', 'greetings', 'month', 'students', 'would', 'their', 'pens', 'torch', 'publications', 'bins', 'field', 'house', 'wer', 'flames', 'went', 'rite', 'hydro', 'pole', 'wonder', 'him', 'nowplaying', 'alfons', 'puls', 'radio', 'pulsradio', 'rene', 'jacinta', 'secret', '2k13', 'fallen', 'skies', 'edit', 'mar', 'rahm', 'let', 'hope', 'hall', 'builds', 'giant', 'wooden', 'mayoral', 'effigy', 'feet', 'tall', 'steve', 'fires', 'here', 'something', 'else', 'tinderbox', 'clown', 'hood', 'ian', 'buff', 'magnitude', 'edm', 'huge', 'hurt', 'her', 'eyes', 'insulted', 'anger', 'does', 'talk', 'go', 'until', 'make', 'work', 'kids', 'cuz', 'bicycle', 'accident', 'split', 'testicles', 'impossible', 'michael', 'father', 'w', 'nashvilletraffic', 'traffic', 'moving', '8m', 'slower', 'usual', 'center', 'lane', 'blocked', 'santaclara', 'nb', 'great', 'america', 'pkwy', 'bayarea', 'cleared', 'paturnpike', 'patp', 'eb', 'between', 'pa', 'cranberry', 'slow', 'back', 'personalinjury', 'read', 'advice', 'solicitor', 'help', 'otleyhour', 'self', 'damn', 'curling', 'wand', 'swear', 'someone', 'needs', 'away', 'cuase', 'prone', 'stlouis', 'caraccidentlawyer', 'speeding', 'among', 'teen', 'accidents', 'tee‰û', 'hate', 'badging', 'reported', 'motor', 'vehicle', 'curry', 'herman', 'rd', 'stephenson', 'involving', 'overturned', 'please', 'use', 'bigrigradio', 'awareness', 'recorder', 'zeroedgeå¨', 'dual', 'lens', 'camera', 'driving', 'history', 'camcorder', 'large', 'mile', 'marker', 'mooresville', 'iredell', 'ramp', 'pm', 'coincidence', 'curse', 'unresolved', 'secrets', 'past', 'sleeping', 'pills', 'double', 'risk', 'knew', 'happen', 'a27', 'lewes', 'kingston', 'roundabout', 'rather', 'a283', 'n', 'cabrillo', 'magellan', 'av', 'mir', 'congestion', 'pastor', 'scene', 'who', 'owner', 'range', 'rover', 'pretend', 'feel', 'certain', 'feeling', 'become', 'genuine', 'hei', 'darker', 'manga', 'anime', 'legal', 'medical', 'referral', 'service', 'call', 'slipandfall', 'dogbite', 'mom', 'didn', 'wished', 'why', 'some', 'spilt', 'mayonnaise', 'over', 'horrible', 'sunday', 'finally', 'able', 'thank', 'god', 'pissed', 'donnie', 'when', 'another', 'truckcrash', 'overturns', 'fortworth', 'interstate', 'click', 'been', 'ashville', 'sb', 'sr', 'construction', 'guy', 'working', 'disney', 'store', 'gauges', 'his', 'ears', 'bloody', 'waiting', 'going', 'teesha', 'come', 'm42', 'northbound', 'junctions', 'j3', 'j3a', 'currently', 'delays', 'mins', 'c', 'say', 'met', 'super', 'jelly', 'dave', 'p', 'carolina', 'motorcyclist', 'crossed', 'median', 'motorcycle', 'rider', 'traveling', 'hit', 'block', 'se', 'vista', 'ter', 'gresham', '[', 'pg15000044357', ']', 'pdx911', 'fyi', 'cad', 'property', 'nhs', '999', 'piner', 'horndale', 'dr', 'naayf', 'turning', 'onto', 'chandanee', 'magu', 'mma', 'taxi', 'rammed', 'halfway', 'turned', 'conf‰û', 'left', 'manchester', 'eddy', 'stop', 'nh', '3a', 'delay', 'wpd', '1600', '17th', 'injury', 'willis', 'foreman', 'aashiqui', 'actress', 'anu', 'aggarwal', 'fatal', 'suffield', 'alberta', 'backup', 'blocking', 'right', 'lanes', 'exit', 'langtree', 'consider', 'nc', 'alternate', 'changed', 'determine', 'options', 'financially', 'support', 'plans', 'treatment', 'deadly', 'hagerstown', 'today', 'll', 'details', 'whag', 'were', 'marinading', 'donate', 'spread', 'word', 'vaulter', 'kira', 'grì', 'nberg', 'paraplegic', 'only', 'even', 'fucking', 'mfs', 'drive', 'bahrain', 'previously', 'road', 'killed', 'explosion', 'leaders', 'kenya', 'forward', 'comment', 'issue', 'disciplinary', 'measures', 'arrestpastornganga', 'scuf', 'ps', 'cya', 'share', 'page', 'indoor', 'trampoline', 'park', 'aftershock', 'opening', 'fall', 'foi', 'roh', 'las', 'vegas', 'procura', 'pirate', 'bay', 'que', 'tem', 'himself', 'further', 'once', 'effort', 'gets', 'painful', 'win', 'roger', 'bannister', 'schoolboy', 'original', 'mix', 'excision', 'skism', 'sexism', 'too', 'loud', 'remix', 'firebeatz', 'schella', 'dear', 'ir', 'icemoon', '|', 'dubstep', 'trapmusic', 'dnb', 'dance', 'ices‰û', 'victory', 'bargain', 'basement', 'prices', 'dwight', 'david', 'eisenhower', 'nepal', 'int', 'l', 'team', '1st', 'responders', 'chief', 'collins', 'nobody', 'remembers', 'came', 'charles', 'schulz', 'im', 'speaking', 'using', 'xb1', 'most', 'also', 'harder', 'conflict', 'glorious', 'triumph', 'thomas', 'paine', 'growingupspoiled', 'clay', 'pigeon', 'shooting', 'because', 'guess', 'one', 'actually', 'wants', 'any', 'free', 'tc', 'terrifying', 'best', 'roller', 'coaster', 'ever', 'disclaimer', 'very', 'few', 'saying', 'wish', 'start', 'unknown', 'want', 'october', 'bands', 'listen', 'nxt', 'afford', 'yet', 'gradschoolapps', 'living', 'hiroshima', 'scars', 'edward', 'bond', 'seeing', 'issues', 'wisdomwed', 'bonus', 'minute', 'daily', 'habits', 'could', 'really', 'improve', 'many', 'already', 'lifehacks', 'protect', 'yourself', 'profit', 'global', 'financial', 'meltdown', 'wiedemer', 'moment', 'scary', 'behind', 'screaming', 'murder', 'silverwood', '‰ã¢', 'full‰ã¢', 'streaming', 'youtube', 'gt', 'book', 'sometimes', 'face', 'difficulties', 'doing', 'wrong', 'joel', 'osteen', 'stands', 'dream', 'belief', 'possible', 'brown', 'praise', 'ministry', 'tells', 'wdyouth', 'biblestudy', 'remembering', 'die', 'avoid', 'trap', 'thinking', 'lose', 'jobs', 'tried', 'orange', 'never', 'same', 'bo2', 'competitive', 'maps', 'imo', 'bo3', 'invahnwetrust', 'bb', 'brass', 'copper', 'cataclysm', 'should', 'variation', 'counters', 'play', 'style', 'kick', 'making', 'done', 'interrupt', 'those', 'george', 'bernard', 'shaw', 'oyster', 'shell', 'andrew', 'carnegie', 'anyone', 'need', 'u', 'hybrid', 'slayer', 'ps4', 'eu', 'hmu', 'experts', 'france', 'begin', 'examining', 'airplane', 'debris', 'found', 'reunion', 'island', 'french', 'air', 'o', 'strict', 'liability', 'context', 'pilot', 'error', 'common', 'component', 'aviation', 'cr', 'lifetime', 'odds', 'dying', 'wedn', 'carelessness', 'leads', 'seek', 'compensation', 'damages', 'awwww', 'cuties', 'good', 'job', 'guys', 'regarding', 'lol', 'became', 'fan', 'sending', 'cali', 'family', 'members', 'osama', 'bin', 'laden', 'ironic', 'mhmmm', 'gov', 'suspect', 'goes', 'engine', 'wings', 'fifteen', 'ago', 'hihow', 'keio', 'line', 'stationright', 'btw', 'chofu', 'airport', 'cessna', 'ocampo', 'coahuila', 'mexico', 'july', 'four', 'men', 'including', 'state', 'government', 'official', 'watchthevideo', 'wednesday‰û', 'wednesday', 'began', 'kca', 'votejkt48id', 'mbataweel', 'rip', 'binladen', 'almost', 'coworker', 'nudes', 'mode', 'mexican', 'mx', 'subsecretariat', 'francisco', 'garcia', 'castells', 'age', 'might', 'wreck', 'politics', 'mlb', 'airplaneåê', 'unbelievably', 'insane', 'aircraft', 'aeroplane', 'runway', 'freaky‰û', 'usama', 'ladins', 'naturally', 'plane', 'festival', 'death', 'carfest', 'idc', 'rest', 'luggage', 'completely', 'destroyed', 'makeup', 'dtn', 'brazil', 'exp', 'picture', 'penn', 'twp', 'judge', 'ruled', 'jfk', 'korean', '‰ûïairplane‰û\\x9d', 'wtf', 'can‰ûªt', 'believe', 'nicole', 'fletcher', 'crashed', 'times', 'little', 'bit', 'trauma', 'although', 'baseball', 'its', 'greats', 'captain', 'yankees', 'omg', 'breakingnews', 'e', 'bro', 'jetengine', 'turbojet', 'boing', 'g90', 'phone', 'looks', 'ship', 'statistically', 'cop', 'crashes', 'colombia', 'drone', 'cause', 'pilots', 'worried', 'drones', 'esp', 'close', 'vicinity', 'airports', 'early', 'wake', 'sister', 'begging', 'ride', 'ambulance', 'hospital', 'rodkiai', 'twelve', 'feared', 'pakistani', 'helicopter', 'ambulances', 'serious', 'lorry', 'emsne‰û', 'reuters', 'yugvani', 'leading', 'services', 'boss', 'welcomes', 'charity', 'travelling', 'aberystwyth', 'shrewsbury', 'incident', 'halt', 'shrews', 'sprinter', 'automatic', 'frontline', 'choice', 'lez', 'compliant', 'ebay', 'send', 'nanotech', 'device', 'target', 'destroy', 'blood', 'clots', 'hella', 'crazy', 'fights', 'couple', 'mosh', 'pits', 'isn', 'parked', 'well', 'nearly', 'laughing', 'lucky', 'justsaying', 'randomthought', 'til', 'dna', 'ok', 'hahahah', 'pakistan', 'nine', 'nissan', 'assistance', 'ems1', 'ny', 'emts', 'petition', 'per', 'hour', '‰û÷minimum', 'wage‰ûª', 'ems', 'paramedics', 'parking', 'lot', 'said', 'johns', 'which', 'lt', 'cuffs', 'after', 'involved', 'told', 'treat', 'fag', 'rainbowpower', 'dog', 'thinks', 'hatzolah', 'responding', 'sirens', 'and‰û', 'science', 'medic', 'supplies', 'dad', 'held', 'heroin', 'worldnews', 'number', 'lesotho', 'body', 'surprised', 'standardised', 'clinical', 'practice', 'trust', 'transfer', 'miles', 'cost', '29800', 'j', 'walk', 'passing', 'privileged', 'proud', 'uniform', 'gayuk', 'whatsyouremergency', 'episode', 'where', 'trunks', 'annihilated', 'freiza', 'cleanest', 'showed', 'nigga', 'mercy', 'shall', 'petebests', 'dessicated', 'laid', 'bare', 'then', 'kneel', 'uribe', 'mets', 'sundowns', 'previous', 'meeting', 'celtic', 'indeed', 'improvement', 'bartender', 'described', 'drunk', 'mizzou', 'seasons', 'ended', 'muschamp', 'career', 'compete', 'bama', 'abs', 'status', 'education', 'mba', 'behalf', 'easy', 'careen', 'eovm', 'pulls', 'driver', 'safety', 'seconds', 'train', 'sincerety', 'think', 'un', 'move', 'israel', 'fraction', 'chance', 'luka', 'everything', 'alois', 'trancy', 'stage', 'drama', 'queen', 'stand', 'certainly', 'fella', 'sorry', 'won', 'handplacementgoals', 'hashtag', 'must', 'boom', 'country', 'entirely', 'h‰û', 'britain', 'sure', 'promised', 'horror', 'iran', 'nukes', 'step', 'mosquitoes', 'armenians', 'since', 'spent', 'yiayplan', 'strike', 'dreamworks', 'minions', 'instantly', 'aware', 'ability', 'annihilate', 'whole', 'humanity', 'tryouts', 'minus', 'fact', 'stopped', 'quickly', 'short', 'ball', 'toenail', 'during', '1960s', 'oryx', 'symbol', 'arabian', 'peninsula', 'hunters', 'nature', 'appropriates', 'beloved', 'shred', 'psych', 'friendship', 'example', 'y', 'conservatives', 'burton', 'v', 'wiimington', 'prkng', 'auth', 'liberals', 'stood', 'nothing', 'aug', '1915‰ûókaiserjaegers', 'wiped', 'francis', 'joseph', 'crack', 'regiment', 'carso', 'ready', 'bucs', 'nights', 'weather', 'philip', 'thought', 'forecast', 'domain', 'sophistication', 'closely', 'feat', 'zrnf', 'seen', 'judas', 'priest', 'rob', 'scorpions', 'astonishing', 'gig', 'officially', 'skipping', 'fantasticfour', 'fant4stic', 'whatever', 'reviews', 'bummer', 'thus', 'explaining', 'case', 'survivor', 'evolved', 'godlike', 'cech', 'paul', 'keegan', 'legion', 'itself', 'survivors', 'imperfect', 'project', 'formed', 'cell', 'exactly', 'lesnar', 'cena', 'match', 'summerslam', 'brock', 'brooo', 'damascus', 'syrian', 'army', 'grinds', '‰û÷alloosh', 'gang', 'manure', 'wasn', 'forthright', 'food', 'coma', 'bc', 'kebab', 'tahini', 'pickles', 'fries', 'needed', 'dd', 'gmcr', 'longe', 'rgreen', 'mountain', 'red', 'stock', 'hours', 'fun', 'simmons', 'bar', 'camden', 'handsome', 'apart', 'juanny', 'beisbol', 'lgm', 'hell', 'total', 'annihilation', 'destruction', 'usa', 'maybe', 'pres', 'sold', 'down', 'river', 'evildead', 'civilization', 'national', 'tonto', 'salt', 'wild', 'horse', 'sign', 'saltriverwildhorses', 'allied', 'german', 'nizer', 'interesting', 'annihilating', 'quarterstaff', 'vs', 'transformation', 'aliens', 'attack', 'exterminate', 'humans', 'starmade', 'stardate', 'planetary', 'horses', 'arizona', 'without', 'signatures', 'change', 'org', 'thx', 'souls', 'punished', 'withåêannihilation', 'mention', 'major', 'contributor', 'voice', 'gilbert23', 'latest', 'updates', 'round', 'reject', 'laws', 'misguided', 'false', 'prophets', 'imprison', 'nations', 'fueling', 'jeb', 'christie', 'kasich', 'less', 'allow', 'full', 'silent', 'planet', 'print', 'audio', 'urgent', 'savewildhorses', 'saltriverhorses', 'iced', 'under', 'sonia', 'gandhi', 'defeat', 'treated', 'az', 'wildhorses', 'tantonationalforest', 'sing', 'long', 'order', 'current', 'nova', 'bookslast', 'checked', 'tied', 'books', 'dante', 'join', 'following', 'zone', 'johnny', 'fight', 'taylor', 'soon', 'ohh', 'fukurodani', 'survive', 'bokuto', 'feels', 'poor', 'boy', 'ppor', 'child', 'jocelyn', 'birthday', 'si', 'signs', 'liked', 'video', 'futuristic', 'minecraft', 'janenelson097', 'stephenscifi', 'adaptation', 'watch', 'charlie', 'human', 'optioned', 'film', 'sciencefiction', '‰û', 'mod', 'bob', 'wither', 'showcase', 'august', '02pm', 'zombie', '2014', 'internetradio', 'collegeradi‰û', 'reasons', 'big', 'rr', 'miss', 'meals', 'comes', 'pass', 'cue', 'script', 'pull', 'stages', 'kinda', 'hot', 'played', 'disease', 'started', 'careful', 'askconnor', 'item', 'weapon', 'either', 'screwed', 'gf', 'm8', 'question', 'interpretation', 'called', 'julie', 'version', 'romeo', 'juliet', 'warmbodies', 'excited', 'dig', 'x', 'franchise', 'event', 'theme', 'fittscott', 'popularmmos', 'vi‰û', 'sounds', 'artists', 'fukushima', 'exclusion', 'ura', 'begins', 'snow', 'mother', 'mary', 'reading', 'spirit', 'angel', 'took', 'enormous', 'high', 'candylit', 'imagine', 'sarumi', 'fighting', 'heart', 'conversations', 'zonewolf123', 'mo‰û', 'southern', 'prepper', 'fiction', 'sharecropping', 'apocalyptic', 'doomsday', 'lone', 'audience', 'bought', 'doc', 'impending', 'biblical', 'honestly', 'exited', 'hes', 'enthusiastic', 'grizzly', 'peak', 'beginning', 'dystopian', 'movie', 'nephew', 'proof', 'fat', 'babies', 'niece', 'scared', 'rescue', 'added', 'playlist', 'storm', 'cairo', '|live', 'now|', 'princes', 'encounters', 'meerkat', 'through', 'xv', 'totally', 'give', 'bad', 'name', 'pierc', 'geek', '4pm', 'gmt', 'hesse', 'plays', 'dark', 'etcpb', 'zombies', 'reveals', 'shadow', 'boxing', 'enjoyed', 'action', 'titan', 'posters', 'reminded', 'freshly', 'clean', 'coiffed', 'pbban', 'temporary', 'avysss', 'kill', 'flags', 'xp', 'russaky89', 'vid', 'doublecups', 'prod', 'armageddon', 'universal', 'ouvindo', 'peace', 'bed', 'unless', 'revolution', 'faction', 'microsoft', 'xbox', 'series', 'truelove', 'romance', 'lith', 'voodoo', 'seduction', 'astrology', 'rtrrt', 'lotz', '1008pla‰û', 'beat', 'hsu', 'hao', 'flawless', 'ben', 'affleck', 'girls', 'loved', 'eonlinechat', 'patent', 'pending', 'stream', 'ep', 'coat', 'hand', 'worn', 'certainty', 'bears', 'sense', 'occasion', 'spying', 'hidden', 'door', 'nsa', 'data', 'mining', 'software', 'blog', 'hyider', 'ghost2', '1008planet‰û', 'rise', 'ashes', 'hitchbot', 'true', 'superstar', 'fighterdena', 'sketch', 'based', 'taste', 'startrek', 'tos', 'luck', 'tomorrow', 'coefficient', 'points', 'plz', 'justice', 'department', 'haven', 'paid', 'income', 'tax', '20yrs', 'vladimir', 'putin', 'warning', 'late', 'escape', 'kingdom', 'heavenly', 'rule', 'earth', 'turkey', 'invades', 'b', 'entertainment', 'brucewillis', 'movies', 'monkeys', 'sixth', 'auction', 'let‰ûªs', 'goof', 'guild', 'saunders', 'gaining', 'prepared', 'toddler', 'preppers', 'library', 'collection', 'cd', 'shtf', 'preppertalk', 'survival', '2a', 'again', 'eep', 'saw', 'hail', 'ahamedis', 'messiah', 'dajaal', 'gog', 'magog', 'sadly', 'windows', 'ethics', 'averted', 'patron', 'ultimalucha', 'ww1', 'blueprint', 'extremely', 'impressive', 'european', 'fitba', 'till', 'christmas', 'christians', 'united', 'cufi', 'jews', 'convert', 'preseasonworkouts', 'lee', 'comedy', 'class', 'tories', 'prepare', 'interestraterise‰û\\x9d', 'remember', 'crowd', 'baggage', 'carousel', 'bags', 'remaining', 'items', 'animals', 'charts', 'prove', 'part', 'begun', 'economic', 'collapse', 'tracks', 'tren', 'craig', 'roberts', 'brics', 'russia', 'compromise', 'watchmen', 'lights', 'funny', 'goofballs', 'staff', 'pd', 'thereal', 'comin', 'mustread', 'fingers', 'aberdeen', 'beyonce', 'pick', 'beyhive', 'da', 'mtvsummerstar', 'videoveranomtv', 'mtvhottest', 'britney', 'spears', 'lana', 'del', 'rey', 'direction', 'directioners', 'x1402', '5sosfam', 'build', 'lions', 'leader', '22beyonce', '17beyonce', 'x1411', 'whitewalkers', 'slightly', 'intrigued', 'x1421', 'own', 'lead', 'g', 'friend', 'code', 'lzktjnox', 'shark', 'date', 'stainless', 'steel', 'quartz', 'sport', '12beyonce', 'salvation', 'hosts', 'rally', 'reconnect', 'fathers', 'children', 'hosting', 'rally‰û', 'vote', 'queens', '5th', 'fanarmyfaceoff', 'dogs', 'lion', 'hero', 'tv', 'review', 'victorinox', 'swiss', 'women', 'rubber', 'mop', 'x1392', 'infantry', 'mens', 'lume', 'dial', 'analog', 'wrist', 'blue', 'nylon', 'fabric', 'rea‰û', 'x1441', 'drayesha4', 'indiakomuntorjawabdo', 'indian', 'ki‰û', 'ìñ1', 'x1386', 'gave', 'receipt', 'stony', 'jackson', 'felons', 'rejects', 'against', 'satan', 'wwi', 'wwii', 'japanese', 'navy', 'military', 'japan', 'leather', 'war', 'mido', 'x1431', '7beyonce', 'x1435', 'x1415', '6beyonce', 'potus', 'appoints', 'brig', 'gen', 'richard', 'kaiser', 'member', 'mississippi', 'commission', 'learn', 'mrc', 'upper', 'wabash', 'reservoirs', 'violent', 'control', 'killings', 'answer', 'therefore', 'sixteenth', 'forth', 'x1424', 'x1434', 'ìñ2', 'jewish', 'terrorists', 'charged', 'historic', 'arson', 'ugly', 'truth', 'cheesehead', 'report', 'charges', 'filed', 'linked', 'caught', 'northern', 'israeli', 'unable', 'solve', 'duma', 'authorities', 'struggling', 'cases', 'hamilton', 'attend', 'organized', 'protesting', 'add', 'familia', 'squad', 'shock', 'muslims', 'american', 'strong', 'happens', 'push', 'thru', 'felony', 'mourning', 'notices', 'stabbing', 'victims', 'stir', '‰û÷politics', 'grief‰ûª', 'f', 'rome', 'fake', 'crime', 'lesbians', 'shira', 'banki', 'newsintweets', 'sound', 'elliott', 'probation', 'pay', 'fines', 'gay', 'admits', 'scheme', 'lgbt', 'saginaw', 'sketches', 'persons', 'interest', 'trial', 'burglary', 'palestinian', 'cracks', 'amid', 'protests', 'kisii', 'hunt', 'failed', 'plot', 'countynews', 'mariah', 'thick', 'shoulders', 'charlton', 'winery', 'wehtwtvwlocal', 'relaxinpr', 'miprv', 'latimes', 'prayed', 'connection', 'shawnee', 'olathe', 'kan', 'court', 'accused', 'of‰û', '960kzim', 'steele', 'arrest', 'investigation', 'tennessee', 'lesbian', 'faked', 'arson‰û', 'p2', 'lgbtq', 'frank', 'pleaded', 'contra', 'costa', 'co', 'suspected', 'serial', 'that‰û', 'guilty', 'hiring', 'white', 'mo', 'mc', 'impressed', 'alleged', 'east', 'arrested', 'says', 'carry', 'minor', 'citation', 'possesion', 'decriminalized', 'substance', 'facing', 'calif', 'vegetarian', 'restaurant', 'newyork', 'system', 'forgets', 'dick', 'bloor', 'ossington', 'mattress', 'northumberland', 'cbcto', 'torches', 'getaway', 'surrey', 'anything', 'sit', 'vegan', 'shows', 'torching', 'popular', 'bk', 'strictly', 'govegan', 'uniteblue', 'tonight‰ûªs', 'headlines', 'nightbeat', '2minutemix', 'captures', 'removing', 'beach', 'ca', 'sought', 'threw', 'letter', 'tho', 'trick', 'nasty', 'things', 'caused', 'å£70000', '‰û÷crying', 'help‰ûª', 'jailed', 'hear', 'spotlight', 'paradise', 'wniagospel', '10pm', 'makes', 'town', 'salem', 'melted', 'ice', 'cube', 'arsonists', 'blamed', 'blaze', 'plastics', 'recycling', 'business', 'adelaide', 'reports', '7newsadl', 'hotboy', 'zodiac', 'trey', 'dupree', 'produced', 'sparkz', 'beatz', 'chuck', 'christ', 'toronto', 'columbus', 'gospel', 'bitch', 'dont', 'slapped', 'lmfao', 'fave', 'vine', 'sanfrancisco', 'jokin', 'cant', 'moves', 'norcal', 'surveillance', 'ktla', 'whats', 'cracking', 'drink', 'green', 'mink', 'bail', 'release', 'earl', 'lmao', 'real', 'trusting', 'terrorism', 'inviting', 'brigade', 'telegraph', 'story', 'missing', 'vigilent', 'civil', 'liberties', 'constant', 'nativehuman', 'myreligion', 'delhi', 'provide', 'acid', 'private', 'hospitals', 'aapatwork', 'panic', 'credit', 'inspiring', 'rediscover', 'fantabulous', 'tbt', 'innovation', 'catch', 'reduce', 'surface', 'industryinsights', 'mcgsecure', 'nashville', 'theater', 'gun', 'grabbers', 'demand', '‰ûïhatchet', '‰û\\x9d', 'terror', 'post', 'udhampur', 'demi', 'stans', 'million', 'copies', 'scares', 'versions', 'nuclear', 'warnings', 'knowing', 'governments', 'isil', 'claims', 'suicide', 'bombing', 'saudi', 'mosque', 'funniest', 'feminists', '4head', 'horrific', 'muslim', 'italy', 'liveleak', '‰ûª93', 'blasts', 'yeda', 'yakub', 'karachi', 'mumbai', 'militants', 'waziristan', 'psychological', 'spos', 'injured', 'livemint', 'allthenews', 'obama', 'officials', 'terrorist', 'texas', 'relationship', 'snapchat', 'smb', 'relay', 'steals', 'user', 'credentials', 'internet', 'texas‰ûªs', 'gratuitously', 'cruel', 'gayåêman', 'forces', 'raid', 'palestine', 'cooper', 'pooper', 'saved', 'drowning', 'detected', 'the‰û', 'goat', 'worry', 'rocket', 'okay', 'ebony', 'haired', 'blowjob', 'lie', 'senior', 'diamond', 'graveyard', 'shift', 'defend', 'handside', 'idiot', 'theatre', 'volleyball', 'ii', 'machine', 'simulation', 'notley', 'tactful', 'direct', 'response', 'harper', 'yeah', 'premier', 'ableg', 'cdnpoli', 'tilly', 'confused', 'cat', 'overcomes', 'assailant', 'homeless', 'massive', 'hd', 'vì', 'india', 'shud', 'evidence', 'pak', 'oth', 'contries', 'illegal', 'alien', 'released', 'dhs', 'maria', 'woman', 'prior', 'offenses', 'strongly', 'condemn', 'ary', 'cowardly', 'act', 'simply', 'trying', 'atomic', 'bombs', 'mentality', 'ignoranceshe', 'latinoand', 'benothing', 'morebut', 'group', 'gop', 'prevention', 'secondhand', 'dayton', 'cyber', 'vita', 'yay', 'infowars', 'nwo', 'anxiety', 'articles', 'labour', 'tory', 'freedom', 'information', '‰û÷assault', 'govt', 'accountability‰ûª', 'liberty', 'write', 'her‰û', 'walked', 'bathroom', 'cried', 'dreadfully', 'porn', 'blacks', 'married', 'slut', 'gunfight', 'attacked', 'pugprobs', 'newcastle', 'schoolgirl', 'seaton', 'delaval', 'pack', 'led', 'former', 'frail', 'aus', 'along', 'smith', 'competing', 'sura', 'virus', 'australia', 'brutally', 'christian', 'temple', 'mount', 'waving', 'pamela', 'geller', 'cis', 'female', 'somehow', 'claim', 'offended', 'transgendered', 'media', 'hatchet', '911åêcall', 'helicopters', 'civilians', 'gaza', 'completed', 'exercises', 'greece', 'pt', 'unit', 'responsible', 'targeting', 'scholars', 'imprisoning', 'youth', 'telnet', 'streamyx', 'robot', 'lvl', 'earned', 'satoshis', 'robotcoingame', 'bitcoin', 'freebitcoin', 'patrick', 'kane', 'cab', 'ik', 'troll', 'pol', 'rivals', 'literally', 'abused', 'families', 'abuse', 'loosers', 'attitude', 'problem', 'result', 'constantly', 'belittled', 'bashed', 'demoralized', 'forgot', 'memo', 'resident', 'receiving', 'concussion', 'worst', 'person', 'questioning', 'empathy', 'kelly', 'osbourne', 'racist', 'donald', 'trump', 'remark', 'latinos', 'view', 'aiii', 'chill', 'calmly', 'tweets', 'program', 'flew', 'uranium', 'mine', 'student', 'digging', 'nation', 'metro', 'protecting', 'welovela', 'nhlducks', 'avalanche', 'defense', 'louis', 'blues', 'sportsroadhouse', 'having', 'such', 'peaceful', 'experience', 'idiocy', 'kalle', 'mattson', 'tube', 'installation', 'output', 'hhw', 'decapitated', 'throw', 'reebok', 'shirt', 'xl', 'cotton', 'nhl', 'hockey', 'tix', 'frozen', 'fury', 'xvii', 'kings', 'row', 'aa', 'mgm', 'grand', 'bet', 'didnt', 'box', 'piece', 'wrote', 'designs', 'appreciate', 'greatly', 'glance', 'drops', 'heartbeat', 'stops', 'oh', 'moon', 'couldn', 'repost', 'åáåáåá', 'ambi', 'charging', 'handle', 'roy', 'deck', 'spx', 'finite', 'made', 'mint', 'musician', 'recreates', 'classic', 'album', 'covers', 'clever', 'music', 'beautiful', 'sweet', 'faith', 'akito', 'roses', 'lots', 'frothy', 'gyp', 'weddinghour', 'calgary', 'col', 'preseason', 'scotiabank', 'saddledome', 'catechize', 'inner', 'confidential', 'communication', 'respects', 'creating', 'worth', 'len', 'plenty', 'maths', 'teacher', 'liverpool', 'similar', 'rare', 'vintage', 'collectable', 'windriver', 'edt', '60ml', 'spray', 'deals', 'uk', 'performance', 'chip', 'fuel', 'saver', 'chevy', 'silverado', 'blazer', 'tahoe', 'leaves', 'poplar', 'fully', 'ordained', 'tumbling', 'spurgeon', 'dorion', 'sens', 'looking', 'consistency', 'hoffman', 'coloradoavalanche', 'bag', 'punk', 'em', 'gas', '‰û÷avalanche‰ûª', 'tank', 'fc', 'maid', 'agency', 'presents', 'sniping', 'chevrolet', 'ltz', 'lifted', '4x4', 'favorite', 'rear', 'axle', 'assembly', 'chiasson', 'deal', 'senators', 'coloradoavs', 'nhlavalanche', 'rudd', 'emile', 'hirsch', 'gordon', 'prince', 'q', 'filmmakers', 'google', 'entretenimento', 'purchase', 'neal', 'rigga', 'drafted', 'overall', 'rappers', 'songs', 'avast', 'andals', 'yo', 'flex', 'believing', 'wide', 'awake', 'jerseys', 'anaheim', 'ducks', 'tickets', 'bts', 'incredible', 'nowplay', 'wtm', 'deep', 'breath', 'lunatics', 'livingontheedge', 'wd', 'pickup', 'premium', 'b‰û', 'snowflake', 'star', 'wars', 'power', 'jedi', 'battle', 'droid', 'hasbro', 'general', 'bull', 'colonel', '2nd', 'hampshire', 'signed', 'dragon', 'z', 'gods', 'rotten', 'tomatoes', 'tanks', 'assistant', 'bat', 'chat', 'arti', 'kaboom', 'ya', 'clip', '4kus', 'baaaack', 'petersen', 'bowhunting', 'bows', 'cast', 'tb', 'throwback', 'kelby', 'tomlinson', 'mild', 'mannered', 'baseman', 'metropolitan', 'ending', 'hits', 'rbi', 'sfgiants', 'space', 'occurred', 'm27329', 'fleets', 'totaling', 'ships', 'taken', 'king', 'trailer', 'ripped', 'hole', 'saturn', 'animations', 'du19', 'rap', 'internal', 'external', 'motivation', 'environment', 'pine', 'trees', 'growing', 'remembrance', 'gallipoli', 'phantasmal', 'cummerbund', 'warcraft', 'young', 'stormtrooper', 'engaged', 'somme', '800', 'ìñ', 'marvel', 'dc', 'avengers', 'raspy', 'figured', 'ttk', 'sigh', 'realization', 'attention', 'span', 'mass', 'games', 'painting', 'playing', 'interested', 'goats', 'pokì©mon', 'omega', 'alpha', 'sapphire', 'wi', 'fi', 'cjs064', 'o784', 'matt', 'bonner', 'brian', 'scalabrine', 'knockout', 'knuckles', 'punches', 'lonepine', 'remembered', 'descendants', 'gary', 'busey', 'son', 'dixie', 'electronic', 'fiddle', 'celebration', 'sequence', 'fedex', 'longer', 'transport', 'bioterror', 'germs', 'anthrax', 'lab', 'mishaps', 'pathogens', 'jacksonville', 'busines', 'shipping', 'potential', 'responds', 'åêfedex', 'tcot', 'transporting', 'research', 'frontpage', 'faced', 'sanctions', 'rickperry', 'doesn', 'cut', 'gopdebate', 'unsurprising', 'dismaying', 'consequences', 'securing', 'pathogen', 'access', 'commerce', 'subcommittee', 'hold', 'hearing', 'cdc', 'oversight', 'labs', 'htt‰û', 'willing', 'specimens', 'apple', 'mobile', 'fallout', 'biolab', 'lapses', 'select', 'agent', 'alisonannyoung', 'exclusive', 'hmm', 'researchers', 'agents', 'corp', 'nyse', 'fdx', 'deliver', 'packages', 'citizens', 'acted', 'watchdog', 'dugway', 'proving', 'grounds', 'atlanta', 'chronicle', 'microbes', 'orchardalley', 'les', 'manufactured', 'fear', 'repression', 'gardens', 'offbeat', 'jax', 'biz', 'journal', 'usatoday', 'foxnew‰û', 'bioter‰û', 'newsdict', 'trucking', 'wxia', 'concerns', 'facilities', 'dumbfounded', 'bioterrorism', 'ebola', 'stopislam', 'ccot', 'makedclisten', 'teaparty', 'largest', 'soil', 'tacos', 'sir', 'fema', 'region', 'iii', 'targeted', 'nasa', 'launch', 'lithium', 'extensive', 'handling', 'procedures', 'firepower', 'resource', 'automation', 'infectious', 'diseases', '90blks', '8whts', 'colluded', 'wht', 'hostage', '2', 'blk', 'lgl', 'idis', 'id', 'cover', 'keep', 'hedge', 'catastrophic', 'risks', 'asteroid', 'impacts', 'tale', 'pox', 'horrors', 'infectiousdiseases', 'hers', 'public', 'health', 'superbug', 'biolabs', 'epidemics', 'biosurveillance', 'outbreaks', 'homeland', 'security', 'wire', 'creation', 'ai', 'workforce', 'contact', 'wealth', 'inequality', 'yea', 'lies', 'cia', 'hollywood', 'horowitz', 'vaccines', 'daughter', 'warrior', '50ft', 'aka', 'transgender', 'fold', 'extra', 'yes', 'college', 'difficult', 'dispersed', 'volunteers', 'participate', 'preparedness', 'drill', 'simulating', 'newspaper', 'running', 'guidelines', 'management', 'pretty', 'list', 'reach', 'populated', 'erea', 'fair', 'mean', 'bsc', 'irrelevant', 'concerned', 'gm', 'organisms', 'scientists', 'hhs', 'selects', 'regional', 'special', 'centers', 'forget', 'threat', 'sys', 'clergyforced', 'exist', 'younger', 'grossly', 'disfigured', 'possibility', 'mysteries', 'sucks', 'hst', 'anthony', 'kimery', 'discusses', 'channel', 'joe', 'rogan', 'questions', 'syfy', 'describing', 'future', 'therapies', 'technologies', 'sexuality', 'diagnosis', 'digitalhealth', 'hcsm', 'ugliness', 'frat', 'bioterrorismi', 'tolewant', 'uganda', 'ppl', 'hiv', 'aggravated', 'assault', 'low', 'transmission', 'hivisnotacrime', 'studying', 'carpediem', 'hen', 'evade', 'efforts', 'prosecute', 'blks', 'irandeal', 'activity', 'broken', 'agreements', 'manage', 'alright', 'trip', 'strangers', 'forfeit', 'allay', 'glanders', 'fears', 'ahead', 'rio', 'olympic', 'equestrian', 'test', 'craving', 'pool', 'raisinfingers', 'hammond', 'listing', 'amazin', 'niggas', 'dey', 'wan', 'dedication', 'talking', 'virtual', 'tour', 'listings', 'fir', 'cannon', 'listed', 'dorrie', 'caruana', 'pendleton', 'base', 'horno', 'welcome', 'cleveland', 'standup', 'apt', 'balcony', 'alrighty', 'jays', 'dutch', 'slave', 'trade', 'gim', 'dat', 'creamy', 'stuff', '3', 'hair', 'poverty', 'fade', 'weekend', 'losses', 'wildfire', 'rages', 'firefighters', 'battling', 'cary', 'condo', 'hating', 'babes', 'lan', 'reaction', 'determines', 'port', 'coquitlam', 'crews', 'electric', 'towel', 'warmer', 'alarm', 'several', 'businesses', 'skywars', 'hack', 'flechadas', 'sinistras', 'dems', 'covered', 'months', 'detained', 'americans', 'interrogation', 'facility', 'bars', 'rapper', 'atgames', 'handheld', 'mega', 'drives', 'ashens', 'ugh', 'put', 'calories', 'pizzas', 'thisispublichealth', 'pic', 'fort', 'jackass', 'stuffin', 'writing', 'computers', 'letting', 'mad', 'drew', 'weeks', 'socialmedia', 'facebook', 'features', 'personalize', 'customer', 'shout', 'hottest', 'dj', 'sothwest', 'farm', 'beginnings', 'fire‰û', 'works', 'vela', 'slurpees', 'tweet', 'fail', 'lithgow', 'portland', 'mixtape', 'promise', 'goin', 'huh', 'leo', 'bedrooms', 'baths', 'sale', 'palms', 'buzzy', 'john', 'jus', 'kame', 'bid', 'lovethyfamily', 'guns', 'daem', 'smooth', 'asf', 'artisteoftheweekfact', 'coast2coastdjs', 'agree', 'jiwonle', 'hiphop', 'clubbanger', 'bright', 'blazing', 'fireman', 'party', 'weddings', 'cruisingblazing', 'banging', 'vibez', 'listenlive', 'montgomery', 'stds', 'rejected', 'slogan', 'transcend', 'trail', 'diversified', 'marketing', 'morgan', 'silver', 'dollar', 'gem', 'bu', 'dmpl', 'cameo', 'rev', 'ms', 'grade', 'bowl', 'stealth', 'skills', 'beats', 'silenced', 'm4', 'bitches', 'speed', 'watt', 'obj', 'quick', 'pacquiao', 'marquez', 'unfilled', 'swarm', 'online', 'durvod', 'turn', 'radios', 'stoponesounds', 'airwaves', 'fm', 'inch', 'dynasty', 'weapons', 'master', 'hinatobot', 'expect', 'tattoo', 'yelp', 'shouout', 'vocals', 'shes', 's3xleak', 'ph0tos', '19yrs', 'lady', 'festac', 'delta', 'exp0sed', 'bbm', 'leaked', 'pictures', 'racing', 'temperature', 'roof', 'fifth', 'harmony', 'midnight', 'cry', 'reality', 'lonely', 'erased', 'sun', 'spanish', 'latin', 'origin', 'meaning', 'reddish', 'colored', 'dummies', 'pronouncing', 'freezing', 'le', 'enough', 'degree', 'mid', 'not‰û', 'rn', 'packed', 'meet', 'portugal', 'sunshine', 'bestie', 'sweat', 'bullets', 'beating', 'words', 'fam', 'beyond', 'blessed', 'dude', 'respect', 'enjoying', 'shade', 'tree', 'breeze', 'fdny', 'blasting', 'horn‰û', 'insomnia', 'fantasy', 'escorts', 'gfe', 'dubai', 'satelite', 'continue', 'five', 'compl', 'missy', 'suited', 'summertime', 'yee', 'haw', 'magical', 'website', 'speeds', 'professional', 'unlimited', 'elwoods', 'bother', 'doug', 'tune', 'ch', 'pl', 'satin', 're‰û', 'etisalat', 'mb', 'complete', 'giving', '100mb', 'tecno', 'q1', 'ime', 'slapping', 'cake', 'throwing', 'showdown', 'unpacked', 'physical', 'rocky', 'ways', 'archetype', 'bleeding', 'grounded', 'readiness', 'fpoj', 'understand', 'timedoes', 'ignoring', 'hardly', 'chicken', 'nugget', 'sisters', 'lip', 'slit', 'throat', 'apologize', 'tia', 'int‰ûªl', 'airline', 'companies', 'dry', 'gif', 'lu', 'account', 'posted', 'mundo', 'jesus', 'landolina', 'gel', 'realestate', 'nose', 'typewriter', 'written', 'bunch', 'gunk', 'text', 'hugs', 'allowed', 'leona', 'lewis', 'dinah', 'singing', 'stab', 'apparently', 'fine', 'walking', 'eating', 'takis', 'rubbing', 'hands', 'tears', 'vampiro', 'foot', 'toe', 'tom', 'brevoort', 'open', 'bleedinglove', 'leonalewis', 'acapella', 'singer', 'canadiansinger‰û', 'madara', 'stepped', 'glass', 'pun', 'tak', 'sedar', 'pain', 'waited', 'cute', 'dinner', 'cams', 'starts', 'bass', 'triplemania', 'villano', 'whooping', 'myztiziziziziz', 'reynolds', 'montano', 'silence', 'safer', 'violence', 'fell', 'concrete', 'affect', 'wounds', 'skarlet', 'pushed', 'backwards', 'cats', 'pet', 'bite', 'marks', 'scratch', 'dogsarebetterthancats', 'liberal', 'deadpool', 'favourite', 'characters', 'wears', 'suit', 'wraps', 'cloth', 'wound', 'falls', 'ground', 'defs', 'wannabe', 'artist', 'brain', 'lets', 'soccer', 'apartment', 'instincts', 'kicked', 'scratches', 'stefano', 'ear', 'pileup', 'wouldn', 'quit', 'rave', 'wedding', 'wise', 'te', 'timeline', 'blew', 'bomb', 'oomf', 'instagrams', 'active', 'follower', 'instagram', 'featured', 'jazz', 'usagi', 'entire', 'solar', 'airhead', 'misstep', 'probs', 'cup', 'snap', 'receipts', 'wont', 'gtfo', 'desperate', 'notifications', 'encouraging', 'hw18', 'keeping', 'pulled', 'lolol', '2fast2furious', 'universe', 'max', 'tf', 'fired', 'catfishmtv', 'wow', 'social', 'shania', 'twain', 'concert', 'idk', 'chances', 'rick', 'morty', 'ty', 'realized', 'tusky', 'rq', 'gambit', 'anakin', 'wbc2015', 'ironically', 'michele', 'bachmann', 'brought', 'ron', 'hoax', 'pizza', 'cheese', 'sad', 'catfish', 'retweeted', 'whistled', 'wind', 'skirt', 'mentions', 'boise', 'minds', 'idaho', 'stadium', 'freyas', 'everywhere', 'ray', 'rice', 'fiasco', 'light', 'skin', 'kid', 'watched', 'honey', 'economy', 'recommend', 'conservative', 'shoppe', 'harperanetflixshow', 'elxn42', 'stopharper', 'balloon', 'rude', 'popped', 'whoever', 'fireball', 'falling', 'ye', 'sean', 'zayn', 'exposed', 'mlg', 'player', 'ego', 'mw3', 'cod', 'champs', 'esports', 'orgs', 'clue', 'clicks', 'pair', 'graywardens', 'blight', 'theres', 'theory', 'magisters', 'arent', 'dwarves', 'ones', 'thda', 'kicks', 'anti', 'loan', 'memphis', 'cycling', 'athletics', 'doping', 'exacerbated', 'monetary', 'reward', 'soul', 'searching', 'required', 'land', 'bank', 'targets', 'latrobe', '20th', 'acquisition', 'susceptible', 'ny2', 'shoot', 'trama', 'wcfgt2015', 'jack', 'corn', 'leaf', 'headline', 'roads', 'lyrium', 'ain', 'load', 'welfare', 'loving', 'sponge', 'society', 'cole', 'prysmian', 'secures', 'contract', 'heights', 'shaker', 'info', 'awakened', 'carl', 'everest', 'cobes', 'whitt', 'frost', 'snuff', 'godly', 'beer', 'someday', 'stamford', 'tightens', 'law', 'dilapitated', 'barn', 'sits', 'half', 'erect', 'hickory', 'topix', 'greenspace', 'housing', 'development‰û', 'councilman', 'neill', 'releases', 'planing', 'level', 'constellation', 'gaia', 'iclown', 'drumstep', '2iclown', 'infinity', 'achieve', 'excellence', 'develop', 'habit', 'matters', 'author', 'purdies', 'tracy', 'apperception', 'bridgework', 'xxhjesc', 'loser', 'snide', 'remarks', 'dotish', 'important', 'inquisition', 'darkspawn', 'sexual', 'stories', 'norwalk', 'ordinance', 'success', 'properties', 'uncover', 'slumber', 'ripe', 'banana', 'appeal', 'slipping', 'bananas', 'in‰û', 'app', 'zippoline', 'community', 'moveit', 'policy', 'ohio', 'cle', 'cuyahoga', 'greening', 'vacant', 'lands', 'crossing', 'ocean', 'peeling', 'potatoes', 'servile', 'devotion', 'taint', 'gates', 'detroit', 'progress', 'shells', 'houses', 'remain', 'opposite', 'urban', 'monumentalized', 'actual', 'refugee', 'tragedy', 'shame', 'article', 'jackman', 'downgraded', 'estimate', 'square', 'renewable', 'windfarms', 'abbott', 'landscape', 'locksmithing', 'art', 'respecting', 'elaboration', 'locks', 'lpdkl', 'cunt', 'wins', 'ranked', 'card', 'te‰û', 'buying', 'amazon', 'buy', 'available', 'blizzard', 'kamon', 'slaps', 'nuts', 'flavored', 'cream', 'lunch', 'curds', 'pls', 'pray', 'auz', 'cst', 'hrs', 'rock', 'hump', 'rolo', 'dq', 'hi', 'ashayo', 'vods', 'presentation', 'ebook', 'timzak', 'lizard', 'stuck', 'rhyming', 'kidsbook', 'ozz', 'tweet4taiji', 'dolphin', 'worship', 'superstitions', 'lucio', 'overwatch', 'rolling', 'caution', 'aren', 'gunnar', 'optiks', 'heroes', 'siege', 'gaming', 'glasses', 'onyx', 'ight', 'peanut', 'butter', 'cookie', 'dough', 'drove', 'mini', 'mic', 'controllers', 'announcement', 'updated', 'expansion', 'ideas', 'bard', 'holy', 'trinity', 'dryer', 'snowy', 'paper', 'jeans', 'pocket', 'shocking', 'lured', 'fanbase', 'wod', 'disappointed', 'hardcore', 'everyones', 'leaving', 'candy', 'wizard', 'lwb', 'sub', 'expo', 'probaly', 'knock', 'clutch', 'link', 'okayyyyyy', 'ima', 'bout', 'tora', 'subliminal', 'messages', 'hearthstone', 'pc', 'thoughts', 'reset', 'whoa', 'legend', 'brownie', 'batter', 'activision', 'cognizant', 'technology', 'sg', 'biggest', 'regret', 'butterfinger', 'bruh', 'nah', 'cook', 'gone', 'relate', 'billie', 'jean', 'ur', 'enjoy', 'floor', 'buybloodonthedanceflooronitunes', 'wall', 'invincible', 'xoxoxxxooo', 'rutinaofficial', 'nbchannibal', 'hannibal', 'asks', 't‰û', 'broke', 'nail', 'morning', 'ah', 'hurts', 'stars', 'reviewers', 'boxset', 'lindsay', 'buroker', 'kindle', 'associated', 'gastric', 'carcinoma', 'fragile', 'gene', 'beside', 'wounded', 'dialyses', 'grandpa', 'headed', 'omron', 'hem', '712c', 'pressure', 'monitor', 'standard', 'bp', 'speakingfromexperience', 'stressful', 'decisionsondecisions', 'horizon', 'stained', 'panel', 'poster', 'nor0603', 'crip', 'doin', 'monster', 'sucker', 'imouto', 'related', 'ugliest', 'shoes', 'tight', 'excellent', 'porridge', 'seriously', 'phenomenal', 'shii', 'intended', 'criess', 'golden', 'wook', 'loyalty', 'remind', 'sosa', 'belly', 'homework', 'medicine', 'hoe', 'mashup', 'hastle', 'drug', 'tested', 'drown', 'document', 'filling', 'somebody', 'ta', 'sbee', 'fuckin', 'winds', 'gypsy', 'penny', 'philly', 'octagonal', 'cds', '1ìâå¢', '15l18', 'grid', 'cancel', '26', 'surgery', 'regular', 'gp', 'desk', 'dentists', 'doctors', 'thicker', 'water', 'quicker', 'thirsty', 'roll', 'rolandonabeats', 'ellie', 'goulding', 'acesse', 'nosso', 'para', 'ouvir', 'chapter', 'runs', 'personal', 'favorites', 'include', 'paramore', 'muse', 'royal', '5sos', 'chizu', 'gender', 'male', 'pink', 'dere', 'type', 'pasokon', 'shed', 'innocent', 'sons', 'daughters', 'polluted', 'psalms', 'sin', 'abortion', 'pone', 'cantar', 'lightning', 'wasnt', 'everwhe', 'everyday', 'blood‰û', 'looooooooooool', 'infected', 'piercings', 'zealand', 'shouting', 'marvellous', 'campbell', 'nz', 'radionz', 'aggressif', 'aggressive', 'entered', 'butterlondon', 'crayons', 'enter', 'bbloggers', 'sally', 'emailed', 'awol', 'argh', 'prediction', 'continues', 'guest', 'outrageous', 'listening', 'jay', 'forrest', 'awful', 'xxx', 'nightmare', 'elm', 'remade', 'sony', 'stephen', 'king‰ûªs', '‰û÷the', 'tower‰ûª', 'stephenking', 'thedarktower', 'room', 'maisy', 'martha', 'bs', 'okanowa', 'mainline', 'invasion', 'looked', 'ell', 'grrrr', 'akame', 'ga', 'tokyo', 'ghoul', 'dare', 'suck', 'amends', '2008', 'veteran', 'weekends', 'new‰û', 'tired', 'vaca', 'sexy', 'drools', 'effects', 'product', 'acne', 'diarrhea', 'ronda', 'rousey', 'floyd', 'mayweather', 'money', 'elbow', 'refereeing', 'ruined', 'balance', 'mess', 'imfc', 'a3', 'oils', 'paints', 'barking', 'precious', 'issit', 'amazing', 'hello', 'thighs', 'cleav', 'expose', 'cleavage', 'anyway', 'mouth', 'pree', 'bigger', 'calm', 'nurses', 'waking', 'eventually', 'asleep', 'sink', 'beet', 'juice', 'monty', 'python', 'rs5', 'friday', 'supposed', 'zzzz', 'folding', 'arms', 'sitting', 'chair', 'reafs', '‰û÷a', 'street‰ûª', 'remade‰û', 'indians', 'smirking', 'remorseless', 'killer', 'boasting', 'wolf', 'hayden', 'liam', 'stiles', 'jeep', 'pleeease', 's01e09', 'monday', 'bloodymonday', 'tvshowtime', 'marlon', 'williams', 'elvis', 'presley', 'panther', 'shuffle', 'turns', 'shopping', 'mystery', 'luckily', 'mexicans', 'grass', 'sleep', 'woulda', 'blown', 'bored', 'wit', 'busy', 'moms', 'bedroom', 'walls', 's2g', 'deactivate', 'choices', 'adultress', 'killary', 'emails', 'club', 'fucked', 'pilloried', 'greinke', 'inning', 'agreed', 'faces', 'indifferent', 'relentless', 'opinion', 'woke', 'aunt', 'marge', 'eheks', 'iverson', 'malone', 'hasn', 'spammers', 'supposedly', 'representing', 'values', 'cgi', 'lmfaoooo', 'shush', 'size', 'underground', 'license', 'absolutely', 'thisdayinhistory', 'confederate', 'crew', 'uhc', 'creeper', 'flying', 'salty', 'bump', 'approval', 'musicadvisory', 'truckload', 'soldiers', 'panics', 'loses', 'kash', 'foundation', 'magazine', 'todd', 'blake', 'ee', 'shop', 'glad', 'we‰ûªre', 'extension', 'we‰ûªve', 'manor', 'anyways', 'buddy', 'arabia', 'bomber', 'loner', 'diaries', 'patterns', 'sand', 'photos', 'twos', 'choked', 'winnable', 'lock', 'manhood', 'accept', 'you‰ûªre', 'sissy', 'fe‰û', 'bsg', 'sufficiently', 'hyped', 'delayed', 'watching', 'utterly', 'vanessa', 'ladies', 'gentlemen', 'bb17', 'guaranteed', 'bitten', 'mutant', 'mosquito', 'ankle', 'cunts', 'tozlet', 'seat|', 'butt', 'leprosy', 'jerkface', 'syndrome', 'lateral', 'lisp', 'toilet', 'rickets', 'delicious', 'flavor', 'blowvape', 'strawberry', 'cherry', 'pop', '15‰û', 'hackers', 'givebackkalinwhiteaccount', 'singles', 'feed', 'directing', 'grab', 'nicki', 'minaj', 'recognition', '6th', 'james', 'whilst', 'amirite', 'dog‰ûªs', 'kennel', 'yorkshire', 'coldwood', 'hung', 'espn2', 'beaten', 'ra', 'al', 'ghul', 'escaped', 'leos', 'ass', 'metaphorically', 'piperwearsthepants', 'charmed', 'mortem', 'glononium', '6c', 'helps', 'bashing', 'bottle', 'nitroglycerin', 'shoulder', 'tote', 'handbag', 'cross', 'faux', 'fashion', 'purse', 'republicans', 'ditto', 'drank', 'vodka', 'handbags', 'mulberry', 'antony', 'messenger', 'oak', 'soft', 'buffalo', 'å£279', '00end', 'vuitton', 'monogram', 'sophie', 'limited', 'edition', 'hobo', 'womens', 'read‰û', 'washed', 'camouflage', 'outdoor', 'purple', 'cultsierre', 'ameribag', 'healthy', 'backpack', 'khaki', 'tan', 'beige', 'bath', 'cosmetic', 'periwinkle', 'piping', 'corners', 'zippers', 'camo', 'wallet', 'wallets', 'thin', 'hip', 'å¤', '}', 'en‰û', 'cage', 'find', 'dealing', 'nikon', 'd50', 'mp', 'digital', 'slr', 'batteries', 'charger', 'saumur', 'longaberger', 'floral', 'strap', 'dracula', 'vampire', 'small', 'diesel', 'willyt', 'printed', 'ksl', 'ìü', 'satchel', 'zipped', 'authentic', 'pochette', 'bosphore', 'bag‰û', 'å', 'coach', 'bids', '‰û¼', 'suze', 'beauty', 'giveaway', 'contents', 'occitane', 'lavera', 'fit', 'ipad', 'tablet', 'jp', 'nuu', 'fwt', 'parenthood', 'employee', 'laughs', 'aborted', 'baby', 'parts', 'mixed', 'together', 'bonesymcbones', 'beartooth', 'tone', 'smartphone', 'shipped', 'dian', 'bagging', 'bangin', 'rose', 'consulted', 'smoking', 'drake', 'meek', 'killing', 'tea', 'point', 'ridiculing', 'dudes', 'skinny', 'getin', 'traintuesday', 'lesmills', 'rec', 'k', 'league', 'trollingtilmeekdiss', 'twice', 'amen', 'stick', 'sight', 'idgaf', 'tough', 'acting', 'skimmed', 'missed', 'atm', 'lyrically', 'straight', 'halo', 'interview', 'abc', 'pamanian', 'devil', 'fools', 'friendships', 'mics', 'mopheme', 'bigstar', 'johnson', 'vuzuhustle', '4got', 'score', 'cuffed', 'shouldn', 'jersey', 'wolfgangjoc', 'pays', 'homage', 'biggie', 'smalls', 'hypnotize', 'ovofest', 'ovo', 'ziphimup', 'definitely', 'capable', 'track', 'br', 'wwe', '2k15', 'mycareer', 'ep18', 'tyrone', 'mill', 'sensitive', 'ghostwriter', 'flow', 'mark', 'patient', 'local', 'jokal', 'photographers', 'meanwhile', 'hush', 'record', 'jumpin', 'window', 'file', 'bagged', 'kept', 'hop', 'beef', 'paying', 'sandrabland', 'spit', 'lay', 'spitters', 'caption', 'freshman', 'stacey', 'aubrey', 'groceries', 'aching', 'eish', 'watered', 'werewolf', 'idiota', 'minutes', 'dangerous', 'arrival', 'micom', 'contrast', 'color', 'bowknot', 'womengirls', 'zip', 'po', 'convertible', 'bestseller', 'pvc', 'cartoon', 'buckle', 'casual', 'stylish', 'pockets', 'trunk', 'fossil', 'dawson', 'es‰û', 'appears', 'arriving', 'ridah', 'tremont', 'charlotte', 'defenseless', 'thugs', 'cops', 'asking', 'hamosh84', 'yemen', 'loo‰û', 'chips', 'variety', 'fruit', 'snacks', 'redbull', 'snack', 'fairfax', 'firefighter', 'placed', 'admin', 'probe', 'putting', 'dept', 'rchs', 'football', 'players', 'coffins', 'locker', 'rooms', 'tommorow', 'flower', 'chain', 'messengers', '‰û÷institute', 'peace‰ûª', 'chairman', 'russian', 'va', 'administrative', 'calls', 'middle', 'typical', 'sized', 'garbage', 'moving2k15', 'expertwhiner', 'shop‰ûªs', 'cutekitten', 'catsofinstagram', 'summerinsweden', 'katt', 'katterpì´instagram', 'dumle', 'dagens‰û', 'lattice', 'studded', 'colour', 'takin', 'pics', 'investigating', 'khalil', 'abdul', 'rasheed', 'shld', 'congress', '‰ûïparties', 'drinking', 'sweeping', 'legs', 'mistakes', 'vuca', 'armed', 'raghu', 'pearls', 'solid', 'hanbags', 'heal', 'you‰ûªll', 'smile', 'geometric', 'pattern', 'totes', 'gasparc‰û', 'designer', 'qualit', 'hampered', 'liking', 'ella', 'vickers', 'washable', 'zicac', 'briefcase', '‰û÷body', 'bags‰ûª', 'washington', 'canvas', 'waist', 'packs', 'sports', 'zipper', 'coffee', 'ed', 'screenshot', 'claiming', '70th', 'anniversary', 'positive', 'norge2040', 'beforeitsnews', 'derivatives', 'quadrillion', 'v‰û', 'af', 'comments', 'atom', 'firework', 'prepares', 'dropped', 'guardian', 'legacy', 'editorial', 'longs', 'cas', 'dropping', 'namjoon', 'fantastic', 'bye', 'halsey', 'troye', 'collab', 'atw', 'platinum', 'weneeda5hvmaperformance', 'knows', 'ohhh', 'final', 'bestfriends', 'threats', 'zumiez', 'location', 'documents', 'pointing', 'jen', 'world‰ûªs', 'umm', 'gunman', 'carrying', 'kerry', 'barry', 'talks', 'raises', 'sorts', 'censors', 'supressed', 'accounts', 'suffering', 'nagasaki', 'enolagay', 'board', 'disarmed', 'arm', 'hometown', 'safemode', 'ahh', 'mail', 'known', 'idea', 'fragrance', 'concept', 'enemies', 'bathe', 'impact', 'ratio', 'kyle', 'js', 'sex', 'hansel', 'gretel', 'witch', 'yeh', 'kno', 'kyodonews', 'update1', 'anniv', 'eroded', 'pacifism', 'followme', 'disneyland', 'flat', 'whatcanthedo', 'thursday', 'appropriate', 'jamaicans', 'wielding', 'pepper', 'oops', 'h', 'okinawan', 'coast', 'mf', 'vocal', 'lyrical', 'vocalist', 'melanie', 'fiona', 'slept', 'hutch', 'shhhh', 'rocking', 'bombed', 'rogers', 'centre', 'offs', 'bluejays', 'bell', 'moseby', 'barfield', '‰ûïtell', 'shinichi', 'kudo', 'moriya', 'teiji', 'famous', 'architect', 'skyscraper', 'countries', 'invaded', 'aside', 'libya', 'africa', 'princess', 'yrs', 'greatest', 'acts', 'arts', 'nowish', 'justified', 'nomorehiroshimas', 'vjday70', 'fepow', 'islamic', 'syria', 'targe', 'kanye', 'elephantintheroom', 'steamroller', 'passed', 'squashed', 'existence', 'majority', 'jet', 'main', 'dramatically', 'plummeted', 'therein', 'repeat', 'turkish', 'jets', 'village', 'zergele', 'qendil', 'london3', 'loo', 'yr', 'named', 'carried', 'enola', 'nowt', 'fergie', 'drinkers', 'within', 'wenger', 'third', 'generation', 'exhibition', 'tolerance', 'sharing', 'democracy', 'iraqis', 'mutilated', 'shadowflame', 'wraith', 'cos', 'germany', 'poland', 'pearl', 'harbor', 'pre', 'emptive', 'cheetos', 'clear', 'agrees', 'abandons', 'wing', 'uncle', 'hopefully', 'afghanistan', 'compassion', 'specific', 'feminist', 'traditional', 'sexist', 'forever', 'bannukes', 'recover', 'according', 'puppy', 'demon', 'batista', 'lauren', 'visits', 'villages', 'recently', 'finds', 'fed', 'pkk', 'obviously', 'somaliaeritrea', 'asylum', 'applicants', 'redskins', 'wr', 'lax', 'ends', 'benedict', 'cumberbatch', 'sitctips', 'vlog', 'africansinsf', 'beyondgps', 'notice', 'background', 'floatin', 'bolt', 'states', 'ri', 'worse', 'hurricane', '3others', 'hardest', 'yard', '20000k', 'wasp', 'dive', 'campaigns', 'daesh', 'voltaire', 'network', 'cryptic', 'guided', 'mission', 'schedule‰û', 'nhk', 'visited', 'humbled', 'november', 'congratulations', 'capturing', 'besieged', 'indiscriminate', 'moral', 'asia', 'setting4success', 'bells', 'toll', 'smallbusiness', 'entrepreneur', 'pearlharbor', 'marked', 'push2left', 'ecology', 'rts', 'afghetc', 'humanitarian', 'hindustan', 'press', 'nyt', 'sanitised', 'narrative', 'hiroshima70', 'kinder', 'tolled', 'marke', 'bill', 'clinton', 'nato', '70‰û', 'generalnews', 'marshall', 'plan', 'dambisa', 'moyo', 'oped', 'logic', 'bridge', 'unfolded', 'trent', 'cricket', 'hapless', 'sioux', 'cement', 'siouxland', 'siouxlan', 'australia‰ûªs', 'england', 'bundled', 'central', 'syndicate', 'btwn', 'kansas', 'hyatt', 'aia', 'cote', 'cranes', 'holding', 'nearby', 'homes', 'urgentthere', 'storey', 'oworoshoki', 'mainland', 'likely', 'citizen', 'minneapolis', 'reminds', 'caribbean', '90s', 'kosher', 'injures', 'natural', 'calamity', 'mpp', 'lambasts', 'kanglaonline', 'icymi', 'reacted', 'warne', 'shocked', 'epic', 'johannesburg', 'ani', 'legendary', 'australian', 'parade', 'fox', 'latino', 'traintragedy', 'distance', 'journalism', 'berggruen', 'institute', 'problems', 'infrastructure', 'blowers', 'tuffers', 'aussie', 'batting', 'engvaus', 'gadgets', 'slingnews', 'fourth', 'shane', 'ricky', 'ponting', 'killsåêone', 'restoring', 'alphen', 'aan', 'den', 'rijn', 'buildings', 'rescuers', 'grea', 'leicester', 'merc', 'tuesday', 'metropol', 'upgrade', 'situation', 'sustainability', 'lying', 'illuminated', 'brightly', 'gemini', 'mmmmmm', 'oooooohhhh', 'oooh', 'ooh', 'deserves', 'upset', 'executing', 'etc', 'kou', 'cash', 'register', 'overlooking', 'blacklivesmatter', 'lives', 'matter', 'stealing', 'neighbors', 'protest', 'teenagers', 'selfies', 'boxer', 'outta', 'whatevs', 'mentally', 'preparing', 'forestservice', 'dhsscitech', 'buildings‰ûówe', 'tech', 'threatening', '9newsmornings', 'folks', '‰ûïburning', 'doesn‰ûªt', 'work‰û\\x9d‰û', 'only‰û', 'asap', 'prevent', 'originally', 'created', 'messi', 'tattoos', 'ronaldo', 'skip', 'basic', 'maintenance', 'rioting', 'looting', 'crimes', 'looney', 'libs', 'vandalzing', 'infosec', 'often', 'rules', '1‰ûòdon‰ûªt', '2‰ûòdon‰ûªt', 'jump', 'perfectly', 'airplanes', '3‰ûòdon‰ûªt', 'awaken', 'giants', 'dreams', 'par', 'caring', 'sick', 'helping', 'rescuing', 'schools', 'western', 'strikes', 'lit', 'especially', 'tear', 'saves', 'pledge', 'allegiance', 'riot', 'embarrassing', 'ruining', 'losing', 'disgusting', 'bradford', 'weep', 'leeds', 'jealous', 'thousand', 'ransacked', 'awesomeeeeeeee', 'sinking', 'objects', 'chases', 'weak', 'winston', 'outrage', 'antioch', 'pines‰û', 'rush', 'grateful', 'trueheroes', 'saving', 'soaking', 'tonne', 'alcohol', 'mat', 'gbbo', 'stores', 'witness', 'explode', 'afternoon', 'xela', 'struggle', 'equipment', 'dcfd', 'riots', 'crowds', 'reeves', 'corner', 'croydonization', 'hazard', 'non', 'cladding', 'webinar', 'mitigation', '2pm', 'et', 'burns', 'blows', 'destroys', 'multiple', 'downtown', 'hinton', 'jane', 'kelsey', '30‰ûò7', '30pm', 'wgton', 'tpp', 'tradeinservicesagreement', 'failure', 'it‰ûªs', 'alejandro', 'jodorowsky', 'thestrain', 'ton', 'ross', 'auburn', 'trucks', 'shooter', 'thats', 'apartments', 'firetrucks', 'booty', 'testimony', 'detectors', 'shevlin', 'hixon', 'gansey', 'busting', 'brick', 'seven', '8nn', 'architecture', 'routes', 'newyork‰û', 'tweetlikeitsseptember11th2001', 'dam', 'estate', 'langata', '22pm', 'evacuating', 'confirmation', 'dnr', 'res', 'shelled', 'gorlovka', 'civilian', 'casualties', 'jan', 'incl', 'lightening', 'struck', 'units', 'development', 'groton', 'ct', 'recent', 'taiz', 'houthi', 'saleh', 'shelling', 'castle', 'tahreer', 'shootings', 'explosions', 'grenades', 'thrown', 'vehicles', 'baffles', 'sweden', 'tisa', 'niceville', 'prohibits', 'grills', 'decks', 'condos', 'insurance', 'aust', 'wmur', 'agricultural', 'aldwark', 'nyorks', 'grim', 'fewer', 'piglets', 'displaces', 'troy', 'albany', 'ppsellsbabyparts', 'band', 'rdg', 'hospitalized', '7news', 'rage', 'nh1news', 'pundits', 'mafireems', 'wmur9', 'kcarosawmur', 'wsls', 'tips', 'childcare', 'expensive', 'towns', 'charred', 'remains', 'rips', 'damaging', 'neighboring', 'residential', 'prisoners', 'nazi', 'camp', 'treblinka', 'rebelled', 'seizing', 'displaced', 'tore', 'mht', 'confirm', 'pensioner', 'unsafe', 'catching', 'melbourne', 'kalispell', 'straighten', 'brother', 'swooping', 'finger', 'acres', 'drifting', 'temecula', 'glue', 'ages', 'content', 'sigmund', 'freud', 'heartbroken', 'nellis', 'cheyenne', 'uh', 'robbie', 'derby', 'redsox', 'popcorn', 'stake', 'brandace', 'ntc', 'survived', '500‰û', 'shower', 'flushes', 'lining', 'mizuta', 'calorie', 'klondike', 'alton', 'livestream', 'touched', 'plate', 'nut', 'joke', 'couches', 'fr', 'runkeeper', 'loseit', 'stevie', 'crusty', 'op', 'grandest', 'scales', 'mph', 'brisk', 'pace', 'myfitnesspal', 'flame', 'break', 'tounge', 'pepperoni', 'cardio', '21dayfix', 'lifting', 'weights', 'qvc', 'corey', 'curlin', 'irons', 'necks', 'computer', 'mcdonald', 'coolest', 'rl', 'boyfriend', 'clothes', 'recorded', 'crit', 'prob', 'rhymes', 'bible', 'prodigal', 'returned', 'stepping', 'noodles', 'crap', 'grilled', 'sandwich', 'welp', 'dunce', 'accidentally', 'cigarette', 'joked', 'wood', 'innings', 'cubstalk', 'complex', 'contained', 'pitches', 'inn', 'keithyy', 'gettin', 'blocks', 'oven', 'degrees', 'fool', 'coverage', 'pro', 'material', 'nuggets', 'microwave', 'intead', 'calling', 'learned', 'burned‰û', 'stabbed', 'cheated', 'dirt', 'bike', 'cutting', 'sparks', 'brush', 'sparked', 'landowner', '10‰û', 'hermancranston', 'wired', 'budgets', 'chopped', 'jalapenos', 'lava', 'gloves', 'peppers', 'mind', 'geoengineering', 'fuels', 'unstable', 'temps', '165å¡', 'yall', 'bugs', 'candle', 'cocoa', 'sip', 'nap', 'awesomesauce', 'atk', 'letsfootball', 'skanndtyagi', 'comrades', 'seeking', 'torture', 'nod', 'mandem', 'totteham', 'maddddd', 'dem', 'ting', 'routine', 'that‰ûªs', 'weightless', 'fatburning', 'burnfat', 'workout', 'bulletproof', 'funeral', 'slouching', 'towards', 'isles', 'warlords', 'draenor', 'wasn‰ûªt', 'crusad', 'chris', 'mullin', 'john‰ûªs', 'sjubb', 'except', 'zionism', 'kanger', 'coils', 'vaping101', 'keeps', 'attendees', 'visible', 'tucson', 'mountains', 'steep', 'terrain', 'mountains‰û', 'core', 'gymtime', 'worktime', 'auditiontime', 'roccotime', 'nobs', 'neon', 'modest', 'sniff', 'sniiiiiiff', 'er', 'donny', 'peddle', 'floorboard', 'backroad', 'pile', 'out‰û', 'now‰û', 'bridges', 'forte', 'method', 'integrates', 'format', 'interval', 'muscle', 'shaping', 'techniqu', 'desire', 'goals', 'lou', 'holtz', 'uhhhhh', 'crusade', 'boat', 'memories', 'web', 'entry', 'fever', 'belo', 'ooow', 'swallow', 'ooo', 'ole', 'justin', 'bieber', 'arab', 'autocracies', 'enemity', 'stacks', 'apply', 'parents', 'balls', 'sunscreen', 'dungeons', 'raids', 'legion‰û', 'counter', 'alexandrian', 'jerry', 'reporters', 'conference', 'experiencing', 'influencers', 'socialtimes', 'ika', 'tuning', 'soup', 'diet', 'recipes', 'recip', 'lighter', 'planned', 'demonstrations', 'pp', 'accomplishing', 'ti5quotes', 'ti5', 'mv', 'strutting', 'bg', '120v', 'breaker', 'threshold', 'awg', 'commonly', '1800w', 'outlets', 'results', 'dancing', 'challenges', 'stone', 'atleast', 'individuals', 'rid', 'drop', 'crawl', 'jakey', 'brave', 'clare', 'salute', 'rioters', 'looters', 'duckvillelol', 'flips', 'table', 'screw', 'grabs', 'be4', 'magic', '7k', 'dozen', 'zx', 'ost', 't17', 'ogre', 'claw', 'attempting', 'delany', 'dhalgren', 'beastly', 'downing', 'amongst', 'descriptions', 'ruin', 'retweet', 'monsters', 'pulling', 'causing', 'evacuations', 'ali', 'planes', 'ran', 'booradleyvancullen', 'pouring', 'storen', 'curing', 'cancer', 'puppies', 'contemplating', 'deserve', 'disrespect', 'gays', 'destroying', 'meteors', 'crashing', 'strikers', 'phalaborwa', 'striking', 'chinese', 'attacking', 'flamethrower', 'rendered', 'kitten', 'burnt', 'churches', 'understood', 'chase', 'murderers', 'thoroughly', 'express', 'stupid', 'brutality', 'nvr', 'mistreated', 'streetlight', 'bush', 'explain', 'volcanoes', 'spouting', 'co2', 'winter', 'sydney', 'toes', 'ted', '‰ûïwe', 'mitt', 'omfg', 'tiny', 'freaking', 'soaring', 'pity', 'scotland', 'tweetlikekez', 'villa', 'slash', 'drought', 'bushfire', 'albania', 'vict', 'seems', 'moonbeam', 'tokes', 'blames', 'traumatised', 'appreciativeinquiry', 'hillary', 'standwithpp', 'holiday', 'relax', 'sunbathe', 'spain', 'californian', 'oct', 'swimming', 'scarier', 'halts', 'wet', 'pleas', 'warming', 'photographer', 'wolter', 'peeters', 'nsw', 'rural', 'la‰û', 'oblivious', 'dislike', 'evacuate', 'affected', 'govts', 'advised', 'honour', 'privlege', 'witnessed', 'erupting', 'volcano', 'raging', 'atmosphere', 'none', 'believers', 'eugene', 'conspiracies', 'population', 'triumphant', 'eggs', 'yolk', 'warfighting', 'robots', 'ban', 'premature', 'ieee', 'spectrum', 'thankful', 'evil', 'zero', 'afghan', 'intensifies', 'sees', 'sharp', 'honest', 'rampage', 'levels', 'bottling', 'explodes', 'higher', 'countless', 'globe', 'orchestrated', 'disinfo', 'criticalmedia', 'poignant', 'reminder', 'unfortunate', 'utilises', 'welly', 'aucklnd', 'reined', 'drinks', 'each', 'stool', 'albums', 'memorial', 'wth', 'sorrow', 'throwin', 'crazier', 'sutherland', 'untrained', 'firing', 'honshu', 'operation', 'coronet', '1m', '30m', 'fix', 'trusted', 'lambasted', 'respected', 'joke‰û\\x9d', 'prefer', 'thankfully', 'command', 'confirmed', 'predicting', 'goddamn', 'wrap', 'warns', 'pbs', 'iraq', '‰ûïthe', 'paved', 'hypocrisy', 'francisunderwood', 'hoc', 'revise', 'scenario', 'iranian', 'tuned', 'highest', 'hates', 'prevented', 'iwo', 'jima', 'okinawa', 'numbers', 'sides', 'allies', 'minimum', 'ftsn', 'ftsnnewsdesk', 'sucked', 'whimsy', 'pertains', 'derailment', 'patna', 'casualty', 'branch', 'surety', 'underwriter', 'courses', 'state‰û', 'rates', 'movement', 'commercial', 'casu', '80s', 'aids', 'they‰ûªd', 'grown', 'david‰û', 'legaljobs', 'litigation', 'attorney', 'scottsdale', 'specialist', 'bodily', 'sanity', 'brings', 'cord', 'gray', 'whale', 'pacific', 'critically', 'endangered', 'grandfather', 'groups', 'marines', 'rate', 'predictions', 'quality', 'licensed', 'produc', 'denver', 'hiram', 'tony', 'blairs', 'benzema', 'increasingly', 'benitez', 'bound', 'gritty', 'thursdays', 'amico', 'tag', 'amicospizzato', 'seeyouatamicos', 'recall', 'sends', 'industry', 'unpredictable', 'disconnected', 'shines', '30th', 'september', 'georgian', 'wines', 'political', 'campaign', 'ukraine', 'espresso', 'poss', 'busiest', 'thurs', 'estimates', 'islands', 'telling', 'homealone2', 'film4', 'metrics', 'correlate', 'marketwatch', 'agencies', 'inc', 'manager', 'rollingmeadows', 'independence', 'rowyso', 'setlist', 'documenting', 'canceling', 'warships', 'repay', 'intensity', 'catering', 'auditory', 'effect', 'hcxvneoav', 'conning', 'portfolio', 'diversification', 'insurers', 'lich', 'roleplay', 'willinghearted', 'rpn', 'nuke', 'albeit', 'unsuccessful', 'tens', 'millions', '5sos‰û\\x9d', 'buck', 'hardstyle', 'messy', 'recording', 'skype', 'fans', 'retweeting', 'dm', 'moi', 'est', 'plutot', 'heartbreak', 'ufhguhfidt', 'delivered', 'catastrophe', 'ejaculating', 'migrating', 'iphoto', 'wasted', 'hrsto', 'cultivating', 'joy', 'pjnet', 'tcotåê', 'borrowers', 'puppet', 'republic', 'naemolgo', 'firmly', 'yiraneuni', 'misfortunebut', 'opens', 'athlete', 'principle', 'fulfilling', 'clerical', 'duties', 'iphone', 'twist', 'ultimate', 'ov', 'envision', 'placing', 'adoption', 'committed', 'stylist', 'prime', 'bless', 'diff', 'solo', 'generally', 'pros', 'company', 'failures', 'requiring', 'repair', 'pisces', 'emotional', 'stannis', 'cara', 'chucker', 'scenes', 'vmas', 'pixelsmovie', 'nor', 'burford', 'lorries', 'council', 'thomasistrash', 'adjuster', 'safeco', 'mutual', 'spark', 'quietly', 'personality', 'seem', 'modern', 'payday', 'loans', 'promote', 'finance', 'liqd', 'bds', 'rated', 'imdb', 'hilarious', 'ceo', 'divestitures', 'temper', 'q2', 'hotness', 'cope', 'swifties', 'evolve', 'vanilla', 'anymore', 'planning', 'nar', 'phuket', 'controlled', 'reckless', 'bottom', 'friends', 'kylie', 'ate', 'bruce', 'coffees', 'rockstar', 'wolves', 'denali', '48', 'savedenaliwolves', 'tweetstorm', 'finished', 'mr', 'president', 'puerto', 'rico', 'r5live', 'studio', 'discussion', 'sheer', 'herring', 'scraptrident', 'becomes', 'alexander', 'archipelagowolves', 'unreal', 'frustration', 'pieceofme', 'learning', 'eruption', 'benefits', 'acute', 'takes', 'precedent', 'ptsd', 'follows', 'undetected', 'loss', 'shirtless', 'dominion', 'reveillertm', 'macabrelolita', '‰û÷amino', 'acids‰ûª', 'bombings', 'felt', 'wp', 'decimated', 'apocaly‰û', 'å£1', 'wages', 'wage', 'structure', 'ouch', 'nyclass', '500k', 'mailer', 'invading', 'mistake', 'diplomacy', 'replace', 'custom', 'rom', 'weren', 'managers', 'wearing', 'uniforms', 'implication', 'glove', 'destructive', 'volcanic', 'thirty', 'respond', 'looming', 'uncertain', 'timing', 'proportions', 'british', 'manservant', 'pampered', 'wealthy', 'brit', 'reversal', '2040', 'climatechange', 'don‰ûªt', 'deluded', 'jim', 'rickards', 'outcomes', 'faster', 'expecte', 'netanyahu', 'religious', 'extreme', 'regulations', 'yorker', 'our‰û', 'kessler', 'exponential', 'proliferation', 'satellites', 'gravitymovie', 'informed', 'mute', 'primarily', 'plume', 'ash', 'wh', 'sell', 'blissfully', 'unaware', 'bathed', 'cared', 'suffered', 'pants', 'resorted', 'tying', 'jacket', 'thrift', 'trustory', 'shortages', 'study', 'ensuing', 'debt', 'assume', 'defendant', 'åç', 'disagreements', 'occurrence', 'åè', 'hazardous', 'chemical', 'principles', 'practices', 'brothers', 'armory', 'sf', 'chem', 'illinois', 'simulate', 'nu', 'hazmat', 'weeklong', 'biological', 'radioactive', 'nbc', 'exercise', 'md', 'upsetting', 'bee', 'savebees', 'krefeld', 'operations', 'underway', 'reportly', 'collapsed', 'bees', 'instead', 'toxic', 'harm', 'spill', 'seattle', 'dependency', 'counselor', 'intern', 'beaumont', 'benews', 'ijetalerts', 'drills', 'pope', 'visit', 'spohn', 'shoreline', 'loot', 'pipe', 'ricin', 'leak', 'drugs', 'cartel', 'cocaine', 'marijuana', 'heroine', 'kidnap', 'bust', 'behavior', 'mixers', 'purposes', 'jyb', 'alert', 'bacup', 'smells', 'watersafety', 'included', 'plants', 'rossendale', 'suppose', 'northwestern‰û', 'hammondville', 'jewell', 'term', 'obsessed', 'nueva', 'favorita', 'bits', 'cleanup', 'liquidation', 'object', 'usar2015', 'usar15', 'ruor', 'evanston', 'attending', 'hungry', 'fortunately', 'reworked', 'plumbing', 'draw', 'glitter', 'rinse', 'v4', 'lindenow', '15pm', 'prompted', 'factory', 'redruthåêuk', 'ibiza', 'pill', 'cliff', 'noooooooo', 'proceeds', 'neil', 'crossfit', 'decent', 'billers', 'promoted', 'billings', 'humble', 'pushes', 'edge', 'teach', 'fly', '2leezy', 'grabbing', 'sweaty', 'ruebs', 'endures', 'climb', 'capture', 'bride', 'groom', 'regress', 'slip', 'dignity', 'void', 'mate', 'faved', 'funnynews', 'collapses', 'chunks', 'youre', 'trash', 'alex', 'facts', 'favor', 'andre', 'gore', 'elite', 'landslide', 'thinkpink', 'magichairbump', 'adding', 'streak', 'rumor', 'de', 'lil', 'rescued', '80ft', 'shaldon', 'pitchers', 'gracefully', 'cheering', 'flip', 'fucks', 'sake', 'neck', 'camping', 'happily', 'ferry', 'knocking', 'keen', 'hiking', 'fitness', 'excitedmuch', 'gulfport', 'realizations', 'jumps', 'cliffs', 'lower', 'striked', 'otm', 'yoenis', 'production', 'ha', 'kidding', 'esn', 'cilla', 'stroke', 'revealed', 'next‰û', 'tasty', 'sea', 'coastal', 'erosion', 'crumbly', 'easily', 'shadows', 'nieuws', 'runaway', 'minion', 'dublin', 'materialism', 'talkradio', 'technique', 'paramedic', 'blow', 'option', 'vinyl', 'tee', 'bundle', 'yahoo', 'revenues', 'barbaric', 'saudies', 'relive', 'austrian', 'correction', 'tent', 'hnlnow', 'investing', 'actions', 'strategies', 'lasting', 'blowout', 'trapped', 'circus', 'clowns', 'implode', 'enabling', 'cain', 'val', 'emmerdale', 'summerfate', 'eurocrisis', 'proposed', '‰ââ', 'paso', 'commodity', 'loves', 'eminem', 'nate', 'dogg', 'fresh‰û', 'timestack', 'sunsets', 'mesmerizing', 'images', 'spike', '30min', 'ckec', 'oikawa', 'karasuno', 'overwhelming', 'happiness', 'knees', '4th', 'reactions', 'tribute', 'thane', 'unfortun', 'sa', 'ferrochrome', 'verge', 'oral', 'technical', 'wlb', 'fixing', 'sl', 'rsa', 'bd', 'sham', 'exhaustion', 'bailout', 'reacts', 'energiewende', 'directly', 'value', 'roh3', 'jfb', 'tfb', 'alrasyid448iturasya', 'smantibatam', 'roh3smantibatam', 'rampant', 'humiliate', 'rival', 'theashes', 'growth', 'dries', 'bhp', 'billiton', 'oil', 'price', 'bites', 'åèmgn', 'africaå¨', 'pin', '263789f4', '‰ââ86bn', 'blasted', 'pancakes', 'iowa', 'high‰û\\x9d', 'testament', 'lockstep', 'lowered', '401ks', 'carpenter', 'ask', 'rebuild', 'entrances', 'gut', 'deutsch', 'musik', 'monarchy', '35w', 'honoring', 'bake', 'dorret', 'chocolate', 'gateau', 'jan‰û', 'mattingly', 'bundy', 'mcgwire', 'standing', 'bowling', 'alley', 'june', '10th', 'phil', 'gravel', 'sobbing', 'endlessly', 'angry', 'oneheartonemindonecss', 'burst', 'lungs', 'pit', 'opened', 'district', 'coaches', 'cpr', 'course', 'panama', 'ceiling', 'darkness', 'tongue', 'cum', 'puddle', 'breathe', 'zimbabwe', 'dictator', 'below', 'punishing', 'exhausted', 'entity', 'forced', 'montego', 'sewer', 'tvjnews', 'bcuz', 'heartless', 'whipped', 'animal', 'billowing', 'southtowne', 'twisted', 'tut', 'officer', 'influential', 'betrayed', 'severing', '3d', 'developed', 'albertville', 'evening', 'valleywx', 'swing', 'portable', 'closet', '3x', 'moir', 'mortified', 'heels', 'planted', 'fav', 'greek', 'tsipras', 'cost‰û', 'wallybaiter', 'answers', 'grandma', 'pronged', 'inquiry', 'launched', 'hongkong', 'furniture', 'retailer', 'dsc', 'moderately', 'munch', 'species', 'trusty', 'considering', 'spontaneously', 'lancaster', 'workers', 'spectators‰û', 'breather', 'sack', 'bones', 'collide', 'prayer', 'duty', 'piano', 'entertainer‰û\\x9d', 'musicians', 'freak', 'get‰û', 'waves', 'ripple', 'tide', 'howie', 'immediately', 'locked', 'jogger', 'worlds', 'awkward', 'efs300', 'trek', 'pluto', 'charon', 'gucci', 'chosen', 'shanghai‰ûªs', 'avenue', 'thunderstorm', 'masses', 'untill', 'fill', 'fri', 'sat', 'nlccollide', 'touchdown', 'pierce', 'veil', 'bracelet', 'wristband', 'soultech', 'realities', 'strange', 'glitch', 'gateway', 'chairs', 'tables', '10x', 'gamma', 'january', 'waits', 'witches', 'supernatural', 'sibling', 'rivalry', 'wogc', 'align', 'bowery', 'perez', 'hilton', 'niley', 'shipper', 'hide', 'justine', 'vamos', 'newells', 'vancouver', 'host', '100s', 'events', 'isea2015', 'funfact', 'isle', 'tlc', 'suddenly', 'houston', 'gemma', 'bowe‰û', 'powerful', 'thedoolinggroup', 'buses', 'åê', 'slams', 'bordento', 'sam', 'lizzie', 'explore', 'unjust', 'boundaries', 'uel', 'coincide', 'finer', 'subatomic', 'spells', 'devia', 'ler', 'wattys2015', 'wattpad', 'teenfiction', 'conspiracy', 'democratic', 'plant', 'lastword', 'simple', 'cyclist', 'collided', 'runner', 'roanoke', 'greenway', 'verdict', 'podcast', 'ihave44episodesofgg', 'nojoke', 'managed', 'selfie', 'newswatch', 'lansdowne', 'sts', 'ptbo', 'emerg', 'lanjut', 'dirumah', 'yagitudeh', 'jake', 'rumah', 'cipinang', 'promoting', 'useless', 'force', 'however', 'penetrate', 'scored', 'punch', 'quest', 'squeaky', 'skull', 'pleasure', 'huzzah', 'vermilion', 'slithering', 'viscous', 'gold', 'yeahs', 'erykah', 'badu', 'monsoon', 'rains', 'trains', 'eau', 'claire', 'suv', 'sentenced', 'chippewa', 'arc', 'emery', 'thestartofemandyou', 'shotgun', 'denton', 'closes', 'highway', 'wheeler', 'then‰û', 'moved', 'marketplace', 'bol', 'apm', 'dresser', 'innit', 'anna', 'harwich', 'happen‰û', 'stairs', 'hadnt', 'butgod', 'alaskaseafood', 'askforalaska', 'maritime', 'carrier', 'shinto', 'maru', 'tanker', 'hoshin', 'nautical', 'junction', 'beep', 'horn', 'ssp', 'aeg', 'driven', 'akram', 'carhot', 'exchanged', 'air1bullet', 'tyre', 'dan', 'hughes', 'stretcher', 'danielle', 'robinson', 'monkey', 'heads', 'ninja', 'commence', 'pple', 'fishing', 'drob', 'intersection', 'crashing‰û', 'san', 'antonio', 'carted', 'guards', 'mesick', 'bicyclist', 'constitutional', 'politic‰û', 'beau', 'slide', 'justinbieber', 'harrystyles', 'cern', 'oo', 'harrybecareful', 'journey', 'cows', 'restore', 'southwest', 'omaha', 'utility', 'stepkans', 'victoria', 'pvris', 'ht', 'literarycakes', 'collision', 'broadway', 'local‰û', 'knob', 'sac', 'elkhorn', 'blvd', 'walerga', 'trfc', 'enrt', 'g3', 'rainier', 'b2', 'fremont', 'ex', 'prayers', 'florin', 'franklin', 'hwy401', 'cambridge', 'opp', 'enroute', 'ag', 'fe', 'studebaker', 'inj', 'kenai', 'spur', 'baltimore', 'mchenry', 'tunnel', 'bore', 'nort', 'dilawri', 'thisisfaz', 'techesback', 'daaamn', 'southbound', 'coal', 'creek', 'i580', 'flynn', 'onr', 'marin', 'sr37', 'sr121', 'unkn', 'westminister', 'sr22', 'knott', 'starting', 'riverside', 'i15', 'sr91', 'con', 'valley', 'i405', 'us101', 'tragic', 'claimed', 'riding', 'fowlers', 'occupants', 'volunteer', 'joining', 'excite', 'sacramento', '13pm', 'mapleridge', 'lougheed', '203rd', 'dewdney', 'eto', 'division', 'solano', 'skaggs', 'i5', '43rd', 'offramp', 'qew', 'erie', 'approaching', 'niagara', 'removed', 'ofr', 'techerit', 'gadget', 'celestial', 'bodies', 'separate', 'trajectories', 'intertwine', 'themselves', 'wall‰û\\x9d', '‰ûïyou', 'weren‰ûªt', 'warned‰û\\x9d', 'rhett', 'motogp', 'indianapolis', 'espargaro', 'layout', 'worries', 'medium', 'endorsement', 'html5', 'beginners', 'fiery', 'slamming', 'lesson', 'lover', 'crashsterling', 'carmel', 'joeysterling', 'knight', 'broadwater', 'banjo', 'pilon', 'skateboarding', 'wamberal', 'bestival', 'molloy', '21st', 'mm', 'source', 'whipping', 'yellow', 'mustang', 'curb', 'sns', 'warned', 'pikin', 'pascoe', 'vale', 'outbound', 'tullamarine', 'fwy', 'citylink', 'moreland', 'rant', 'apparent', 'xoxo', 'dozens', 'cpanel', 'minivan', 'experiences', 'playoff', 'hairity', 'rainbow', 'spitty', 'pie', 'spikebot', 'thieves', 'dealership', 'gate', 'steal', 'killeen', 'classes', 'josh', 'salyers', 'blair', 'jenna', 'portmoody', 'clarke', 'seaview', 'kemsley', 'como', 'gatensbury', 'invited', 'feelin', 'so‰û', 'fairport', 'bgc14', 'photoshop', 'tools', 'tool', 'guide', 'cs6', 'liable', 'melissaandjoeychat', 'akilah', 'barrington', 'hills', 'estates', 'afte', 'helmet', 'silvery', 'floors', 'karnal', 'sampling', 'pbcanpcx', 'bordentown', 'depression', 'seeds', 'sown', 'scheer', 'huebel', 'downloading', 'tutorial', 'maj', 'muzzamil', 'offr', 'mi', 'mansehra', 'avoiding', 'microlight', 'landi', 'peritoengrafoscopia', '4am', 'husband', 'edinburgh', 'adult', 'eastwood77', 'knobhead', 'landing', 'whoevers', 'helped', 'ux', 'emv', 'insert', 'remove', 'pump', 'stripe', 'reader', 'pos', 'hamayun', 'shaheed', 'heli', 'ol', 'hopped', 'damnnnn', 'rookie', 'rochdale', 'heywood', 'showing', 'ipod', 'weloveyoulouis', 'suggest', 'email', 'server', 'qatar', 'havnt', 'windows10', 'intact', 'mh370', 'lifts', 'glided', 'bug', 'euro', 'restive', 'northwest', 'yup', 'knocked', 'yday', '2day', 'log', 'almighty', 'strength', 'bear', 'thief', 'hicksville', 'stole', 'phones', 'fled', 'aqgco', 'mhtw4fnet', 'sources', 'ticket', 'departed', 'overtook', 'tru', 'luv', 'typing', 'ants', 'notes', 'nightmarish', 'places', 'modestmouseremix', 'truestory', 'malfunctioning', 'php', 'scripts', 'database', 'unique', 'f496d', 'ttw', 'skh', 'personnel', 'majors', 'martyred', 'corps', 'proven', '9m', 'iplayer', 'commentary', 'pkadlik', 'jojowizphilipp', 'crush', 'viptickets', 'imgunnashakeitallnight', 'posting', 'womem', 'bf', 'wce', 'wedneday', 'loveyouuuu', 'aintsheperty', 'ina', 'buted', 'samel', 'aramis', 'pitch', 'strop', 'overrated', 'master0fsloths', 'secretly', 'lmk', 'fez', 'gorgeous', 'moe', 'bouta', 'wrestling', 'mmx', 'featuring', 'appadvice‰û', 'designgeeks', 'mrrobinson', 'thesteveharveyshow', 'vibe', 'freakingg', 'lively', 'yhngsjlg', 'tweeted', 'butterflies', 'wen', 'marketingåêmediocrity', 'realize', 'sevenfigz', 'tiffanyfrizzell', 'ive', 'sooo', 'fitz', 'tantrums', 'necessarily', 'playa', 'kenny', 'holland', 'crushed', 'nike', 'sportwatch', 'gps', 'nikeplus', 'neptunia', 'rank', 'colosseum', 'grinding', 'popeyes', 'bhavana', 'they‰ûªre', 'negative', 'prophecy', 'psychat', 'wrapup', 'cable', 'shares', 'disappoints', 'shuffled', 'slowly', 'parlor', 'ordered', 'waitress', 'arthritis', 'hopes', 'squirrel', 'mortar', 'pestle', 'bio', 'worstsummerjob', 'edwin', 'undo', 'kai', 'joins', 'ff', 'ren', 'aichi', 'psy', 'misaki', 'avril', 'curtainpanel', 'curtains', 'decor', 'blinds', 'shades', 'mcutchen', 'mango', 'charcoal', 'handled', 'stress', 'exceptionally', 'pressed', 'cor4', 'edwing', 'gym', 'flurry', 'clearly', 'priorities', 'ortiz', 'bunting', 'forefathers', 'clelli', 'km', 'papi', 'drivers', 'reap', 'gameofthrones', 'cantstoplaughing', 'nick', 'moly', 'ayekoradio', 'brasswork', 'shaken', 'netlabel', 'electronicmusic', 'ccmusic', 'viewers', 'dumb', 'sells', 'commenters', 'dothraki', 'westeros', 'underestimate', 'disillusioned', 'character', 'crowe', 'tropes', 'nora', 'jones', 'empire', 'welcoming', 'crushed‰û', 'chapoutier', 'crozes', 'hermitage', 'violets', 'slate', 'yum', 'wine', 'thirst', 'curfew', 'ara', 'reporting', 'fighters', 'infiltrated', 'ashrafiyah', 'afrin', 'aim', 'attacks', 'ypg', 'imposed', 'shut', 'spend', 'campus', 'violations', 'stolen', 'bicycles', 'cus', 'overtime', 'kodak', 'african', 'refugees', 'kenye', 'bedtime', 'gotten', 'btsprep', 'parenting', 'exofficio', 'brief', 'wnd', 'cld', 'sct014', 'bkn032', 'inst', 'apch', 'rwy', 'oper', 'taxiways', 'foxtrot', 'navbl', 'tmp', 'nope', 'tutor', 'preferably', 'texting', 'grove', 'clock', 'smfh', 'everybody', 'blind', 'bloke', 'hassle', 'hehe', 'hahaha', 'obligations', 'goodbyes', 'graduated', 'doctor', 'appointment', 'decided', 'damp', 'qnh', 'oldest', 'donthate', 'hanging', 'havoc', 'fest', 'sct012', 'bkn025', 'tlk', 'widout', 'nuh', 'di', 'itz', 'rubbery', 'knw', 'bc19', 'bark', 'unlocking', 'dis', '5pm', 'themed', 'given', 'wonders', '30', 'lim', '9pm', 'leh', 'walter', 'rewatchingthepilot', 'teamscorpion', 'cyclone', 'tropics', 'scorpion', 'revival', 'ten', 'annual', 'hoops', 'recruiting', 'photography', 'boltåêcyclone', '400dr', 'outlet', 'packåêfor', '30‰û', 'cardinal', 'bo', 'sdb', 'cnua', 'skye', 'purpose', '4k', 'gigatech', 'tropical', 'forming', 'guam', 'molave', 'severe', 'bulletin', '‰ûï', 'hannaph‰û\\x9d', 'issued', 'jhaustin', 'ames', 'tribune', 'on‰û', 'coney', 'retract', 'pam', 'condition', 'easton', 'softball', 'fastpitch', 'sk398', 'derives', 'powers', 'norman', 'vincent', 'peale', 'aint', 'popobawa', 'revolves', 'tropicalweather', 'tracking', '1245z', 'tropicalupdate', 'ante', 'hudhud', 'chandrababu', 'valle', 'ne', 'komen', 'devastates', 'hanna', 'vanuatu', 'encouraged', 'talent', 'misdirection', 'ignite', 'vanishing', 'phantom', 'kurokobot', 'comdev', 'stations', 'bangladesh', 'broadcasting', 'programs', 'address', 'upcoming', 'imperialism', 'spins', 'militarism', 'crushes', 'peoples', 'mercury', 'moulding', 'cobra', '429cj', 'waige', 'badass', 'scorpionpilot', 'passion', 'overblown', 'majesty', 'emperor', 'salman', 'khan', 'unstoppable', 'bajrangi', 'bhaijaan', 'crosed', 'raleigh', 'gear', 'sportinggoods', 'quarter', 'trim', '945hpa', 'maximum', '45m', 'gust', '60m', 'sama', 'fate', 'rindou', 'vroman', '‰ûï‰û\\x9d', 'blending', 'emergencies', 'mariana', 'utc', 'localeventcountdown', 'curtain', 'shelby', 'rstoday', 'wfp', 'delivers', 'dhaka', '‰ûòthe', 'rodder', 'keeling', 'barracuda', 'riviera', 'rohingya', 'kyee', 'nockthie', 'hamlet', 'taungbazar', 'buthidaung', 'severely', 'damaged', 'outfit', 'ootd', 'doubleghats', 'ascend', 'unions', 'supportive', 'economically', 'å£300m', 'gta', 'collateral', '3460', 'limestone', 'ln', 'yellowstone', 'fieldstone', '08', 'knee', 'solution', 'complaining', 'phoenix', 'emblem', 'gigant', 'difficulty', 'wha', '‰û¢this', 'fooled', 'perps', 'ny35', 'windy', 'reusing', 'advanced', 'equipments', 'transit', 'drumming', 'champaign', 'fdbdp', 'carful', 'spotting', 'wy', 'lm‰ûªs', 'granted', 'sandy', 'royals', 'outs', 'arachys', 'pieces', 'mages', 'fairy', 'tail', 'specialize', 'natsu', 'dragneel', 'positions', 'lack', 'debate', 'pandering', 'increase', 'divides', 'corrodes', 'goodwill', 'upgraded', 'shitton', 'exclusively', 'playthrough', 'nyy', 'fence', 'homeowners', 'tor', 'enhanced', 'wording', 'key', 'contractor', 'nda', 'offer', 'prolly', 'trillion', 'crosses', '3rd', 'instant', 'np', 'metallica', 'inmates', 'remand', 'sectarian', 'shia', 'cleric', 'militias', 'withdraw', 'fightin', 'isis', 'uve', 'thesensualeye', 'model', 'cam', 'apr', 'pussy', 'boobs', 'asian', 'nude', 'roadway', 'statesville', 'vergil', 'agnus', 'dmd', 'glaucoma', 'occurs', 'fluid', 'optic', 'nerve', 'eyefacts', 'gaymaro', 'reputation', 'jsunnews', 'madison', 'ar', 'alpine', 's61', '231a', 'puncture', 'foreign', 'index', 'initial', 'encounter', 'icd10', 'queenswharf', 'brisbane', 'fuckkkkkk', 'fuckboy', 'superficial', 'fettilootch', 'slanglucci', 'oppressions', 'danger', 'frequently', 'distraction', 'realistic', 'scully', 'sfe', 'changes', 'wildlife', 'union', 'blast', 'rockin', 'preview', 'artistsunited', 'thunderstorms', 'cawx', 'onceaho', 'abella', 'emp', 'alwaysaho', 'fish', 'eaten', 'poisoned', 'preservation', 'parks', 'imposition', 'imagined', 'concern', '‰ûïthis', 'mind‰û', 'suspense', 'importantly', 'dangers', 'interruptions', 'annoy', 'grains', 'wheat', 'trespass', 'lest', 'ethical', 'relevance', 'poisoning', 'slides', 'permits', 'hunting', 'outnumbering', 'licenses', 'petersburg', 'prada', 'films', 'nonprofit', 'partnerships', 'ham', 'relegation', 'afc', 'excitement', 'underwater', 'cave', 'diving', 'allen', 'present', 'patients', 'violation', 'ppe', 'protection', 'dehydration', 'spider', 'someones', 'smth', 'critical', 'pundit', 'grave', 'rails', 'skyler', 'investigate', 'robert', 'mueller', 'complaints', 'nov', 'operate', 'outskirts', 'modibo', 'maiga', 'fucktard', 'coyi', 'received', 'parasite', 'transplantee', 'kidney', 'courage', 'engage', '28', '17', 'remote', 'norse', 'landscapes', 'loads', 'boring', 'snotgreen', 'wastelands', '4sake', 'argsuppose', 'born', 'attained', 'individl', 'rights', 'courtof', 'forbids', 'goku', 'birb', 'naaa', 'legit', 'sore', 'considered', 'makers', 'possum', 'luis', 'hhahaha', 'intense', 'nd', 'attractive', 'yh', 'iwasdisappointedby', 'telltale', 'gameplay', 'unconscious', 'dramatic', 'teases', 'hundreds', 'libyan', 'migrant', 'capsizes', 'waved', 'misled', 'askcharley', 'nooooo', 'hotty', 'flaming', 'stark', 'perspectives', 'writings', 'contributions', 'download', 'lmaov', 'trend', 'babalmao', 'nyozi', 'kwaaaaa', 'reckon', 'pete', 'noooooooooooo', '411naija', 'kaduna', 'bailed', 'nite', 'b4', 'moore', 'feelings', 'niggah', 'suing', 'prater', 'pronounced', 'wyrmwood', 'ripross', 'bff', 'boys', 'otp', 'ssshhheeesshh', 'rep', 'vibrator', 'shaped', 'vape', 'busted', 'whoo', 'bunk', 'plague', 'console', 'ring', 'gainesville', 'ferguson', 'papiichampoo', 'era', 'civility', 'prez', 'supports', 'iranians', 'chants', 'cousins', 'hang', 'rss', 'recognize', 'spouse', 'certificate', 'rrod', 'by‰û', 'involves', 'kicking', 'shitty', 'nobleman', 'elven', 'weirdo', 'seemeth', 'unto', 'thereof', 'narrowly', 'headache', 'katherine', 'starve', 'confession', 'hamster', 'froze', 'bashes', 'comparison', 'leaks', 'maintenance‰û', 'revolt', 'punishable', 'uploading', 'smoochy', 'awakenings', 'clips', 'bicentennial', 'cyprus', 'analysis', 'mullah', 'omar', 'taliban', 'ranks', 'demise', 'molys', 'tradery', 'deaths', 'statistics', 'spirituality', 'spiritual', 'awakening', 'slain', 'journalist', 'unknowingly', 'predicted', 'sedan', 'pusssssssssy', 'shoook', 'cecilthelion', 'postponed', 'marilyn', 'monroe', 'ripriprip', 'ari', 'hints', 'snippets', 'chick', 'fil', 'legionnaires', 'rises', 'vaxshill', 'measles', 'complications', 'looses', 'crickets', 'bigamist', '‰û÷first‰ûª', '‰û÷second‰ûª', 'pregnant', 'u‰û', 'i77', 'airlift', 'voter', 'fraud', 'vra50‰û\\x9d', 'palermo', 'shipwreck', 'bsf', 'jawans', 'fidayeen', 'aks', 'insas', 'rifles', 'blame', 'breast', 'milk', 'superfood', 'worldwide', 'stalled', 'contributing', 'pedestrians', 'bicyclists', 'runners', '250k', 'physician', 'cdcwhistleblower', 'paused', 'deeper', 'foodborne', 'illness', 'dears', 'resistant', 'infections', 'adiossuperbacterias', 'mother‰û', 'irony', 'usually', 'objective', 'older', 'nghlth', 'seemed', 'beliefs', 'warranted', 'japs', 'focus', 'fbi', 'constitute', 'epidemic', 'publichealth', 'liz', 'stewart', 'julian', 'earlier', 'profits', 'weyburn', 'warn', 'fentanyl', 'province', 'annoying', 'stat', 'auto', 'applies', 'lightrail', 'cancers', 'equate', 'blackpool', 'kowing', 'gunsmissilesbombs', 'warfare', 'neonatal', 'minister', 'guyana', 'reverse', '11', 'specifically', 'utilized', 'chrissie', 'adam', 'finn', 'fco', 'condemns', 'resulted', 'critters', 'msha', 'enforcement', 'angela', 'sanders', 'roundhouse', 'increased', 'percent', 'mothe', 'walmart', 'steps', 'innovative', 'seat', 'beluga', 'seaworld', 'average', 'opseaworld', 'compulsory', 'uses', 'notrocketscience', 'aerospace', 'exec', 'th', 'malaysia', 'airlines', 'flight', 'disappeared', '17months', 'discovered', '370', 'confirms', 'jet‰ûªs', 'floated', 'rì©union', 'york', 'surely', 'disappearance', 'novel', 'relatives', 'discovery', 'nbcnightlynews', 'malaysian', 'billneelynbc', 'wreckage', 'najib', 'razak', 'isla', 'closure', 'kamindoz', 'belongs', 'breakth', 'onlinemh370', 'onlinea', 'confident', 'recovered', 'investigators', 'conclusively', 'onlin', 'awash', 'abstract', 'dustpig', 'explains', 'deluge', 'rmt', 'browne', 'listeners', '100', 'requests', 'organizing', 'package', 'tours', 'yyeso', 'apologise', 'sincerely', 'inevitable', 'grudges', 'decide', 'unfollow', 'baking', 'cakes', 'ja', 'possibly', 'candidate', 'resources', 'floods', 'providers', 'towboat', 'sympathy', 'vtc', 'eulogies', 'whatsapp', 'tormented', 'matias', 'xavier', 'rowers', 'tweeting', 'nats', 'celeb', 'endorsements', 'wa', 'smiles', 'delaying', 'fundamentals', 'valuations', 'despite', 'cuana', 'minded', 'forrestmankins', 'applicable', 'battles', 'trois', 'rivieres', 'legionstrackandfield', 'naked', 'normally', 'embrace', 'odd', 'torso', 'scale', 'unprecedented', 'favs', 'torrent', 'client', 'recommended', 'java', 'dynastic', 'period', 'dumuzid', 'shepherd', 'vines', 'encaustic', 'cerography', 'portion', 'byityf', 'surf', 'motion', 'therapy', 'programme', 'ensembles', 'optimistic', 'operational', 'counterpart', 'dressing', 'incessant', 'perhaps', 'applied', 'childsexabuse', 'truly', 'backs', 'unloads', 'descriptive', 'indecency', 'owners', 'differently', 'pt1', 'slew', 'posts', 'fixed', 'unfml', 'boyhaus', 'heaven', 'jakeåê', '‰ûïafter', 'warm', 'montana‰ûªs', 'gishwhes', 'soaked', 'pads', 'tampons', 'havin', 'flashbacks', 'lived', 'weimar', 'berlin', 'hustlin', 'unter', 'der', 'linden', 'wrinkled', 'decayed', 'teaching', 'shadowman', 'monstrosities', 'hough', 'jeff', 'dougkessler', 'b2b', 'b2bagency', 'slideshare', 'contentmarketing', 'healing', 'translated', 'vince', 'mcmahon', 'billionaire', 'bigdata', 'nfl', 'deflategate', 'incremental', 'wanting', 'search', 'frustrated', 'asae15', 'exhibitor', 'assnchat', 'meditationbymsg', 'meditation', 'divine', 'blessing', 'canadian', 'tops', 'downright', 'novalismi', 'mallord', 'william', 'turner', 'clicca', 'sul', 'titolo', 'decade', 'billion', 'harperslegacy', 'deluged', 'unhappiness', 'quiz', 'image', 'tons', 'telemarketing', 'floodwater', 'persistent', 'invoices', 'shape', 'anq', 'likkly', 'os', 'mud', 'tetovo‰û', 'deutsche', 'sprache', 'susinesses', 'stlnd', 'glimpses', 'hyderabad', 'rainfall', 'cre', 'cile', 'doczone', 'cbc', 'che', 'colo', 'lzkely', 'poorly', 'indie', 'teens', 'escaping', 'farms', 'ris', 'togthe', 'abe', 'invokces', 'standwout', 'bcz', 'senate', 'murphy', 'republican', 'junk', 'invoicesx', 'ou', 'holds', 'spam', 'meant', 'olour', 'tarp', 'outfield', 'infield', 'invoicew', 'colouj', 'ikely', 'kickstarter', 'inroices', '|make', 'squabble', 'immigration', 'eurotunnel', 'migrants', 'oup', 'ivoices', 'invzices', 'sllikely', 'pileq', 'com', 'å¨', 'ogt', 'colomr', 'are|deluged', 'urs', 'testy', 'hatred', 'patience', 'friending', 'waters', 'heading‰û', 'alerts', 'afterwards', 'savour', 'prolong', 'sigue', 'dismay', 'surrendered', 'descending', 'disturbed', 'sunrise', 'haiku', 'poetry', 'wimberley', 'atx', 'smtx', 'cruddy', 'ostensibly', 'macabre', 'contribute', 'pandemic', 'ant', 'capital', 'winged', 'insects', 'rand', 'strategy', 'demolish', 'barton', 'enugu', 'structures', 'international', 'abbswinston', 'zionist', 'tire', 'cottages', 'southend', 'doone', 'architects', 'permission', 'natwest', 'tower', 'city‰ûªs', 'tallest', 'ce', 'badotweet', 'bait', 'patriot', 'hater', 'brady', 'etoffe', 'charmeuse', 'clothesless', 'precisionistic', 'vestment', 'psfda', 'hired', 'goodrich', 'miami', 'files', 'bankruptcy', 'tulsa', 'manufacturing', 'corrupt', 'vandalise', 'aliyu', 'mani', 'secschoolinnigeria', 'whiny', 'aboooooortiooooonnnnns', 'defundpp', 'buys', 'napa', 'ashton', 'irwin', '5sosquotes', 'hahah', 'preset', 'bal', 'nades', 'radar', 'unconsciously', 'midget', 'inspiration', 'pen', 'jordan', 'freaked', 'akwa', 'ibom', 'uruan', 'udom', 'emmanuel', 'laundry', 'kp', 'root', 'absurdly', 'men‰ûªs', 'avigdorliberman', 'susiya', 'beheadings', 'postal', '|via', 'demolished', 'murlo', 'android', 'tribez', 'androidgames', 'gameinsight', 'wisdom', 'economists', 'establishment', 'nonsense', 'propagating', 'babri', 'todayhave', 'revenge', 'businessman', 'foiled', 'troupe', 'racial', 'breakdancers', 'orianna', 'xd', 'assemble', 'ghostwriting', 'rihanna', 'arin', 'gummy', 'grumpout', 'srsly', 'partner', 'dribbling', 'nostrils', 'urself', 'whether', 'embarrassment', 'charminar', 'engineers', 'telangana', 'beastin', 'tapas', 'folk', 'funtimes', 'historical', 'bigfoot', 'landmark', 'bluff', 'resort', 'pictured', 'above', 'bosvsnyy', '64oz', 'jar', 'patriots', 'whine', 'integrity', 'cantmakeitup', 'patriotsnation', 'spring', 'just‰û', 'saddlebrooke', 'i‰ûªd', 'embarrassed', 'indy', 'bananalivesmatter', 'hoteplivesmatter', 'hotepina', 'teeth', 'alfredo', 'gamer', 'backtoback', 'chargedup', 'media420', 'papicongress', 'journo', 'beit', 'kahel', 'hebron', 'sounders', 'finish', 'periscope', 'gofundme', 'rims', 'helpabrotherout', 'restaurants', 'chik', 'snowball', 'palestinians', 'kidnapped', 'uttarakhand', 'corruption', 'oneindia', 'underconstruction', 'builder', 'luxuryhomes', 'townhouses', 'home2', 'suites', 'salvi', 'bistro', 'make‰û', 'bbsnews', 'election', 'genisys', 'chargers', 'marquis', 'carlos', 'unrecognized', 'fridge', 'demolition', 'selection', 'consis', 'epa', 'youd', 'consistently', 'yo‰û', 'watering', 'defends', 'freestyles', 'cemetery', 'infuriates', 'cultural', 'maxsys', 'halifax', 'metrotown', 'resulting', 'maintained', 'burnaby', 'changefortheworse', 'factors', 'noxdv', 'sections', 'greystone', 'psychiatric', 'carthage', 'celebrity', 'celebrities', 'frog', 'flint', 'michigan', 'metropolis', 'highsmith', 'canberra', 'currong', 'abbruchsimulator', '‰û¢åê', 'waterways', 'achimota', 'buzzing', 'billy', 'york‰ûªs', 'nassau', 'coliseum‰û', 'delmont', 'onion', 'purchased', 'grill', 'fkn', 'pleb', 'ffa', 'foodstand', 'fairgrounds', 'finishing', '9am', 'appreciated', 'dodging', 'affordable', 'demo', 'kenosha', 'intro', 'opponents', 'motel', 'nears', 'flesh', 'personally', 'inthespiritwebuild', '2gether', 'ahhhhh', 'alec', 'med', 'tort', 'comp', 'injustice', 'mh', 'weight', 'cont', 'kit', 'dren', 'mothernaturenetwork', 'seattle‰ûªs', '‰û÷up‰ûª', 'paint', 'quarters', 'detains', 'orcas', 'widespread', 'zhejiang', 'removal', 'throughout', 'jose', 'willow', 'glen', 'trestle', 'fluffy', 'schedule', 'intriguing', 'dominant', 'jobbing', 'enemy', 'derail', 'destiny', 'blessings', 'here‰ûªs', 'wmata', 'morn', 'sms', 'birth', 'blaming', 'bloomberg', 'publish', 'activities', 'unite', 'freesikhpoliticalprisnors', 'rail', 'madhya', 'pradesh', 'gridlock', 'washingtonpost', 'simultaneous', 'alllivesmatter', 'incredibly', 'necessary', 'intentions', 'pitfalls', 'dallas', '8217', 'lem', 'quivk', 'tubestrike', 'mood', 'pisco', 'coya', 'smithsonian', 'wsjthinktank', 'colleenmnelson', 'kamayani', 'janata', 'gratia', 'announced', 'various', 'carb', 'treats', 'diabetes', 'meal', 'thedx', 'buyout', 'å£6bn', 'worldpay', 'ipo', 'skyåênews', 'renamed', 'italian', 'goonda', 'motley', 'hooligans', 'selfavowed', 'crooks', 'determined', 'hillary‰ûªs', 'bimbo', 'eruptions', 'questionable', 'dealings', 'bcc', 'increases', 'recovery', 'commentating', 'today‰ûªs', 'decis', 'sideness', 'graf', 'obvious', 'backtracking', 'whywebike', 'bikecommute', 'dysfunctionalredline', 'donzilla', 'trump2016', 'democrats', 'clintons', 'meddling', 'judgement', 'mpc', 'derailed', 'passenger', 'disabled', 'fh', 'bethesda', 'metrobus', 'note', 'interlocking', 'lines', 'path', 'sidewalks', 'enfant', 'mobbed', 'nightmarecommute', 'adani', 'modi', 'backed', 'tip', 'subject', 'everythign', 'federal', 'sw', 'mcpherson', 'worthless', 'passengers', 'commute', 'fcked', 'crocodile', 'wash', 'gravy', 'kidscompany', 'sacred', 'talston', 'mines', 'grimrail', 'depot', 'derails', 'hell‰û', 'illustration', 'subway', 'freeing', 'newidea', 'title', 'requa', 'identitytheft', 'taxreturn', 'cleaning', 'reopen', 'empty', 'breakfast', 'links', 'suspending', 'ser', 'eve', 'jon', 'honored', 'crippling', 'derailingdistractions', 'starbs', 'ls', 'barely', 'wheel', 'climbing', 'mt', 'vern', 'sq', 'episodes', 'nigh', 'top25', 'relief', 'janta', 'reaches', 'shuttle', 'closest', 'dw', 'chipper', 'kind', 'unsurprised', 'cools', 'durban', 'robertwelch', 'cutlery', 'offers', 'railed', 'deepthoughts', 'biker', 'beatdown', 'undercover', 'station', 'disrupting', 'noon', 'cnn', 'benchmark', 'paths', 'resque', 'debacle', 'mgr', 'group‰ûªs', 'resumed', 'garfield', 'residual', 'railway', 'twin', 'ndtv', '‰û÷it‰ûªs', 'freakiest', 'accidents‰ûª', 'teamfollowback', 'followback', 'modiministry', '61st', 'calumet', 'chicagoscanner', 'consent', 'csx', 'knoxville', 'sentinel', 'villagers', 'cta', 'evacuated', 'cottage', 'indiatv', 'cow', 'fault', 'fd', 'cins', 'tg', 'applaud', 'prabhu', 'indi', 'indiannews', 'withstand', 'collisions', 'immediate', 'suresh', 'harda', 'ignored', 'regr', 'mumbai24x7', 'ttes', 'charge', 'helpline', 'anxious', 'ind', 'topstories', 'terrence', 'ti', 'deepest', 'condolences', 'mishap', 'resume', 'amtrak', '63rd', 'prairie', 'mumbaitimes', 'gambling', 'desolate', 'roadworks', 'disruptive', 'tottenham', 'perceive', 'faintly', 'sputtering', 'vast', 'glacier', 'eternity', 'gyrsi', 'behold', 'matthew', 'nasb', 'likened', 'producer', 'garden', 'sank', 'submarine', 'bickford‰ûªs', 'stale', 'fugazzi‰ûªs', 'appalled', 'heavens', 'evils', 'ib', 'multimillion', 'chop', 'billet', 'frugal', 'companionate', 'anacrusis', 'peculiar', 'compliment', 'incapable', 'headspace', 'provides', 'transformed', 'thriving', 'hub', 'hi‰ûótech', 'onthisday', 'mayflower', 'sail', 'hav', 'sht', 'atl', 'fran', 'r3do', 'soundcloud', 'uneducated', 'educated', 'productive', 'swells', 'daniel', 'sacrifice', 'abomination', 'maketh', 'badgeofhonour', 'significance', 'horns', 'beast', 'harlet', 'unexercised', 'honda', 'neighborhood', 'psqd', 'mum', 'mason', 'dixon', 'electro', 'violin', 'psalm34', 'redeemeth', 'servants', 'stack', 'dvds', 'cp2020', 'blighted', 'corporate', 'depressing', 'hundred', 'pilgrims', 'unimpressed', 'mirad', 'antichrist', 'desecrates', 'jerusalem', 'risky', 'costly', 'spyro', 'texture', 'hacks', 'stockholm', 'copperfields', 'desolation', 'wilderness', 'graph', 'pvp', 'beacon', 'bombardment', 'ep03', 'finalise', 'alt', 'comingsoon', 'photoset', 'littlebitofbass', 'silinski', 'sheeran', 'onåê', 'hobbit', 'smaug', 'premiere', 'thranduil', 'figure', 'loose', 'mirkwood', '2016', 'thriller', 'theconspiracytheory', 'newep', 'tangled', 'isai', '1', 'psm', 'scattered', '7', 'amreading', 'disc', 'copy', 'kurtkamka', 'coyotes', 'lizards', 'ariz‰û', 'despair', 'cameos', 'colbert', 'uv', 'gin', 'listia', 'josephus', 'antiochus', 'epiphanes', 'amidst', 'aftermath', 'olympus‰û', 'because|i', 'interestud', 'lamb', 'redo', 'nails', 'ayyy', 'trouble', 'fastings', 'i‰û', 'lakes', 'abject', 'letters', 'theatres', 'sudden', 'neither', 'wicked', 'cometh', 'thy', 'fotoset', 'elanorofrohan', 'december', 'carpet', 'zurich', 'alcoholism', 'addiction', 'forgiving', 'ghe', 'orshow', 'loop', 'desperation', 'dislocation', 'separation', 'condemnation', 'revelation', 'temptation', 'isolation', 'bilingual', 'tumblr', 'necro', 'interviews', 'agalloch', 'imagini', 'noi', 'clipuri', 'cliptv', 'desolationofsmaug', 'poze', 'thehobbit', 'sow', 'masse', 'backlash', 'thrusting', 'enslave', 'fandom', 'spelled', 'futurea', 'totalitarian', 'employs', 'firemen', 'literature', 'rebahe', 'ashes2ashes', 'english', 'lads', 'ginga', 'drago', 'ops', 'hunted', 'snd', 'multiplayer', 'dilutional', 'institutionalize', 'sued', 'slander', 'shantae', 'smash', 'wii', 'shantaeforsmash', 'shantaehalfgeniehero', 'nintendo', 'ng2x5', 'meme', 'baiting', 'camper', 'foxsportscom', 'anthonys', 'everytime', 'galaxy', 'flatliners', 'creativity', 'longevity', 'lucifer', 'magnets', 'grubbing', 'kikes', 'cluei', 'telekinesis', 'there‰ûªs', 'algae', 'ponds', 'momtherbot', 'amiibos', 'å£150', 'bets', 'boylesports', 'casino', 'displeased', 'spots', '21', 'congrats', 'reggaeboyz', 'define', 'strengthen', 'pure', 'kisses', 'crackdown', 'servers', 'copped', 'eur', 'bwin', 'silly', 'vr', 'skate', 'taguatinga', 'campeonatos', 'reg', 'competitiveness', 'saturated', 'brockton', '12m', 'regc', 'commonwealth', 'ppc', 'beconfident', 'weaknesses', 'brbrs', 'fousey', '2hours', 'tryna', 'sj', 'gist', 'produce', 'streetjamzdotnet', 'childhood', 'pride', 'shoe', 'dwarfs', 'villain', 'convincing', 'compelling', 'deniers', 'tend', 'preschool', 'hunger', 'riches', 'decrease', 'moth', 'oppa', 'haaaaaa', 'nbcthewiz', 'dazzle', 'monwabisi', 'hlongwane', 'ryt', 'twins', 'ashestoashes', 'mataas', 'kc', 'rating', 'ratings', 'ambition', 'voted', 'stocks', 'foxa', 'cmcsa', 'sni', 'amcx', 'viab', 'twx', 'nusrah', 'ahrar', 'nkea', 'gambia', 'mercenary', 'thesun', 'reportedly', 'swim', 'lifeguard', 'hated', 'carp', 'leftside', 'valerie', 'kiki', 'fixitjesus', 'gh', 'daughtery', 'emotionally', 'rants', 'factual', 'basis', 'sokoto', 'saturday', 'soo', 'repentance', 'donå', '«', 'illusions', 'fn', 'everydaynaija', 'ut', 'customs', 'phew', 'meats', 'incinerator', 'pulkovo', 'grenade', 'hoes', 'careers', 'hitchhiking', 'bot', 'sorely', 'semasirtalks', 'namekians', 'highly', 'recur', 'hitters', 'ethereal', 'travels', 'europe', 'greeted', 'mee', 'rebuilt', 'blockade', 'opengaza', 'blizzards', 'abomb', 'destroyd', 'hiroshima‰ûó', 'cnv', 'vigils', 'specialguest', 'crapgamer', 'recap', 'gamescom', 'ally', 'lyk', 'declaring', 'immigrants', 'defeated', 'clarion', 'milf', 'oiled', 'cock', 'closeup', 'silas', 'sliced', 'headlinelike', 'cabbage', 'stuart', 'broad', 'yuvi', 'ford', 'frontlines', 'abuses', 'ontario', 'returns', 'azeroth', 'onc', 'restricted', 'demonstratio', 'greed', 'takecare', 'contrasts', 'foreboding', 'expansive', 'divisions', 'saturation', 'hue', 'rae', 'commissioned', 'mull', 'sanctioned', 'motorways', '2reduce', 'fumes', 'noise', 'homebuyer', 'miscalculation', 'mwjcdk', 'workspace', 'forsee', 'badkitty', 'thisiswhywecanthavenicethings', 'specs', 'lore', 'salvages', 'banned', 'border', 'styled', 'undergroundbestsellers', 'decree', 'imported', 'divided', 'megadeth', 'symphony', 'planners', 'singled', 'thingsihate', 'doomed', 'invest', 'arrogant', 'appetite', 'billboard', 'cheap', 'abounds', 'chaos', 'sometime', 'otsuka', 'equal', 'roskomnadzor', 'ridiculously', 'politicized', 'propelled', 'piles', 'wb', 'marquei', 'visto', '1x1', 'destruction\\\\', 'bancodeseries', 'potentially', 'wrought', 'noble', 'bureaucrats', 'atlantic', 'sumo', 'åêwas', 'illegally', 'imaginable', 'detonate', 'henchman', 'tenn', 'apollo', 'ft', 'stuns', 'aw', 'grandeur', 'moments', 'boulder', 'stearns', 'jtw', 'contradictory', 'uninhabited', 'alternatives', '‰ûócategorically‰ûówere', 'heavyweight', 'rapping', 'lemon', 'orapinforma', 'mello', 'hilversum', 'meters', 'intel', 'hhbu', 'message', 'i‰ûªve', 'nottingham', 'autumn', 'hoped', 'ventilated', 'bandolier', 'dix', 'fiya', 'succeed', 'åêm', '‰ûïdetonate‰û\\x9d', 'comfortable', 'newer', 'ignition', 'detonation', 'sensor', 'senso', 'fits', 'mazda', '30l', 'v6', 'connector', 'connecto', 'motorcraft', 'wpt', 'ks161', 'ks57', 'beck', 'arnley', 'audi', '28l', 'ks94', 'fashionable', 'mountaineering', 'couples', 'leisure', 'tab‰û', 'dorman', 'forex', 'indicator', 'irretrievable', 'airborne', 'controls', 'sjfeb', 'quotes', 'esteemed', 'belt', 'esevu', 'googlemaps', 'calculates', 'methods', 'touching', 'obtaing', 'electrical', 'transcription', 'butiqob', 'bmw', '325ci', '25l', 'l6', 'delphi', 'as10004', 'as10012', 'assets', 'entering', 'koz', 'smp', 'ks315', 'ks100', 'waterproof', 'weiqin', 'brand', 'michel', 'lujo', 'ca‰û', 'acdelco', 'trivium', 'appy', 'myths', 'obscuring', 'subaru', '22l', 'h4', 'jerusalempost', 'performs', 'golan', 'ks225', 'acura', 'rsx', '20l', 'l4', 'altitude', 'ace', 'israelnews', '46l', 'v8', 'ks111', 'declares', 'devastated', 'saipan', 'tyler', 'blackburns', 'pll', 'currensy', 'talkin', 'anybody', '‰ûïrichmond', 'sitting‰û', 'jam', 'malik', 'perrie', 'edwards', 'engagement', 'she‰ûªs', '‰û÷devastated‰ûª', 'gujaratriot', 'mumbairiot92', '1000', 'indianperpetrated', 'chawalchorbjp', 'losdelsonido', 'declaration', 'ma', 'ivanberroa', 'barack', 'declared', 'marians', 'affects', 'foto', '‰ûïlove', 'isn‰ûªt', 'isnt', 'realised', 'actor', 'rossbarton', 'aaron', 'goodbye', 'gobsmacked', 'bitchy', 'perla', 'hunter', 'hayes', 'antebellum', 'perform', 'fresh', 'tagliatelle', 'meatballs', 'sauce', 'draining', 'bairstow', 'buffet', 'lad', 'abcnews', 'lilly', 'hacked', 'indoors', 'arfur', 'georgecole', 'aaaaaaallll', 'allegations', 'superbactor', 'mommy', 'nomorepod', 'aussies', 'winner', 'otrabaltimore', 'devastation', 'utter', 'kalmikya', 'astrakhan', 'volgagrad', 'dagestan', 'locusts', 'struggles', 'obsolete', 'ashes2015', 'latestnews', 'cnbc', 'c‰û', 'comprehensive', 'wartime', 'wroug', 'factor', 'ropes', 'angers', 'www', 'decades', 'hungerarticles', 'rebuilding', 'livelihoods', 'quake', 'cnnhotd', 'handcuffed', 'hookup', 'showers', 'piggy', 'dones', 'grief', 'bordering', 'communities', 'packard', 'breaches', 'firstnations', 'idlenomore', 'cndpoli', 'yyj', 'refuses', 'speak', 'forgiveness', 'emerged', 'argentina', '‰ûïeven', 'midst', 'hqhed', 'walkthrough', 'przez', 'thorium', 'scandals', 'murders', 'environmental', 'elation', 'hid', 'mandatory', 'shown', 'preserved', 'hint', 'beyondthebomb', 'profile', 'attempt', 'gilgit', 'baltistan', 'fascinating', 'korea', 'propaganda', '10m', 'settlement', 'illustrations', 'jurors', 'newyear', 'momneedscoffee', 'iwontmakeit', 'terms', 'devastation‰û', 'benediction', 'sanelesstheory', 'irin', 'tape', 'tangles', 'reconstruction', 'reduction', 'disasters', 'jakartapost', 'responsibility', 'otl', 'lafayette', 'suggested', 'crawfordsville', 'privatisation', 'å¬', 'mediterranean', 'massgrave', 'reade', 'politicians', 'greedyrich', 'mclaughlin', 'paladins', 'nana', 'restlessness', 'strengthening', 'afterhaiyan', 'haiyan', 'yolandaph', 'philippines', 'livelihood', 'disasterrecovery', 'microsoft‰ûªs', 'nokia', 'staining', 'overpopulation', 'endless', 'brats', 'sassed', 'albertans', 'ndp', '‰û÷disaster', 'harperblamesalbertans', 'cw500', 'return', 'listeria', 'theneeds', 'locke', 'pirates', 'acquired', 'starter', 'blowltan', 'metepec', 'oficial', 'nitclub', 'mì¼sica', 'cinema', 'foxnews', 'vitaly', 'churkin', 'briliantly', 'exposes', 'klimkin', 'mh17', 'slipped', 'insurer', '‰û¢i', 'disaster‰û¢', 'emotions', 'iron', 'fist', '27', 'msgdoing111welfareworks', 'ke', 'appx', 'har', 'ki', 'liye', 'tyar', 'hai', 'devereaux', 'exciting', 'scifi', 'deepwater', 'gains', '735m', 'transocean', 'recovers‰û', 'debut', 'severino', 'adjustments', 'askin', 'quote', 'browsers', 'machines', 'existant', 'photogenic', 'gosh', '‰û÷hoax', 'device‰ûª', 'atåêcinema', 'playoffs', 'positively', 'van', 'nuys', 'equation', 'recipe', 'misery', 'internally', 'gazans', 'sittwe', 'prison', 'conditions', 'genocide', 'ihhen', 'msf', 'boarding', 'galleria', 'apts', 'strategicpatience', 'idp', 'conditionsprivation', 'outburst', 'aggression', 'sux', '12news', 'housed', '90th', 'osborn', 'extinguished', 'openly', 'accuses', 'nema', 'materials', 'idps', 'wom', 'disadvantaged', 'tinder', 'opportunity', 'museum', 'memes', 'origins', 'expert', 'reliefweb', 'photographs', 'mandate', 'trace', 'mightyworld', 'displac', 'oof', 'vikings', 'vassals', 'employees', 'advance', 'circular', 'ruins', 'diplomat', 'township', 'pennlive', 'mechanicsburg', 'systematic', 'grahamwp', 'chart', 'refugeesmatter', 'diasporas', 'elem', 'pomo', 'label', 'nevada', '‰û÷exceptional‰ûª', 'steady', 'nv', 'justbitching', 'lists', 'abnormally', 'setxnews', 'dampen', 'llf', 'tolerant', 'perennials', 'nigerians', 'makewaterwork', 'okanagan', 'maxed', 'westerncanadadrought', 'monte', 'attempts', 'delinquency', 'pasadena', 'gal', 'lb', 'hamburger', 'midwest', '91å¡f', 'humidity', 'dominicana', 'treasures', 'drains', 'columbia', 'trib', 'suspended', 'sep', 'cloud', 'iot', 'conserve', 'finding', 'customers', 'dqsvyusy', 'spreads', 'etx', 'marion', 'harrison', 'counties', 'worsen', 'surrounding', 'have‰û', 'weed', 'droughtmonitor', 'moderate', 'contig', '80m', 'neat', 'conservation', 'urged', 'thompson', 'bud', 'californians', 'sahel', 'desert', 'chore', 'kondobyjaymoni', 'anticipate', 'tattooine', 'meets', 'fueled', 'spreading', 'rapidly', 'macon', 'warnerrobins', 'milledgeville', 'gawx', 'activist', 'mydrought', 'bringing', 'water‰û', 'eerie', 'revealing', 'cadrought', 'lakeisabella', 'mane', 'raiders', 'sorrows', 'tambourine', 'gecko', 'chillin', 'anchors', 'closing', 'porcupine', 'lowkey', 'choke', 'demons', 'ev', 'buffs', 'mustard', 'craft', 'spoiled', 'native', 'australians', 'oceans', 'urine', 'insults', 'devote', 'reprocussions', 'retroactive', 'memory', 'whiskey', 'nathan', 'jonesboro', 'leftover', 'chilis', 'wishing', 'mall', 'clementines', 'genuinely', 'reallyyy', 'affection', 'utp', 'brb', 'absolute', 'wagyu', 'steak', 'heaping', 'moist', 'smuckers', 'grape', 'allthekidneybeansandsorbet4misha', 'drowned', 'nataly', 'cheer', 'clev', 'ursula', 'drool', 'protoshoggoth', 'sort', 'kiddie', 'ploppy', 'florida‰û', 'gamergate', 'yellows', 'squeeze', 'labor', 'fnaf', 'fanfiction', 'trixie', 'pageshi', 'proxies', 'promo', 'are‰û', 'ufo4ublogeurope', 'ashley', 'msnbc', 'tlot', 'waar', 'ctot', 'ap', 'visting', 'georgina', 'rat', 'cafe', 'emotion', 'nlu', 'noooo', 'fetch', 'pyjamas', 'swam', 'bounced', 'suffice', 'bullied', 'raped', 'hoodie', 'lj', 'abandoned', 'ej', 'beastburger', 'beyondmeat', 'nowhere', 'ketchup', 'dijon', 'uplifting', 'anchor', 'abrianna', 'seeker', 'dollars', 'alameda', 'coke', 'hadn', 'scraped', 'summer2k15', 'calais‰û', 'remorse', 'jason', 'vi', 'coalition', 'fondness', 'backing', 'totalitarianism', 'surprise', 'copied', 'sketchbook', 'biting', 'mask', 'caitlin', 'kiernan', 'centipede', 'numbered', 'grace', 'fences', 'idiots', 'swollen', 'rivers', 'iiii', 'riveeeeeer', 'autistic', 'maine', 'dove', 'broth', 'mourns', 'superhero', 'epilepsy', 'bradley', 'diebold', 'epileptic‰û', 'explanation', 'request', 'provided', 'epilept', 'lend', 'acrylic', 'annoucement', 'mouse', 'septic', 'fcking', 'nashsnewvideo', 'sometimesi', 'anxietyproblems', 'newly', 'maple', 'challenge', 'dravet', 'drowns', 'performing', 'spirits', 'brochure', 'downside', 'costs', 'dìäjìû', 'vuuuuu', 'befoooooooore', 'jarmusch', 'vampires', 'blank', 'expression', 'cheeks', 'clapping', 'marvins', 'subtlety', 'erecting', 'monuments', 'actavis', 'newsvideos', 'srs', 'rs', 'ns', 'hw', 'ohlordy', 'brunt', 'grayed', 'dust', 'interspersed', 'clouds', 'sods', 'amman', 'diverted', 'gurion', 'disappear', 'atmospheric', 'modis', 'morocco', 'straits', 'gibraltar', 'duststorm', 'fidget', 'bullet', 'ricochet', 'totoooooo', 'stratford', '18th', 'april', 'weakening', 'lubbock', 'outflow', 'boundary', 'create', 'gusts', 'blowing', 'yelling', 'ghostprotocol', 'alice', 'uluru', 'screenshots', 'combat', 'sneezing', 'smack', '||', 'trailed', 'colin', 'goodness', 'fee', 'rotary', 'guard', 'uvopwz', 'susfu', 'cptesco', '39pm', 'magnum', 'opus', 'been‰û', 'brewing', 'thunder', 'askceeps', 'vantage', 'backups', 'eastbound', 'visibility', 'geyser', 'riyadh', 'cogxbox', 'xboxone', 'watches', '500th', 'idwx', 'economics', 'dakota', 'hubert', 'humphrey', 'hookier', 'stills', 'challenging', 'raw', 'rolls', 'crescent', 'formation', 'trails', 'paratroopers', 'loading', '60mph', 'mars', 'supply', 'pickathon', 'staying', 'barrier', 'tìüp', 'goggles', 'circle', 'lasts', 'settle', 'prevail', 'pheonix', 'sismo', '4km', 'interlaken', 'time2015', 'utc2015', 'helens', 'contruction', 'upgrading', 'ferries', 'standards', 'vashon', 'mukilteo', 'q13', 'earthquakenews', '3novices', 'renison', 'seismic', 'tasmania', 'tin', 'tem‰û', 'shelli', 'entitlement', 'sicily', 'users', 'usgs', 'eq', '23km', 'twentynine', 'aftershocks', 'ml', 'magnitudeåêåêml', '24regionåêåênear', 'cs', '8km', 'ssw', 'anza', '15km', 'anchorage', '5km', 'hawaii', 'raffi', 'rc', 'sustainourearth', 'oklahoma', 'limit', 'wells', 'scoopit', 'thi‰û', 'epicenter', 'earthtwerk', 'scseestapreparando', 'mag', '73km', 'khuzdar', 'wednes', '140km', 'ferndale', 'sm', 'significant', 'humor', 'farts', 'creates', 'coping', 'mechanisms', 'manuscript', 'suspiciously', 'viayoutube', 'godslove', 'thanku', 'tsunami', 'euroquake', 'm1', 'gns', 'unnecessary', 'legislation', 'emily', 'rossum', 'difficultpeople', 'upgrades', 'vulnera', 'gpv', '06jst', '6aug', 'wnw', '12jst', '18jst', 'fiji', '01', '3km', 'nnw', 'henshaw', '1km', 'nne', 'geysers', 'epicen', 'encouragement', 'ramona', 'unitedstates', 'ak', 'emsc', 'emmy', 'megaquake', '96km', 'brenas', 'at‰û', 'kindly', 'whoahahahahhdjs', 'electrocute', 'dnt', 'heated', 'blanket', 'ds', 'elecman', 'extends', 'tub', 'niall', 'jinx', 'edison', 'lightbulb', 'teslas', 'wank', 'achievement', 'unlocked', 'replaced', 'socket', 'unhealthy', 'badly', 'weallheartonedirection', 'wouldn‰ûªt', 'asshole', 'baa', 'pepsi', 'headphones', 'tries', 'spoilers', 'erally', 'unplug', 'ac', 'myelf', 'delete', 'pikachu', '\\\\\\\\\\\\', 'doors', 'emilio', 'macy', 'thanksgiving', 'kayla', 'touch', 'bangtan', 'policies', 'buckley', 'jr', 'joelheyman', 'understanding', '750k', 'subs', 'influence', 'anythin‰û', 'beard', 'any1', 'hideous', 'uglypeople', 'conversation', 'senator', 'electricity', 'golf', 'hooked', 'cooking', 'electrocuted', 'crucial', 'psychic', 'pakpattan', 'correspondent', 'backyard', 'wrapped', 'cactus', 'borderlands', 'borderlands2', 'oocvg', 'ftw', 'redblood', 'videoclip', 'elephant', 'cables', 'khulna', 'worker', 'penalty', 'grabbed', 'rowysolouisville', 'map', 'stung', 'sharks', 'whales', 'flicks', 'southkorea', 'electrocutedboiling', 'waterfur', 'plug', 'hairdryer', 'tigers', 'appalling', 'businessmen', 'saveti', 'boomshunga', 'plugging', 'drying', 'sweated', 'earbuds', 'sockets', 'wondering', 'earphones', 'queer', 'sultry', 'rosenbergs', 'bedhair', 'vagrant', 'disable', 'eco', 'magically', 'zotar', 'skeleton', 'alchemist', 'atamathon', 'golem', 'nankana', 'sahib', 'electr', 'mumbailocals', 'lessonforlife', 'marinelines', 'worked', 'pressing', 'shirts', 'faulty', 'docked', 'elsa', 'vacation', 'penneys', 'iwouldntgetelectedbecause', 'wires', 'elected', 'whistleblower', 'lawsuit', 'supervisor', 'whistle', 'cree', 'knife', 'garage', 'repairing', 'offerings', 'uac', 'brooklyn', 'motors', 'manual', 'boot', 'brake', '5‰û', 'vegetable', 'mre', 'mp3', 'rar', 'dispatchers', 'boone', 'nashnewvideo', 'dilemma', 'righteousness', 'jah', 'tooth', 'replacement', 'dental', 'cosme‰û', 'forbid', 'contacts', 'registered', 'nurse', 'supplemental', 'modesto', 'nursing', 'alaska‰ûªs', 'wales', 'nearing', 'extinction', 'standforwolves', 'importance', 'exits', 'sounding', 'familiar', 'lennox', 'drjustinmazur', 'kuwait', 'diverts', 'specialists', 'stl', 'grille', 'mounts', 'speedtech', 'amber', 'x2', 'designed', 'quests', 'indiana', 'reopening', 'repairs', 'canal', 'tookitlikeaman', 'lovemydentist', 'clients', 'wart', 'childfund', 'appeals', 'practitioner', 'healthcare', 'recruitment', 'counselors', 'wasilla', 'fund', 'expense', 'broader', 'reinstate', 'buffer', 'protectdenaliwolves', 'aul', 'excuse', 'advances', 'treasure', 'outbreed', 'akx', 'peacetime', 'lean', 'addict', 'teams', 'responded', 'busty', 'blonde', 'natalia', 'starr', 'firetruck', 'sirens‰û', 'jk', 'declined', 'newport', 'jackie', 'bristol', 'kits', 'alertness', 'install', 'frp', 'tunas', 'kijangbank', 'negara', '14', 'odai', 'bucharest', 'romania', 'printable', 'dec', 'h20', 'deploy', 'troops', 'poconorecord', 'households', 'blackmail', 'municipal', 'deactivated', 'activated', 'storms', 'activates', 'sri', 'lanka', 'reddit', 'devise', 'nieces', 'megan', 'swanger', 'ruthann', 'mccormick', 'daisy', 'henley', 'spoke', 'caleen', 'sisk', 'shastadam', 'funded', 'wfocus', 'winnemem', 'yyc', 'abstorm', 'rs40000cr', 'lifeline', 'fci', 'waste', 'capacity', 'nw', 'workplace', 'retail', 'announces', 'nenshi', 'activate', 'arabic', 'vietnamese', 'counterstrike', 'forreal', 'incase', 'president‰û\\x9d', 'whipe', 'accepts', 'wisconsin', 'nbc15', 'cruise', 'biztip', 'alternative', 'sami', 'autism', 'specialneeds', 'feinstein', 'vets', 'airdrie', 'okotoks', 'cochrane', 'enacted', 'underpasses', 'enacts', 'undone', 'adverse', 'prompts', 'activation', 'a‰û', 'approach', 'refuse', 'payment', 'concludes', 'overload', 'celebrations', 'comparing', 'yourselves', 'brilliant', 'arse', 'ilford', 'abouts', 'providence', 'torrance', 'task', 'levy', 'wdtv', 'trained', 'rescues', 'fte', 'olympia', 'served', 'committee', '7p', '7a', 'tx', 'veterans', 'vet', 'ensure', 'proper', 'treatmen', 'unsure', 'paging', 'ballina', 'sighting', 'locksmith', 'domesticate', 'mechanic', 'circa', 'gba', 'delivery', 'thisisafrica', 'budget', 'ctr', 'goshen', '30p', 'siena', 'henderson', 'processes', 'streamlined', 'insofar', 'organization', 'abbog', 'missionhills', 'karen', 'enviromental', 'genius', 'economist', 'teachers', 'payforithow', 'tfl', 'downtime', 'mended', 'body‰ûªs', '‰û¢', '3p', '3\\\\', '30a', 'lima', 'dials', 'awesomejobsiri', 'shutdown', 'systems', 'edmonton', 'kodiak', 'plumber', 'localplumber', 'swedish', 'goulburn', 'henry', 'bilsen', 'his‰û', 'disturbing', 'peds', 'fellowship', 'tarzana', 'stressed', 'hysteria', 'grey', 'misty', 'indifference', 'returning', 'normal', 'southline', 'yennora', 'cabramatta', 'recognised', 'simon', 'careerarc', 'pediatric', 'specialized', 'issaquah', 'experienced', 'expertise', 'cornwalls', 'finest', 'engulfed', 'parley', 'canyon', 'tribal', 'madinah', 'prophetmuhammad', 'islam', 'travel', 'trafficalert', 'freeway', 'citrus', 'azusa', 'motorcycles', 'accepte', 'induced', 'tidal', 'colliding', 'projectile', 'smiling', 'inåêchaos', 'intimate', 'jumper', 'practically', 'raheelsharif', 'manifesting', 'helm', 'stormy', 'disdain', 'equally', 'nothingness', 'emerges', 'blaise', 'pascal', 'propane', 'sunnymeade', 'describe', 'painthey', 'screamed', 'lifeits', 'wld', 'cart', 'boycottbears', 'parley‰ûªs', 'summit', 'baffling', 'lucas', 'duda', 'ghost', 'nic', 'remarkably', 'puny', 'epicentre', 'capitalism', 'epoch', 'vault', 'tanzania', 'census', 'w|', 'specials', 'defeater', 'yeaahh', 'becoming', 'cydia', 'tweak', 'jailbreak', 'mkayla', 'cee', 'petty', 'childish', 'organizers', 'lollapalooza', '900037', 'zehrs', '039', 'walks', 'fishiest', 'smelling', 'firefigthers', 'northampton', 'heartburn', 'sticks', 'poem', 'tram', 'powerlines', 'carriage', 'tennews', 'cascada', 'dancefloor', 'disregard', 'fwd', 'jumped', 'salha', 'harry', 'styles', 'eople', 'hurry', 'shahada', 'deploying', 'hence', 'fronts', 'assad', 'alllll', 'nittys', 'stockwell', 'metlife', 'replacing', 'aimlessly', 'detersion', 'hlg', 'efak', 'sites', 'catalinas', 'alexis', 'dealbreaker', 'abandon', 'alarms', 'dungeon', 'mygc', 'suspend', 'farted', 'broom', 'lookin', 'dispatch', 'rutherford', '1000s', 'leaveevacuateexitbe', 'banished', 'grew', 'oaks', 'regal', 'terrified', 'mthe', 'premises', 'offline', 'hinata', 'roosevelt', 'worsens', 'emilee', 'milkshake', 'fifa16', 'tournaments', 'whocares', 'criminal', 'murderous', 'nazis', 'shops', 'panda', 'murfreesboro', 'evaucation', 'gr', 'disrupted', 'gc', 'orakei', 'felled', 'auckland', 'bickleton', 'liveonk2', 'koin6news', 'campers', 'blazes', 'chesterfield', 'trafford', 'odeon', 'newsbrokenemergency', 'servicesgold', 'coastpowerlinetramtr', 'casper', 'bukidnon', 'fortitudevalley', '7am', 'hahahaha', 'tr', 'hook', 'elementary', '‰û÷bomb', 'threat‰ûª', 'twi', 'manchesterlite', 'safely', 'shore', 'norfolk', 'negotiations', 'zabadani', 'sunnis', 'katunews', 'sr14', 'seclusion', 'compliance', 'morevoices', 'bunker', 'cheney', 'catered', 'ktchn', 'queensland', 'clearlake', 'lik', 'travellers', 'surfers', 'pelling', 'hotels', 'strings', 'concealment', 'rejuvenati', 'ng', 'pqhaxp', 'faan', 'noted', 'anatomic', 'remodeling', 'iaavroiv', 'veld', 'nothin', 'stillnotoverit', 'humboldt', 'cty', 'sheriff', 'advisory', 'residence', 'lassics', 'neediness', 'ulcerated', 'waggon', 'cornwall', 'bnvfdag', 'vietnam', 'patch', '71st', 'highland', 'medics', 'refunds', 'bend', 'roofing', 'hr', 'swayback', 'ridge', 'voluntary', 'inciweb', 'calfires', 'indexing', 'remedial', 'angioplasty', 'dissertation', 'dismayed', 'ifak', 'individual', 'aid', 'roofers', 'prompt', 'neces', 'guessing', 'gives', 'ultimatum', 'feelingmanly', 'kcem', 'whitner', 'hale', 'madrivercomplex', 'casrf', 'evac', 'robbed', 'willowfire', 'gnwt', 'cabin', 'pickerel', 'reid', 'accidently', 'exams', 'lolla', 'ink', 'addresses', 'refund', 'trc', '‰ûïa', 'time‰û\\x9d', 'cabins', 'reidlake', 'maca', 'nwt', 'yzf', 'ibrahimmisau', 'survey', 'campground', 'misses', 'komo', 'saint', 'copenhagen', 'wintergreen', 'ryan', 'alliance', 'bblf', 'earners', 'minutiae', 'serve', 'champagne', 'upwards', 'newåêheights', 'timebomb', 'destined', 'reaching', 'spinning', 'hitting', 'ks', 'shizune', 'joys', 'schwarber', 'chest', 'swea', 'kendall', 'jenner', 'jonas', 'dating', 'cans', 'kaldi', 'stout', 'more‰û', 'sooooooo', 'stomach', 'rin', 'misha', 'emi', 'kenji', 'yuuko', 'nomiya', 'hisao', 'philadelphia', 'eagles‰ûª', 'matthews', 'hotnewscake', 'cervelli', 'puff', 'brains', 'ill', 'tagged', 'doll', 'duck', 'greasy', 'hour‰û', 'tie', 'twitch', 'leafs', 'masturbates', 'exploded', 'admit', 'seras', 'sasha', 'peice', 'sidewalk', 'kakeru', 'teduka', 'bfore', '70years', 'bomd', 'tesco', 'complaint', 'pets', 'checking', 'speech', 'dress', 'medinah', 'imkeepingmydayjob', 'chaning', 'screen', 'aphid', 'northiowa', 'fromthefield', 'otrametlife', 'junko', 'carpenters', 'whose', 'drako', 'zarharzar', 'bleach', 'thong', 'shudder', 'boudoir', 'outfits', 'eyeballs', 'noticed', 'matches', 'mentioned', 'versethe', 'warship', 'sailors', 'artillery', 'cartridges', 'luke', 'microphone', 'ovaries', 'advantage', 'micro', 'shironu', 'akaineko', 'tap', 'sarcasm', 'meter', 'forbath', 'goal', 'cosima', 'shay', 'whattt', 'fangirl', 'yumiko', 'woah', 'sparking', 'akxbskdn', 'bean', 'bastard', 'ahhhh', 'sorta', 'loaded', 'liver', 'joint', 'poured', 'hobby', 'lobby', 'tempered', 'protector', 'blackberry', 'z10', 'recalls', 'hp', 'lto', 'lump', 'warehouse', 'divestment', 'pmngiqy', 'mechanical', 'pharaoh', 'gaelite', 'greg', '0', 'orchard', 'brewer', 'dancer', 'attendance', 'gmmbc', '2500fps', 'rocks', 'aluminum', 'southeast', 'missouri', 'naomi', 'logo', 'mental', 'dye', 'exploring', 'miì©ville', 'osha', 'siteinvestigating', 'noranda', 'kfvs12', 'cape', 'girardeau', 'carbondale', 'lapse', 'isao', 'hashimoto', 'atomicbomb', 'dope', 'dopest', 'hua', 'aspiring', 'writer', 'pyrotechnic', 'artwork', 'cai', 'guo', 'qiang', 'blossom', 'mencius', 'correct', 'replied', 'battery', 'saddle', 'accountable', 'preferable', 'tawfmcaw', 'paradigm', 'function', 'abh', 'hangout', 'kindermorgan', 'freestyle', 'amalie', 'arena', 'sunflower', 'straw', 'liquid', 'elevator', 'noses', 'button', 'checkout', 'nurgle', 'snuck', 'khrone', 'naples', '2015', '14th', 'keith', 'gusto', 'persist', 'pated', 'hpssjd', 'informer', 'insides', 'customized', 'dcubecrafts', 'greetingcards‰û', 'powder', 'discussed', 'introduction', 'theological', 'aesthetic', 'rasaudauthor', 'caiguoqiang', 'philadelphiamuseu‰û', 'sprint', 'promotes', 'eyewitness', 'mankind', 'invention', 'pittsburgh', 'barcousky', 'pb', 'dk', 'identification', 'wpri', 'rhode', 'modernize', 'voting', 'eyewitness‰û', 'gleaned', 'projects', 'crane', 'demolishes', 'hoisting', 'wilson', 'karaman', 'brendan', 'gawlowski', 'eyewitnesswv', 'actively', 'embraced', 'audiences', 'ugc', 'fracking', 'ecocide', 'carter', 'jpii', 'anarchy', 'hamburg', 'gregory', 'wickett', 'deny', 'pony', 'cbs3', 'sterling', 'testimonials', 'redwing', 'seal', 'team‰û', 'wexler', 'sanford', 'hardcover', '‰ûïlittle', 'boy‰û\\x9d', 'schoolboy‰ûªs', 'newsthousands', 'wftv', 'tn', 'psychologist', 'kern', 'mornings', 'airing', 'kbak', 'cbs29', 'liveonkbak', 'illustrated', 'particularly', 'horrifying', 'organ', 'harvesting', 'benghazi', 'werenotgrubervoters', 'denmark', 'auctions', 'patrickjbutler', 'damiengayle', 'expect‰û', 'notorious', 'laboratory', 'dealer', 'peta', 'wbre', 'wyou', 'dorling', 'kindersley', 'publishing', 'staff‰û', 'extremeåêweather', 'shedding', 'approved', 'administration', 'busta', 'splashed', 'honduran', 'minors', 'reliable', 'freed', 'bokoharam', 'captives', '‰ûïi', 'macia', 'testified', 'macia‰ûªs', 'crematoria', 'provoke', 'famine', 'moscow', 'soviet', 'zones', 'gallup', 'poll', 'suffer', 'ari‰û', 'unu', 'feast', 'redeem', 'serene', 'farmers', 'perished', 'holodomor', 'erected', 'exporting', 'africans', 'solving', 'feeding', 'you‰û', 'bluebell', 'tasted', 'starving', 'iartg', 'rwa', 'tw4rw', 'rrbc', 'intldevelopment', 'monument', 'heroic', 'ethiopian', 'regimes', 'eastern', 'ethiopia', 'shameful', '‰û÷food', 'crematoria‰ûª', 'famineåêmemories', 'kyiv', 'kiev', 'ukrainian', 'ua', 'exaggeration', 'msm', 'bolshevik', 'monopolized', 'seize', 'hunhry', 'artificial', 'dwell', 'confines', 'egypt', 'smell', 'rotting', 'smelled', 'peasants', 'stalin', 'redistribute', 'recal', 'miners', 'botha', 'apartheid', 'tutu', 'nobel', 'prize', 'ira', 'adventures', 'mineness', 'conquest', 'provokes', 'presence', 'stronger', 'maratha', 'scorched', 'punjab', 'refused', 'bengalis', 'hopeinchrist', 'squeezed', 'lego', 'blubber', 'protesters', 'wal', 'mart', 'manslaughter', 'sh', 'goodell', 'elijah', 'walker', 'appeared', 'attraction', 'apd', 'counts', 'waimate', '30s', 'vermont', 'winnipeg', 'witnesses', 'arlington', 'pee', 'remaster', 'frame', 'windwaker', 'dubbo', 'media‰û', 'flaws', 'stockton', 'dispute', 'gunfail', 'nra', 'immigrant', 'arrests', 'kindness', 'stump', 'permanent', 'adopt', 'overlooked', 'whyor', 'seatbelts', 'alot', 'recks', 'intrusion', 'interior', 'ballew', 'statements', 'courts', 'yeeessss', 'kp2', 'kombatants', 'kostumes', 'fatalities', 'nypd', '3åê‰û', 'news3lv', 'eight', 'adults', 'vital', 'econom', 'patrol', 'uptick', 'statewide', 'pedestrian', 'courier', 'unprepared', 'possess', 'pushing', 'implores', 'motorists', 'reserves', 'veg', 'engines', 'toshikazukatayama', 'hse', 'deadliest', 'intersections', 'mortal', 'kombat', 'stretched', 'its‰û', 'illnesses', 'osage', 'mkx', 'skinless', 'predator', 'abha', 'wisely', 'carnage', 'continuing', 'ggindependencmessage', 'gross', 'rays', 'kitana', 'slay', '‰ûókody', 'osp', 'mounting', 'meat', 'estimated', 'rcmp', 'tch', 'whitbourne', 'allocating', 'bn', 'veneto', 'tremor', 'dlc', 'motordom', 'lobbied', 'language', 'visionzero', 'cousin', 'failing', 'yield', 'sega', 'uber', 'reduces', 'independent', '400000‰ûò800000', '8th', 'journeys', 'immensely', 'wsea', 'policylab', 'neglect', 'yep', 'projected', 'downfall', 'logistics', 'enca', 'onboard', 'capsized', 'boards', 'display', 'irish', 'cyclists', 'fatality', 'cuddling', 'flourishing', 'sleigh', 'toothsome', 'onrhpz', 'savages', 'gangstermail', 'samsung', 'sn', 'vabengal', 'zss', 'sws', 'falcon', 'hibernating', 'pbx', 'irrespective', 'careerism', 'pan', 'crbzfz', 'lyme', 'corpse', 'jittering', 'rig', 'homie', 'babality', 'kosciusko', 'baskets', 'charming', 'paranormal', '4', 'soldier', 'ranking', 'mortalkombat', 'mortalkombatx', 'fanart', 'youtube‰û', 'utica', 'pleasant', 'paws', 'asher', 'lotm', 'weekly', 'thrive', 'mk2', 'uud', 'lk', 'mileena', 'oncology', 'achieved', '40w', 'us70', 'lebanon', 'mk', 'tremors', 'stalag', 'ermac', 'tournament', 'ssb4', 'losers', 'loretta', 'fuddy', 'authenticating', 'sole', 'combined', 'picked', 'overcome', 'tcc', 'cheekiness', 'bleeds', 'recoil', 'keeper', 'runnin', 'disappointing', '`', 'passive', 'aggressively', 'coerced', 'commitment', 'organizations', 'fluctuations', 'disturbances', 'imbalances', 'primary', 'margaret', 'wheatley', 'musicvideo', 'umntu', 'wakho', 'referencereference', 'xekstrin', 'partake', 'fleshgod', 'blinded', 'drum', 'doing‰û', 'ahhh‰û', 'perrychat', 'spade', 'savvy', 'conquer', 'simulator', 'oculusrift', 'virtualreality', 'blackinamerica', 'growingupblack', 'unawares', 'intoxicated', 'creative', 'interviewed', 'depth', 'anatomy', 'loathing', 'solitude', 'mas', 'choosegod', 'restoringpaths', 'opinions', 'curiosity', 'ourselves', 'to‰û', 'forfeiting', 'nazir', 'crackdowns‰û', 'waynerooney', 'thexfiles201days', 'balanced', 'ought', 'p‰û', 'untangle', 'besttalkradio', 'spin', '23rd', 'tatort', 'hbwahl', 'knowledge', 'foolish', 'amsal', 'denying', 'polar', 'gd', 'wrked', 'reed', 'chp', 'titled', 'emmeryn', 'achieving', 'deltachildren', 'instaquote', 'quoteoftheday', 'waltdisney', 'motivator', 'reflections', 'forms', 'delusion', 'pinky', 'freaky', 'morganite', 'gemstone', 'opal', 'r1354', 'thrones', '3x5', 'kissed', 'salisbury', 'cypress', '10am', 'hotdogs', 'nowwwwww', 'avi', 'header', 'combo', 'retro', 'usb', 'chromebook', 'politifiact', 'canonbringit', 'canontattoo', 'mn', 'theresmorewherethatcamefrom', 'bogged', 'cpu', 'gunsense', '2x10', 'trakt', 'gasoline', 'wcw', 'tha', 'equivalent', 'strawberries', 'icy', 'rum', 'tenshi', 'yuki', 'overcharging', 'rent', 'overwork', 'din', 'memez', 'åà', 'rainbows', 'cyhi', 'daniels', 'lovefood', 'obstacles', 'dontexpectnothing', 'bon', 'mores', 'likes', 'tractor', 'trailers', 'nj', 'turnpike', 'brant', 'drummond', 'hallett', 'kampers', 'sprays', 'hose', 'rfp', 'transporta', 'reno', 'catches', 'pugwash', 'irvine', 'sigalert', 'ltd', 'toy', 'stamp', 'tonka', 'tfd', 'pumper', 'ufn', 'langley', 'njturnpike', 'reopens', 'pat', 'spen', 'northgate', 'taco', 'wompppp', 'k3', 'phase', 'prayforsaipan', 'detouring', 'ohgod', 'reopened', 'rings', 'appealing', 'dodge', 'wayne', 'bodied', 'libby', 'ori‰û', 'atop', 'latter', 'nno2015', 'trident', 'ims', 'ho', 'plastic', 'bedding', 'sticker', 'decals', 'shuts', 'calendars', 'racer', 'clogs', 'warwick', 'driscoll', 'snags', 'parkway', 'rgj', 'langhorne', 'middletown', 'cebu', 'philippi', 'xshanemichaelsx', 'instaxbooty', 'tumbleon', 'nno', 'choose', 'filipino', 'jade', 'fl', 'lukebox', 'besides', 'swiftly', 'praying', 'educate', 'adapt', 'providing', 'feedback', 'firstnet', '10k', 'sept', 'donington', 'smarttek', 'mpers', 'university', 'lowers', 'tuition', '‰û÷we', 'responder', 'cfr', 'hancock', 'sallie', 'memorialday', 'carmike', 'cinemas', 'priority', 'roadid', 'alarming', 'raising', 'departments', 'vip', 'difference', 'eufaula', 'okwx', 'tankerfire', 'juneau', 'educators', 'relied', 'trainees', 'lightly', 'reserved', 'spd', 'shreveport', 'canteen', 'kirsten', 'gillibrand', 'extend', 'convene', 'awards', 'gis', 'gisuserpr', 'geotech', 'allergan', 'refresh', '‰û÷badges', 'blood‰ûª', 'resilience', 'factsheet', 'myhometown', 'livesmatter', 'sadness', 'needless', '999day', 'dart', 'participating', 'intensive', 'publicsafetyfirst', 'cedar', 'terri', 'linford', 'heading', 'antiochhickoryhollow', 'lender', 'fees', 'pantofel', 'pnpizody', 'cap', 'embroidered', 'pot', 'luchaunderground', 'summon', 'chachi', 'extant', 'writers', 'yoga', 'tipped', 'sbnation', 'mrs', 'gah', '100nd', 'maryland', 'mansion', 'manly', '2327564d', 'benstracy', 'rp', 'silo', '260th', 'hartford', 'chose', 'we‰ûªll', 'bod', 'portgassdk', 'bravery', 'pivot', 'pardon', 'mindless', 'hugged', 'tightly', 'selmo', 'witnessing', 'slaughter', 'rubybot', 'thh', 'furst', 'rising', 'ophelia', 'soloquiero', 'firefighte', 'zion', 'pandora', 'advantages', 'apropos', 'favorable', 'regard', 'mississauga', 'pwhvgwax', 'kurt', 'zouma', 'flattened', 'shin', 'noodle', 'bricktop', 'vavazouma', 'cartoony', 'papa', 'pennies', 'unlike', 'donaldson', 'parker', 'wrestler', 'gain', 'muaytai', 'wantmyabsback', 'whites', 'curly', 'impure', 'outright', 'yosemite', 'drumpf', '‰ûïnobody', '‰û÷ill', 'rabbit', 'say‰û\\x9d', '80pcs', 'tibetan', 'spacer', 'beads', 'jewelry', '55x1', 'fa', 'machida', 'floored4', 'birds', 'cups', 'lag', 'dock', 'drink‰û', 'pedagogy', 'bfc630nz', 'conklin', 'thee', 'striker', 'fiorentina', 'picking', 'hay', 'masonite', 'wahpeton', 'lustig', 'stayed', 'commons', 'gms', '76mins', 'sided', 'linerless', 'caps', 'fylde', 'preston‰ûªs', 'iconic', 'disappearing', 'mbiwa', 'puck', 'breh', 'cheesecake', 'implicit', 'statement', 'raynor', 'balding', 'marine', 'emo', 'generic', 'bluetooth', 'muppet', 'ner', 'cyberman', 'satisfaction', 'reasoned', 'argument', 'heartland', 'tfw', 'slaves', 'fallacy', 'steam', 'robertcalifornia', 'thereisonlysex', 'earrings', 'footballs', 'spartans', 'crushing', 'dreamy', 'toward', 'fizzy', 'seats', '53inch', '300w', 'curved', 'offroad', 'fog', 'lamp', 'jkl', 'cancels', 'harlan', 'knox', 'ky', 'wx', 'hotchip', 'bigåêconsequences', 'homecoming', 'prom', 'socialnews', '2pcs', '18w', '4wd', 'beam', 'hana', 'maui', 'waianapanapa', '35pm', 'nws', 'wxky', 'fighter', '72w', 'alloy', '27w', '12v', '24v', 'utv', '85v', '265v', '10w', 'pir', 'auc', 'iembot', 'hfo', 'atv', 'basics', 'defective', 'intertissue', 'trench', 'guabxfv', 'bmx', 'areal', 'cdt', 'alwx', 'grant', 'grants', 'funds', 'weymouth', 'seawalls', '28pm', 'regions', 'dwindling', 'suppl', 'peeked', 'immune', 'deafening', 'westchester', 'eligible', 'arrives', 'sittway', '00am', '00pm', 'perry', 'elk', 'monday‰ûªs', 'while‰û', 'cuban', 'docks', 'thrusts', 'jams', 'womb', 'focused', 'borders', 'voters', 'endofus', 'unveiled', 'travis', 'deputy', 'jessica', 'hollis', 'hunwx', 'joints', 'eliminate', 'random', 'homeimprovement', 'mmda', 'displace', 'awh', 'tl', 'laos', 'vision', 'ukfloods', 'trekkers', 'himalayas', 'dilute', 'nycha', 'repaired', 'mold', 'insubcontinent', 'iraqi', 'seekers', 'ndetention', 'unscreened', 'massiveåêflooding', 'guests', 'def', 'fathom', 'byebyeroad', 'pasco', 'drums', 'janice', 'jokes', 'feeds', 'duplicate', 'ny1', 'ny1burst', 'lrt', 'assisting', 'ocnj', 'prompting', 'joined‰û', 'lakh‰û', 'thankkk', 'notificationsu', 'parsholics', 'superb', 'awesomelove', 'frvrgrateful', 'sliding', 'nester', 'writingtips', 'tornadoes', 'plaguing', 'farrakhan', 'landsli', 'camps', 'tornados', 'ofa', 'net', 'trolls', 'automated', 'netbots', 'complimentary', 'areas‰û', 'rspca', 'density', 'dew', 'erodes', 'stunned', 'dmt', 'heared', 'priceless', 'fab', 'albertsons', '|lauren', 'bengal', 'cm', 'mamata', 'banerjee', 'dvc', 'bjp', 'naypyidaw', 'prensa', 'latina', 'kpk', 'dams', 'thar', 'approaches', 'copolitics', 'otherwise', 'taxes', 'itunes', 'glory', 'luiz', 'santos', 'clyde', 'releasing', 'speccy', 'bamenda', 'portaloos', 'sentient', 'apc', 'chieftain', 'tasks', 'dickson', 'n15b', 'donation', 'bayelsa', 'pagasa', '12am', 'panay', 'guimaras', 'negros', 'landslides', 'mountainous', '40hourfamine', 'worldvision', 'm‰û', 'persecution', 'pastors', 'asylum‰û', 'paraguay', 'etp', 'dua', 'draws', 'news5', 'ibalita', 'sumn', 'gaga', 'dried', 'laleh', 'occur', 'cruising', 'pandaw', 'expeditions', 'operating', 'philippines‰û', 'anew', 'myanmarflood', 'kolkata', 'e1', 'particulate', 'combust', 'voltaic', 'voc', 'petroleum', 'ch4', 'bacteria', 'decomposition', 'beaverton', 'ori', 'bind', 'careless', 'campfire', 'wardens', 'pisgah', 'grows', 'ashenforest', 'floorburnt', 'manzanita', 'timber', 'routecomplex', 'column', 'inbetween', 'krnv', '15p', 'nuff', 'socal', 'realhiphop', 'chopper', 'acre', 'mostly', 'slownewsday', 'ruhl', 'modoc', 'temporarily', 'reassigned', 'usfs', 'acronym', 'globalwarming', 'spending', 'agen', 'cossacks', 'hussars', 'riggd', 'rough', 'shelters', 'glade', 'kindlng', 'glowng', 'hollow', 'frnch', 'naturaldisasters', 'elephants', 'sharply', 'denier', 'bloom', 'alska', 'seeweed', 'caribean', 'inhofe', 'spends', '50', 'qave', 'knowlddge', 'vineyards', 'stormcoming', 'palmoil', 'indonesia', 'tbh', 'lockdown', 'stubborn', 'provinces', '|rz|', 'iranelection', 'smokey', 'nightmares', 'bcpoli', 'canpoli', 'vanpoli', 'tales', 'deployed', 'contain', '10', 'dumping', 'forests', 'heartdisease', 'bitterroot', 'pharrell', 'mountaintop', 'scented', 'wildflowers', 'distant', 'fieldworksmells', 'rogue', 'siskiyou', 'nf', 'area‰û', 'firefighting', 'consumes', 'clash', 'simpson‰û', 'campsite', 'recommendations', 'toilets', 'pub', 'midges', 'snakes', 'rivercomplex', 'cashf', 'straightfire', 'cites', 'increasing', 'fellow', 'eagles', 'delight', 'bounce', 'filmed', 'byz', 'mdt', 'hvy', 'crest', 'b1g', 'goblue', 'wrestleon', 'avenged', 'sevenfold', 'mike', 'szuter', 'sirmixalot', 'lzk', 'dawgs', 'dak', 'jak', 'japton', 'arwx', 'fahlo', 'queenåê', 'rnk', 'rockingham', 'stokes', 'pumpkin', 'outage', 'davidson', 'magna', '40s', 'cheryl', 'cereal', 'kellogg', 'sugar', 'stays', 'crunchy', 'arcadia', 'thou', 'crop', 'shine', 'sleet', 'custer', 'shannon', 'sd', 'migraine', 'hwy27', 'olds', 'approximately', 'affecting', 'sturgis', 'kotaweather', 'overhead', 'oakridge', 'melt', 'yycstorm', 'atcha', 'boston', 'golfball', 'sunny', 'parkchat', 'unr', 'weston', 'pennington', 'kevin', 'chefs', 'pastures', 'sustainable', 'organic', 'caesars', 'pounded', 'holmes', 'doppler', 'edmond', 'lawrence', 'meade', 's‰û', 'postering', 'mothernature', 'hailstorm', 'yycfringe', 'killhard', 'gems', 'ofclans', 'maxi', 'produces', 'nixon', 'tricky', 'dicky', 'hiding', 'summons', 'pokemon', 'then0mads0ul', 'round2', 'crazyweather', 'pummel', 'richie', 'herald', 'sworn', 'bobcats', 'backyards', 'errrr', 'notgoingoutinthat', '2night', 'screening', 'hailing', 'haildamage', 'yycweather', 'captureyyc', 'sto‰û', 'bald', 'slam', 'knocks', '20k', 'jplocalfirst', 'eliotschool', 'artful', 'cityporn', '4608ìñ2474', 'yyctraffic', 'caller', 'stopping', 'overpasses', 'crowchild', 'yychail', 'carlilescanoelivery', 'lovemyjob', 'northeast', 'logan', 'cowx', 'commuters', 'olde', 'fashioned', 'calgaryweather', 'jamaicaplain', 'hailstorm‰û', 'pots', 'iamdowntown', 'avoids', 'reviewing', 'stranded', 'hail‰û', 'penalties', 'pcps', 'physicians', 'stones', 'cupcake', 'vanderbilt', 'treating', 'annoyed', 'dumbass', 'concur', 'mmk', 'tagging', 'harsh', 'firearm', 'felon', 'intend', 'rebooting', 'improvements', 'wayward', 'surveys', 'qzloremft', 'otratmetlife', 'harms', 'standardized', 'tests', 'cc', '‰ûïfor', 'you‰û\\x9d', '‰ûïplans', 'prosper', 'illegals', 'protected', 'trickshot', 'controller', 'infinite', 'fading', 'vessel', 'stored', 'bans', 'ads', 'plannedparenthood', '‰ûïwarning‰û\\x9d', 'gards', 'altered', 'reblogged', 'collectibles', 'randy', 'bros', 'form', 'cosmetics', 'scrubs', 'toothpaste', 'aquatic', 'ecosystems', 'righteous', 'continually', 'shias', 'defeats', 'ideals', 'guardrails', 'foul', 'lmfaooo', 'nawh', 'triggered', '2u', 'lift', '12k', 'sterotypical', 'annddd', 'colorism', 'prevalent', 'views', 'thorgan', 'gladbach', 'ibrahimovic', 'mercurial', 'vapor', 'footballfreestyle24', 'lifestyle', '‰û÷it', 'sick‰ûª', 'deemed', '‰û÷hazard‰ûª', 'choking', 'kraft', 'compared', 'faded', 'kagawa', 'januzaj', 'battlefield', 'dukes', 'accurate', 'harden', 'depay', 'overtake', 'nvidia', 'shield', 'tablets', 'cascade', 'childress', 'closures', 'uphill', 'oem', 'volvo', 'xc70', 'dashboard', 'lamps', 'switch', 'vent', 'davis', 'judith', 'hopfer', 'deglin', 'vallerand', 'eden', 'sanchez', 'bolasie', 'flopping', 'identical', 'fanboys', 'aguero', 'berahino', 'hector', 'bellerin', 'leg', 'dismissed', 'occupational', '707d', 'chelsea', 'talisman', 'cristiano', 'lionel', 'mipasho', 'ozil', 'ritchie', 'midfielders', 'fplboss', 'household', 'hazzel', 'episcopal', 'batman', 'onesie', 'recalled', 'terry', 'sergio', 'honourable', 'nemanja', 'matic', 'willian', 'shifted', 'deans', 'cantona', 'pepe', 'lashed', 'mav', 'tipster', 'previews', 'swansea', 'lickin', 'donuts', 'wingers', 'prem', 'basically', 'wrightsboro', 'wholeteam3', 'wholesaleent', 'ine', 'instyle', 'olap', 'multidimensi', 'offloading', 'hilly', 'dlh', 'outlook', 'hwo', 'assessment', 'optimization', 'routing', 'disposal', 'feeble', 'marketresearch', 'alfa', 'multidimen', 'dangling', 'piercing', 'crystals', 'foodscare', 'offers2go', 'nestleindia', 'slips', 'magginoodle', 'humanconsumption', 'chemicals', 'strives', 'maintain', 'friendly', 'multidimensional', 'quarrels', 'keratin', 'treatments', 'brazilian', 'copycats', 'chs', 'meg', 'diablo', 'dsp', 'multidimensio', 'tsa', 'abide', 'codes', 'structur', 'breathing', 'sneak', 'needle', 'inject', 'veins', 'marie', 'therese', 'dominguez', 'administrator', 'pipelines', 'phmsa', 'noxious', 'fiat', 'multidimensiona', '50k', 'delirious', 'triangle', 'peter', 'multidime', 'joshua', 'typos', 'eversafe', 'kaimai', 'ranges', 'breakdown', 'mtr', 'terwilliger', 'pp15000266858', 'dumped', 'psd', 'cheaply', 'brokelynati', 'vulnerable', 'humid', 'forehead', 'flared', 'olive', 'oli', 'extract', 'tbs', 'lawx', 'lightman', 'durden', 'dhhj', 'apocalpytic', '25c', 'surges', 'rash', 'condemning', 'gv', 'heirs', 'frightening', 'cork', 'ireland', 'apaz', 'arnhem', 'unrelenting', 'expand', 'states‰û', 'uae', 'mideast', 'ncms', 'thundering', 'activists', 'camplogistics', 'revitup', 'pizzarev', 'longest', 'triple', 'digit', 'frisco', 'scouts', 'canoe', 'okla', 'cooler', '7amdollela', '3la', 'kulli', '7aal', 'autopsy', 'klinenberg', 'eric', 'nbc10', 'weatherit', 'chilli', 'doritos', '‰ûïheat', 'dome‰û\\x9d', 'compensations', 'palinfoen', 'matching', 'lipstick', 'rediscovered', 'nars‰ûª', '‰û÷heat', 'wave‰ûª', 'hotter', 'greatbritishbakeoff', 'pdx', 'abq', 'nm', 'dances', 'facilitiesmanagement', 'hydrated', 'wave‰û', '‰û÷05', 'vol', '5‰ûª', 'deejayempiresound', 'founding', 'orchid', 'shite', 'hellfire', 'plez', 'prophet', 'surrounded', 'desires', 'afterlife', 'caves', 'silentmind', 'describes', 'piling', 'description', 'surah', 'humaza', 'reflect', 'melting', 'laptop', 'sewing', 'oversee', 'hunchback', 'notre', 'dame', 'reply', 'cocktail', 'verde', 'mezcal', 'chartreuse', 'cucumber', 'bitters', 'suspicious', 'investigatin', 'bash', 'citadel', 'fel', 'zakuun', 'gargoyle', 'hoof', 'coil', 'joann', 'fadc', 'jagm', 'tow', 'missiles', 'tension', 'jonathan', 'hijack', 'pdp', 'defecting', 'scam', 'sarcastic', 'himika', 'amase', 'foresaw', 'march', 'jps', 'feb', 'malyasiaairlines', 'bona', 'fide', 'cislady', 'incidental', 'homosexuality', 'bi', 'patched', 'exploit', 'macs', 'patches', 'stagefright', 'former‰û', 'bypass', 'password', 'ars', 'technica', 'everton', 'wonderkid', 'criminals', 'humanrights', 'goodluck', 'slammed', 'chrysler', 'wirelessly', 'steering', 'brakes', 'iso27001', 'segment', 'bayelsaåêstate', 'southampton', 'virgil', 'dijk', 'cherokee', 'harman', 'consumerist', '{', 'apcåêpdp', '‰û÷plot', 'dijk‰ûª', 'cautious', 'u2', 'specially', 'sirius', 'chan', 'sayin', 'graham', 'phillips', 'fundraiser', 'canceled', 'fundraise', 'donbas', 'tickens', 'norwich', 'utd', 'pedro', 'oregon', 'cmon', 'governor', 'allows', 'parole', 'hijacker', 'liveleakfun', 'linkury', 'browser', 'chowchilla', 'schoenfeld', 'pita', 'hijacks', 'evaded', 'chills', 'browseråêhijacker', 'give‰û', 'medieval', 'testa', 'earnings', 'distinction', 'divers', 'htarvrgly', 'coz', 'laters', 'fresno', 'ykjl', 'ign', 'sahelnews', '‰û÷hijacker', 'cops‰ûª', 'weighs', 'notexplained', 'infamous', 'jag', 'enabled', 'demco', 'hitch', '21k', 'ultra', 'casting', 'deviating', 'dyxtmrydu', 'footage', 'albert', 'demanding', 'publication', 'fatima', 'softenza', 'anthelmintic', 'drawing', 'earnest', 'pletch‰ûªs', 'blooded', 'bivens', 'funtenna', 'hijacking', 'prebreak', 'america‰ûªs', 'cafì©', 'skateboards', 'saferåê', '‰û÷good', 'samaritans‰ûª', 'mdash', 'bronville', 'eatshit', 'waiver', 'sue', 'momentsathill', 'nunus', 'timas', 'bikes', 'dll', 'koreans', 'vosloorus', 'gauteng', 'toyota', 'bkb066gp', 'nonononono', 'mcourt', 'parliment', 'whomever', 'wifi', 'hotspot', 'skill', '263chat', 'twimbos', 'zimpapersviews', 'blackhat', 'earn', 'mcr', 'snort', 'flavorchargedtea', 'tomislav', 'salopek', 'aunft', 'intruders', 'threatens', 'captured', 'diane', 'exchange', 'randomactsofromance', 'sinai', 'execute', 'croatian', 'egyptian', 'threaten', '‰û÷ransomware‰ûª', 'man‰ûªs', 'other‰û', 'concealed', 'attacker', 'chilling', 'windowsill', '‰û÷muslim', 'women‰ûª', 'aren‰ûªt', 'affiliate', '48åêhours', 'quoted', 'purported', 'croat', 'radical', 'mugged', 'excuses', 'holdin', 'chacos', 'arrive', '8pm', 'crunchysensible', 'footwear', 'defender', 'antivirus', 'vendor', 'damballa', 'trinna', 'teamnyle', 'adoptive', 'bidtime', 'positivity', 'beta', 'chapters', 'affiliation', 'tobias', 'hankel', 'behead', 'tlvfaces', 'auspol', 'airasia', 'wut', 'ditched', 'hungrier', 'captivity', 'introduced', 'compensate', '53‰û', '5oil', 'dysfunctional', 'mcconnell', 'judicial', 'nominations', 'govern', 'hostages', 'unharmed', 'denied', 'nationals', 'who‰û', 'modified', 'freeamirnow', 'freeallfour', 'superiority', 'unconditional', 'surrender', 'broadcast', 'fortune', 'quot', 'television', '3g', 'superv', 'sinjar', 'massacre', 'yazidis', 'overåêhostages', 'holmgren', 'natalie', 'stavola', 'role', 'lh', 'indiefilm', 'render', 'proxy', 'ssu', 'meaningless', 'damsels', 'distress', 'peers', 'militant', 'overpowered', 'manorial', 'gnocchi', 'thine', 'rbpk', 'ts', 'nri', 'trs', 'tdp', 'teddy', 'submitt', 'aviationaddicts', 'snctions', 'miltary', '150bilno', 'inspctkps', 'hostagesthrosw', 'gutrkps', 'hlps', 'ajmal', 'kasab', 'referred', 'barak', 'depends', 'enslaved', 'nationfirst', 'favors', 'bang', 'caroline', 'bigsby', 'supermarket', '‰û÷leaves', 'languishing', 'iran‰ûª', 'noirandeal', 'tedcruz2016', 'boko', 'haram', 'florid', 'rapidcity', 'lasvegas', 'nit', 'extracting', 'pointless', 'watchmanis216', 'referring', 'pg', 'movt', 'yazidi', 'behaviour', 'aq', 'pleasantly', 'div', 'fought', 'messed', 'grapes', 'guillermo', 'noaa', 'looping', 'wed', 'angelriveralib‰û', 'snowden', 'katrina', 'bluedio', 'turbine', 'wireless', 'stereo', 'headset', 'meteoearth', 'hurricanes', 'names', 'shanaynay', 'shootas', 'burner', '30stm', 'quem', 'lembra', 'habor', 'slix', 'rides', 'wavy', 'hershey', 'ad', 'dancers', 'margarita', 'engle', 'holt', 'byr', 'coral', 'mock', 'sunburned', 'wdsu', 'orleans', 'orlean', 'hs', 'mixxtail', 'tastes', 'watermelon', 'loko', 'categories', 'defined', 'hwrf', 'lashes', 'taipei', 'surge', 'fecal', 'turdnado', 'forgeting', 'lately', 'entertain', 'expressing', 'lcoutofdoors', 'websites', 'chains', 'insult', 'sandy‰ûªs', 'edna', 'jefferson', 'doris', 'sherfield72', 'leveled', 'times4', 'unlicensed', 'wheres', 'urogyn', 'mesh', 'offenders', 'bolsters', 'investigative', 'yug', 'radcliff', 'suryaray', 'arian', 'foster', 'yeat', 'wakeupflorida', 'floridians', 'trophyhunt', 'war‰û', 'policeman', 'ronnie', 'karjo', 'macomb', 'desean', 'skinson9', 'hegot', 'blevins', 'barcelona', 'alba', 'scott', 'lefties', 'paulista', 'wilshere', 'deluxe', 'elderly', 'sled', 'ogun', 'smugglers', 'shootoutåê', 'allegedly', 'cosponsor', 'renew911health', 'spo', 'alsowhat', 'bilic', 'slated', 'themhe', 'freddie', 'mcilroy', 'pga', 'speculation', 'rory', 'speculatio', 'neelum', 'dud', 'muzaffarabad', 'teenage', 'peer', 'injured‰û', 'forgiven', 'forgotten', 'aesop', 'kinesiology', 'ironmanå¨', 'durability', 'effectiveness', 'wellington', 'lp', 'adarius', 'bowman', 'leadership', 'yeg', 'ankles', 'regardless', 'creeping', 'inflicted', 'derma', 'brackets', 'slating', 'disgrace', 'cramp', 'wreak', 'seatbelt', 'cardinals', 'jaron', 'rebirth', 'coaching', 'defence', 'cursed', 'riders', 'attended', 'romford', 'peel', 'southdown', 'windsor', 'rusher', 'ly', 'barring', 'sequalae', 'suicides', 'homicides', 'nyack', 'pineview', 'railroad', 'i80', 'mva', 'e7', 'requesting', 'r7', 'sunstar', 'injuries‰û', 'nj36', 'leonardville', 'shad', 'forsythe', 'inevitably', 'adhd', 'gauze', 'influenced', 'forsure', 'disabledveterans', 'groin', 'thepartyofmeanness', 'elevated', 'tb4', 'carterville', 'birdgang', 'discuss', 'autoaccidents', 'tbis', 'strains', 'sprains', 'tyuler', 'andy', 'dirks', 'uiseful', 'pricing', 'alredy', 'terminated', 'director', 'roster', 'diego', 'urg', 'opposition', 'nflexpertpicks', 'devalue', 'digits', 'chinadotcom', 'georgia', 'esteem', 'joboozoso', 'usat', 'recordand', 'behaviors', 'texans', 'volga', 'law‰ûónegligence', 'fireworks', 'incidents', 'garza', 'atlas', 'leones', 'copa', 'usmnt', 'ergo', 'rotator', 'cuff', 'converting', 'domestic', 'lamha', 'ba', 'infact', 'zimmer', 'dal', 'rb', 'lance', 'dunbar', 'exum', 'stem', 'stern', 'asx100', 'spurs‰ûª', 'marjanovic', 'eurobasket', 'spurs', 'nba', 'alas', 'tennis', 'defending', 'champ', 'svetlana', 'kuznetsova', 'withdraws', 'citi', 'espn', 'pft', 'barkevious', 'mingo', 'browns', 'nflweek1picks', 'cowboys', 'mcclain', 'nyg', 'follownflnews', 'mcfadden', 'hamstring', 'dom', 'gio', 'skc', 'bwp', 'nycfc', 'quirk', 'woes', 'claiborne', 'qb', 'unaffected', 'climbed', 'wheels', 'io', 'hawk', 'srk', 'punishment', 'heenan', 'colts', 'ngata', 'laois', 'advertised', 'inundated', 'ddnt', 'ostentatious', 'jokethey', 'harassed', 'wk', 'seward', 'dented', 'deductible', 'wcvb', 'applications', 'beaches', 'presume', 'soggy', 'lashings', 'texts', 'acceptable', 'illustrative', 'commercials', 'frankly', 'waimea', 'bushman', 'safari', 'palmer', 'cecil', 'commentes', 'deconstruct', 'kerri', 'sackville', 'tms7', 'amazed', 'mistress', 'wordoftheday', 'twitterpated', 'useyourwords', 'bread', 'trader', 'joes', 'wknd', 'grandad', 'highlighted', 'gifts', 'malt', 'loaf', 'worm', 'bangladeshaffected', 'bangladeshflood', 'string', 'replenish', 'leader‰ûªs', 'weary', 'notsorry', 'gls15', 'creamfields', 'mainstage', 'kro', 'swords', 's5', 'starks', 'greyjoys', 'coun‰û', 'pornhub', 'paperwork', 'simplify', 'staffing', 'brace', 'depressed', 'samples', 'sweets', 'pfft', 'unhinged', 'machismo', 'bullshit', 'withering', 'undermine', 'mustering', 'trad', 'authors', 'plummeting', 'unilever', 'megalpolis', 'petting', 'shiver', 'inundation', 'overflow', 'commencement', 'boots', 'epao', 'marsac', 'manipur', 'causin', 'platform', 'realtime', 'unfortunately', 'apologies', 'inundation‰û', 'subtle', 'sociologist', 'relative', 'doer', 'mhl', 'mousse', 'bounds', 'sprinklers', 'faq', 'lawn', 'answered', 'ebb', 'tommygshow', 'burlington', 'florence', 'holes', 'sinkhole', 'berlatsky', 'fleetwood', 'q99', 'virtu', 'dkhqgv', 'dundee', 'bullets‰û', 'electoral', 'credits', 'inbounds', 'nl', '30bst', 'a10', 'paris', 'a40', 'geneva', 'a7', 'mons', 'a1', 'a2', 'hanover', 'a5', 'karlsruhe', 'gotthard', 'lifelong', 'memorable', 'debates', 'ronald', 'reagan', 'romp', 'capitalist', 'elect', 'venice', 'freebesieged', 'martinmj22', 'yougov', 'wafer', 'g‰û', 'smashing', 'pumpkins', '89x', 'nitish', 'bihar', 'castes', 'votes', 'winning', 'artifacts', 'horseshoe', 'cutest', 'indot', 'bias', 'seeley', 'lbr', 'couldnt', 'situ', 'contemplation', 'bridal', 'wiwnpfxa', 'ge2015', 'sleeper', 'railing', 'since1970the', 'depreciations', 'usd', 'b4federal', 'flashflood', 'farmland', '365disasters', 'sums', 'krag', 'alps', 'skardu', 'lyndon', 'dos', 'administer', 'apps', 'qct', 'chicks', 'changing', 'lides', 'hubris', 'req', 'rigour', 'nominates', 'heavyåêrain', 'ceciltownship', 'seeks', 'southpointe', 'boulevard', 'smart', 'assholes', 'statesmanlike', 'cv', 'draft', 'inaugural', 'jgisavq', 'soak', 'fond', 'pixar', 'animated', 'pantherattack', 'neighbor', 'uke', 'kidsthesedays', 'puts', 'breeder', 'bred', 'dragonvale', 'kofapp', 'molten', 'steaks', 'iris', 'misti', 'bestdayeva', 'ps3', 'savior', 'dserialpcilp', 'pci', 'e‰û', 'bleachers', 'nether', 'spawning', 'gg', 'bracelet10mm', 'etsymntt', 'handmadejewelry', 'oliver', 'cries', 'waterboarding', 'dipping', 'throws', 'sinks', 'dominos', 'culinary', 'cuisine', 'sivan', 'basalt', 'massage', 'piece‰û', 'actin', 'shakeology', 'protein', 'shake', 'pinpoint', 'foothill', 'closer', 'tgf2015', 'reshapes', 'reshape', 'mineral', 'crystal', 'jgf', 'autobiography', 'lawton', 'guthrie', 'assumes', '21a', '5s', '5c', 'ip‰û', 'rained', 'jackholes', 'gusty', 'downpours', 'rebeccafav', 'icaseit', 'mfi', 'certified', 'blink', 'wolforth', 'altamonte', 'awhile', 'trolleys', 'ramify', 'multitudinal', 'disposed', 'kwxggt', 'vivid', 'triad', 'vancouveråêisland', 'eighth', 'suns', 'villanova', 'selected', 'academy', 'award', 'finalists', 'struck‰û', 'subjected', 'unwarranted', 'directory', 'resting', 'reps', 'dip', 'scichat', '‰û÷em', 'leesburg', 'scoreless', 'seventh', 'fcsl', 'kabwandi', 'unconfirmed', 'neighbour', 'tkyonly1fmk', 'actionmoviestaughtus', 'groaning', 'detonated', 'ercjmnea', 'ibliz140', 'shouted', 'kotolily', 'tarmineta3', 'shawie17shawie', 'bruv', 'tksgs0810', 'tianta', 'me‰û', 'resemblance', 'matako', 'chews', 'chewing', 'gum', 'kiilud', 'nikoniko12022', 'noises', 'epsom', 'wimbledon', 'kimanzi', 'jrowah', 'shrnnclbautista', 'peacefully', 'ofgod', 'kijima', 'downstairs', 'telly', 'ykelquiban', 'hears', 'newborn', 'dumpster', 'daviesmutia', 'ignorant', 'aggravating', 'coworkers', 'snickers', 'brut', 'pops', 'upstairs', 'checks', 'cafetiere', 'crockery', 'johnmtaita', 'colnharun', 'laugh', 'nagaski', 'impulse', 'correlation', 'imply', 'causation', 'commiting', 'candlelight', 'vigil', 'publicizing', 'iit', 'logically', 'sanction', 'absol', 'blankets', 'sheets', 'innocents', 'explicitly', 'endorses', 'socialism', 'houze', 'owenrbroadhurst', 'juanmthompson', 'hist‰û', 'blowjobs', 'cannibalism', 'masturbation', 'concentration', 'faroe', 'perspective', 'redscarebot', 'tanstaafl23', 'noah', 'anyname', 'examples', 'atombomb', 'musim', 'domination', 'verses', 'qur', 'faroeislands', 'utopian', 'gulags', 'attempted', 'comings', 'labelled', 'minority', 'itinerary', 'dolphins', 'males', 'commit', 'undeserving', 'bothered', 'traditionalist', 'ww2', 'aurora', 'notoriety', 'debatequestionswewanttohear', 'wahhabism', 'smug', 'horrendous', 'blah', 'greta', 'impeach', 'zuma', 'murderer', 'bashir', 'sudan', 'geno‰û', 'asad', 'emekagift', 'vpsay', 'muhammadu', 'buhari', 'pedophile', 'kach', 'belonged', 'baruch', 'goldstein', 'palestinian‰û', 'sooooo', 'theaters', 'stereotyping', 'guevara', 'greeting', 'creel', 'moron', 'brainless', 'gfz', 'minuscule', 'theatershooting', 'testify', 'exam', 'jury', 'dickheads', 'polit', 'aspect', 'tirelessly', 'kissing', 'conveniently', 'zionists', 'revere', 'movietheatre', '615', 'dismisses', 'prisoner', 'challenged', 'quantum', 'supremacist', 'anders', 'breivik', 'unsurprisingly', 'cheat', 'syvret', 'tomb', 'raider', 'uncharted', 'lara', 'croft', 'ruthless', 'portrait', 'yuan', 'decisions', 'disgusted', 'celebrating', 'democrat', 'dissuaded', 'mmmm', 'fanatical', 'hygiene', 'hillarymass', 'sensible', 'vaccine', 'convicted', 'theatertrial', 'loki', 'nicely', 'commenting', 'arkan', 'rumors', 'fame', 'orchs', 'tyrant', 'copycat', 'fromthedesk', 'kenyatta', 'muumbo', 'quantumdatainformatics', 'tunisian', 'bardo', 'surviving', 'staging', 'palm', 'grindhouse', 'texaschainsawmassacre', 'lotg', 'smoothed', 'bird', 'chalked', 'sikh', 'shingal', 'ezidigenocide', 'colorlines', 'mitigating', 'uninvestigated', 'incite', 'rabaa', 'observed', 'rememberrabaa', 'chainsaw', 'medals', 'kermit', 'introducing', 'nanking', 'eyewitnesses', 'cbs', 'wsj', 'wpo', 'daddy', 'becarefulharry', 'tunisia', 'permanently', 'coates', 'charleston', 'broadly', 'bromleythe', 'iof', 'murdered', 'morality', 'sousse', 'tunis', 'iraq‰ûªs', 'soap', 'rescind', 'honor', 'serbs', 'yougslavia', 'lessons', 'timesnewsdesk', 'glencoe', 'valentine', 'avoided', 'oompah', 'clam', 'clambake', 'showgirldayoff', 'martyrs', 'young‰û', 'spså¨', 'tomlandry', 'infamy', 'creepiest', 'mayhem', '4playthursdays', 'reads', 'adventure', 'terraria', 'hijinks', 'stacy', 'reflects', 'hanneman', 'editor', 'ramag', 'models', 'halloween', 'pages', 'fia', 'tariq', 'khosa', 'avalon', 'bdays', 'txt', 'masterchef', 'dash', 'newbie', 'designers', 'nosurrender', 'bully', 'panicked', 'disco', 'concertphotography', 'livemusic', 'canon‰û', 'kissimmee', 'ferrell', 'zach', 'galifianakis', 'comic', 'farce', 'asbury', 'pitchwars', 'realism', 'observations', 'pnc', 'holmdel', 'nabbed', 'nino', 'el‰û', 'shelly', 'waffle', 'madonna', 'nowyouknow', 'venture', 'suitable', 'featcha', 'edkins', 'jarring', 'zack', 'madsummer', 'commences', 'dubloadz', 'droppd', 'meelllttting', 'deepak', 'chopra', 'collective', 'sebastianstanisaliveandwell', 'civilwar', 'areva', 'mwednesday', 'candidates', 'grimes', 'momentum', 'investors', 'timcook', 'investment', 'whenever', 'microsofts', 'dfr', 'ep016', 'monthly', 'dnbheaven', 'funches', '2000s', 'mortgage', 'g7', 'g20', 'irongiant', 'ohhhh', 'tangletalk', 'dtb', 'watchout', 'dabs', 'commoditiesåêare', 'sp', 'letdown', 'equals', 'conclusions', 'padres', 'uncontrollable', 'anomaly', 'outcome', 'btm', '9th', '2out', 'comics', 'representative', 'sample', 'byproduct', 'warthen', 'bullpen', 'bubble', 'flirt', 'warriorcord', 'paracord', 'mil', 'strand', 'inspectors', 'cougars', 'ushanka', 'fur', 'xl61', 'badge', 'admiral', 'nationwide', 'shortchanging', 'boonie', 'usmc', 'airsoft', 'paintball', 'woodland', 'cp030', 'texian', 'iliad', 'hardin', 'mechanics', 'vols', 'lulgzimbestpicts', 'alarmed', 'connects', 'experiments', 'eagle', 'oiler', 'gpw', 'magner', 'kgb', 'cossack', 'talibans', 'deployments', 'm151a1', 'mutt', 'm416', 'suckers', 'shuffling', 'infantryman', 'experimental', 'tutorials', 'assertative', 'intelligence', 'mindset', '‰ûïprefers', 'negotiation‰û\\x9d', 'hillaryclinton', '2012', 'courageous', 'beth', 'underwood', 'gravity', 'hendricks', 'hospitality', 'clancy', 'novels', 'paperback', 'tomclancy', 'mcdonalds', 'm9a1', 'phrobis', 'bayonet', 'sheath', 'nr', 'supreme', 'oks', 'ruling', 'empower', 'milita', 'bolstering', 'cooperation', 'sputnik', 'wider', 'rifle', 'mofo', 'unarmed', 'gunned', 'worseits', 'asses', 'mudslide', 'stu', 'belter', 'oso', 'beetroot', 'hipster', 'tajikistan', 'mudslides', 'tajiks', 'bakeofffriends', 'burrito', 'dorett', 'dorrett', 'britishbakeoff', 'paulhollywood', 'blackforestgateau', 'gbbo2015', 'fjords', 'iceland', 'icelandreview', 'gasping', 'giggling', 'stew', 'dorette', 'maker', 'rabidmonkeys1', 'ineedcake', 'vaginaorcake', 'impressions', 'lieu', 'triumphs', 'hatman', 'toopainful', 'bae', 'backroom', 'physically', 'gasped', 'invested', 'raì¼l', 'condolence', 'rationing', 'tattooed', 'arkansas', 'nola', 'inventories', 'sifting', 'rattles', 'dolakha', 'colder', 'mateo', 'doesnt', 'mirage', 'addition', 'newser', 'bono', 'hug', 'roblox', 'jaysen', 'wormwood', 'unavoidable', 'consequence', 'suncorp', 'washi', 'professionally', 'unsensibly', 'outrun', 'burma', 'enduring', 'unrest', 'ay', 'overrun', 'hazards', 'hashtags', 'bacon', 'savings', 'guatemala', 'seamstress', 'elvia', 'karnythia', 'erasureisnotequality', 'thailand', 'focuses', 'design', 'chronicles', 'yale', 'archives', 'executives', 'prosecuted', 'confidence', 'anonymous‰û', 'nonucleariran', 'badirandeal', 'chernobyl', 'tepco', 'thyroid', 'integrative', 'japanjapan', 'inferior', 'anonymous', 'nytimes', 'preserve', 'ajw', 'jishin', 'minamisoma', 'allowing', 'archive', 'consuming', 'truthfrequencyradio', 'fu', 'irannucleardeal', 'ongoing', 'ignore', 'radiation', 'damage‰û\\x9d', 'nonukes', 'amerikkka', 'whiteterrorism', 'afp', 'wps', 'agw', 'denial', 'offering', 'sanitizing', 'impairs', 'sweep', 'regulatory', 'weakened', 'authoritarian', 'whack', 'mole', 'kennedy', 'avert', 'bolster', '‰û÷nuclear', 'deaths‰ûª', 'annonymous', 'respondents', 'consciousness', 'renewables', 'wikipedia', 'encyclopedia', 'err', 'ge', 'reactors', 'finnish', 'financing', 'secured', 'indo', 'pact', 'reactor', 'ancient', 'circuit', 'sealed', 'sidelines', 'newest', 'defensenews', 'comus', 'subsd', 'gigawatts', 'installed', 'gwatt', 'finland', 'rosatom', 'railguns', 't1000s', 'flush', 'ministers', 'fennovoima', 'nuclearpower', 'construct', 'uk‰ûªs', 'restart', 'fleet', 'mistaken', 'cataclysmic', 'reator', 'melts', 'cooling', 'winechat', 'thorcon', 'nuclearrcsa', 'sideline', 'submarines', 'magnetic', 'electrostatic', 'fusion', 'rods', 'creatures', 'inspections', 'writes', 'sandunes', 'gentle', 'lapping', 'gulls', 'sizewell', '40mln', 'filming', 'fission', 'ayatollah', 'khomeini', 'calhoun', 'nrc', 'onofre', 'buried', 'payer', 'hamptonroadsfor', 'scout', 'obliterate', 'sarah', 'palin', 'bb4sp', 'proc', 'philippine', 'insanity', 'notion', 'seemly', 'narcissism', 'richhomeydon', 'swag', 'instagramers', 'bu‰û', 'souda', 'kneelbot', 'lvg', 'smaller', 'lcb', 'cl', 'whereas', 'jez', 'printing', 'plymouth', '‰û÷let‰ûªs', 'litter‰ûª', 'combining‰û', 'realm', 'jonvoyage', 'spectacular', 'stonewall', 'nathaniel', 'rateliff', 'sweats', 'jimmyfallon', 'piss', 'scum', 'weaponry', 'lunacy', 'gymflow', 'assassins‰û', 'vowed', 'mirajane', 'pursued', 'ambitions', 'religion', 'obedience', 'trials', 'gap', 'bhill', 'beez', 'superstition', 'swami', 'agnivesh', 'satisfying', 'battleship', 'cavaliers', 'lakers', 'rubs', 'greets', 'genie', 'youcantsitwithus', 'dates', 'heyooo', 'freshness', 'math', 'enterprise', 'hyukkie', 'chullie', 'eunhae', 'obliterated', 'gabriel', 'fibula', 'rizzo', 'constitution', 'interracial', 'derek', 'skeeter', 'hasn‰ûªt', 'accordingly', 'sunrays', 'hairy', 'spiderweb', 'roquey', 'mollusk', 'seventies', 'wackoes', 'michelebachman', 'predict', 'firey', 'inferno', 'fishtails', 'cent', 'natty', 'zimmerman', 'renewsit', 'reduced', 'sock', 'acc', 'davies', 'wo', 'stripped', 'mixes', 'byebyesoundcloud', 'cocky', 'strutted', 'batters', 'feature', 'wackos', 'conventional', 'yanks', 'nuks', 'shtap', 'salted', 'poway', 'hcg', 'ensures', 'whensoever', 'nevermore', 'sizygwwf', 'endurance', 'wormhole', 'devastating', 'hypo', 'deserved', 'soz', 'accustomed', 'obliteration', 'canaanites', 'dire', 'kontrolled', 'ww3', 'dice', 'demonization', 'lie‰û', 'cte', 'lame', 'ping', 'teamhennessy', 'colombian', 'festival‰û', 'schematization', 'dependable', 'virtue', 'xmwte', 'insanelimits', 'plugin', 'ru', 'limits', 'arcade', 'overpriced', 'sis', 'dose', 'slab', 'ripping', 'labourleadership', 'contest', 'renovation', 'smallbiz', 'startup', 'mindkiller', 'dune', 'overturn', 'scotus', 'oppression', 'retaliation', 'traces', 'truths', 'alhaji', 'sha', 'ibeto', 'competitor', 'imminent', 'extent', 'privilege', 'unfair', 'favoritism', 'raps', 'oldfolkexplainstuff', 'renderings', 'gallups', 'biltz', 'weigh', 'hangarback', 'walkers', 'opponent', 'timey', 'justifying', 'quarrel', 'beautifully', 'rapturous', 'facade', 'deplorable', 'bene', 'gesserit', 'litany', 'refugio', 'costlier', 'plains', 'pipeline‰û', 'globetrottingwino', 'sb57', 'distribution', 'larger', 'pipeline', 'briefing', 'disclos', 'splash', 'bankstown', 'wattle', 'sydtraffic', 'trafficnetwork', 'spilled', 'crude', 'ksbynews', 'syd', 'wendell', 'berry', 'gulf', 'oi', 'hannah', 'disclosed', 'osi2016', 'losangelestimes', 'norris', 'plugged', 'twon', 'sec', 'kamloops', 'slicker', '38am', '54am', 'voices', 'outbreak', 'disea', 'bronx', 'legionnairesdisease', 'pneumonia', 'convention', 'legio', 'muhamadjabal', 'legionna', 'mumps', 'sebee', 'legionnaire', 'trophies', 'losangeles', 'fo', 'pandemonium', 'lust', 'leigh', 'element', 'pars', 'tod', 'ensued', 'ffvii', 'exclamation', 'midweek', 'westmarch', 'arreat', 'bills', 'upa', 'westmeath', 'carefully', 'sfa', 'copalibertadores', 'argentinean', 'iso', 'psp', 'tgirl', 'faceåê', 'requiem', 'hillside', '‰û÷faceless‰ûª', 'bennycapricon', 'shestooyoung', 'fails', 'transact', 'exquisite', 'sto', 'cumshot', 'porno', 'ogbor', 'justaguess', 'deadgirltalking', 'unfortunemelody', 'jaylenejoybeligan', 'tarynel', 'dredougie', 'santanico', 'frenzy', 'disorder', 'mania', 'astounding', 'playstation', 'ps1', 'sublime', 'obligatory', 'spokes', 'raptors', 'beg', 'differ', 'rang', 'goodlook', 'autismawareness', 'jesse', 'suffers', 'troubleonmymind', 'teamo', 'supremo', 'pogo', 'coinflip', 'douchebag', '4get', 'spawns', 'concentrate', 'relates', 'streams', 'venezuela', 'inform', 'accurately', 'sins', 'tragedies', 'fairly', 'adjusted', 'alabama', 'lolo', 'strain', 'roppongi', 'acoustic', 'headdesk', 'smoked', 'meca', 'savs', 'convinced', 'guage', 'eyeball', 'flakes', 'natsnation', 'rabbi', 'lite', 'cure', 'lind', 'dressed', 'afycso', 'romantic', 'sensei', 'attic', 'collar', 'ballad', 'mona', 'lisa', 'sucking', 'amo', 'laughtraders', 'panicking', 'capitulation', 'helios', 'molly', 'faints', 'freshers', 'mumbling', 'cackling', 'shook', 'istg', 'highlight', 'estrella', 'stall', 'bizinsider', 'medal', 'idm', 'gotham', 'bcs', 'theyre', 'hs2', 'astroturfers', 'crumbling', 'debbie', 'tindering', '20mins', 'submitting', 'brits', 'redeemer', 'romanticsuspense', 'fundwhen', 'chug', 'estus', 'zerohedge', 'readers', 'alarmingly', 'orpik', 'vic', 'hardy', 'freeman', 'practicing', 'sitc', 'organisation', 'worrying', 'carmi', 'breaking411', 'abusing', 'obispo', 'qld', 'aåêmiddle', 'aged', 'manåêarmed', 'retard', 'drain', 'dh30000', 'sponsor', 'ana', 'holistic', 'dispensary', 'smartnews', 'punched', 'vinnie', 'northumbria', 'trending', 'ruler', 'informant‰ûªs', 'provocation', 'beloeil', 'richelieu', 'laurent', 'expanding', '11th', 'pg15000044153', 'bayonets', 'distributed', 'unwanted', '12th', 'pp15000266818', 'priests', 'harrowing', 'harassment', 'bounty', 'fife', 'dt', 'pickpocket', 'stree', 'kill‰û', 'asswipe', 'killers', 'karma', 'milwaukee', 'police‰û', 'eff', 'muckrock', 'biometrics', 'pio', 'latenitemix', 'corporation', 'ubc', '98fm', 'mbblive', 'salado', 'crackin', 'bridgeport', 'burglar', '1oak', 'blowin', 'grandmother', 'lastma', 'lagos', 'helpme', 'ticketed', 'cycle', 'assist', 'lloyd', 'pp15000266835', 'huntington', 'gents', 'chickmt123', 'quarantine', 'offensive', 'callofduty', 'advancedwarfare', 'reckoning', 'quarantine‰û', 'onlinecommunities', 'amageddon', 'freespeech', 'technews', 'puledo', 'promises', '‰û÷extremely', 'offensive‰ûª', 'changelessly', 'folders', 'solemnity', 'hjt', 'bangalore', 'startups', 'aannnnd', 'offensiveåêcontent', 'founder', 'huffman', 'specif', 'enforced', 'contamination', 'censor', 'shooters', 'weirdos', 'offensive‰û', 'mcgtech', 'quarantined', 'subreddits', 'ebolaåêcase', 'antipozi', 'cucks', 'admins', 'volatile', 'kia', 'gmtty', 'bluehand', 'hm', 'meowing', 'louder', 'exposure', '0npzp', 'jew', 'wander', 'oc73x', 'dl', 'symantec', 'monitoring', 'lifesaving', 'haiti', 'wipp', 'sejorg', 'proposes', 'msv', 'situations', 'gangs', 'pollution', 'unemployment', 'admitted', 'reform', 'raise', '47km', 'doe', 'filter', 'offsite', 'sb228', 'relating', 'israel‰ûªs', 'ashdod', 'emittin', 'rainstorm', 'decorating', 'iwk', 'gloucester', 'capeann', 'seagulls', 'triciaoneill', 'triciaoneillphoto', '1d', 'tmh', 'brining', 'gasp', 'pipeliners', 'yobe', 'damatu', 'alves', 'newrelease', 'jimmy', 'lapaka', 'ski', 'ireporter', 'crowned', 'tends', 'brooks', 'nearåêdinosaur', 'provincial', 'drift', 'storming', 'bebacksoon', 'roar', 'rolling‰û', 'vacancies', 'damaturu', '600‰û', 'soaker', 'receives', 'impacting', 'sylvia', 'plath', 'petrichour', 'fonts', 'lizzie363', 'thnk', 'float', 'avery', 'kooks', 'gearing', 'deadgrassandflowers', 'leagues', 'cards', 'coldstone', 'monterrey', 'italianåêalps', 'spa', 'razed', 'harare', 'office‰ûªs', 'razedåê‰ûò', 'ikpeazu', 'apga', 'react', 'lynchburg', 'tafs', 'fb100', 'substantial', 'sincere', 'sandiego', 'njenga', 'razing', 'dualcom', 'yesterdays', 'todays', 'easter', 'anterior', 'gn', 'sfgate', 'northerncalifornia', 'zippednews', 'vassalboro', 'gazebo', 'jihadis', 'aisle', 'dedicated', 'serbian', 'foods', 'clothing', 'newlyweds', 'gesture', 'repatriated', 'cameroon', 'repulsive', 'victimiser', 'dutton', 'evangelical', 'liar', 'lnp', 'dupe', 'overdrive', 'choppergate', 'bronwynbishop', 'repatriating', 'wowo', 'whao', 'refugees‰û', 'reaad', 'plsss', 'connections', 'indiegogo', 'overboard', 'christianvalues', 'marrie', 'camped', 'redcliffe', 'aidan', 'banquet', 'flee', 'burundi', 'vice', 'maintaining', 'paci', 'rsf', 'gag', 'changetheworld', 'syrianrefugees', 'hindu', 'anywhere', 'boarders', 'dirtylying', 'dishonest', 'generous', 'presser', 'chpsre', 'rezaphotography', 'policyholders', 'clico', 'panik', 'kelbytomlinson', 'oc', 'shared', 'animalrescue', 'shaft', 'ud', 'structural', 'ypres', 'newbeginningsanimalrescue', 'meds', 'ppact', 'ecstatic', 'racco', 'suggs', 'vivian', 'psychrewatch', 'lengths', 'sammy', 'kfc', 'kitties', 'noagenda', 'mvdint', 'kayaking', 'mtech', 'assisted', 'a801bl', 'zix', 'plantations', '50mixed', 'colors', 'scissors', 'firstaid', 'tr‰û', 'raheel', 'sharif', 'chitral', 'lauded', 'fwo', 'opera', 'lexington', 'veterinarian', 'revel8ion', 'selfish', 'sabrina', 'britons', 'himalaya', 'tenno', 'dojo', 'summerside', 'dopey', 'summervibes', 'pitmix', 'brixton', 'banksy', 'mybabies', 'coastguard', 'skyrim', 'awaits', 'fusionfestival', 'mgs', 'zeroes', 'pioneer', 'paleface', 'raft', 'container', 'enkelbiljett', 'menolippu', 'bovines', 'smugglersåênabbed', 'cocker', 'spaniels', 'romanatwoodvlogs', 'kittens', 'intention', 'sanctuary', 'suspects', 'kidnapping', 'trafficking', '4month', 'kontagora', 'inspi', 'stray', 'giorgio', 'hiatt', 'rescued‰û', 'skynews', 'nigeriantribune', 'c4news', 'nairobi', 'springer', 'spaniel', 'beached', 'incheon', 'prosecutors', 'nami', 'kim', 'hangi', 'ribbon', 'swept', 'isaiah', 'contemporary', 'cardboard', 'heartwarming', 'mistrustful', 'piglet', 'oink', 'dorset', 'await', 'disembarkment', 'naval', 'mediterran', 'vulcan', 'carr', 'people‰û', 'unexplainable', 'childhooddefined', 'roddypiperautos', 'infomercial', 'crept', 'netflix‰û', 'carryi', 'woman‰ûªs', 'guides', 'migrants‰û', 'shaolin', 'shen', 'nan', 'chiang', 'venoms', 'kung', 'favori', 'hundreds‰û', 'mazing', 'theonion', 'heroically', 'oceanåê', 'allergic', 'rsl', 'bateman', 'scores', 'fem', 'blowmandyup', 'figures', 'rascal', 'flatts', 'hasåêarrived', 'tactical', 'headquarters', 'booth', 'kappa', 'shidddd', 'bah', 'menswear', 'urbanfashion‰û', 'thorin', 'sandbox', 'silverman', 'tracey', 'ullman', 'teemo', 'msg', 'pax', 'torrecilla', 'transwomen', 'drag', 'butch', 'credited', 'inciting', '15', 'incompetent', 'ulzzang', 'hyung', 'seok', 'liners', 'bleased', 'baume', 'digs', 'controversial', '‰û÷stonewall‰ûª', 'intervene', 'vitesse', 'supporters', 'buildup', 'leg‰û', 'fried', 'ravioliåêwith', 'porcini', 'ricotta‰û', 'oliviamiles01', 'particular', 'juan', 'salvador', 'crowns', 'champions', 'championsblackfoot', 'sweetpea', 'allotment', 'brightening', 'rainy', 'cracker', 'protestors', 'skyscrapers', 'doco', 'setanta', 'freeview', 'clapton', 'hyperbole', 'saintsfc', 'shootn', 'ghee', 'bhramabull', 'jewels', 'socially', 'duo', 'rio2016', 'relations', 'loveislove', 'cindy', 'yahistorical', 'undergroundrailraod', 'faker', 'kog', 'embra', 'tier', 'dee', 'dum', 'tosu', 'championship', 'bbcnews', '163', 'contr', 'invented', 'insomniacs', 'wee', 'misogyny', 'racism', 'gmail', '\\\\allahuakbar\\\\', 'shh', 'elsewere', 'directed', 'gr‰û', 'outnumber', 'lobbyists', 'wakeupamerica', 'cleanpowerplan', 'mascara', 'smeared', 'signing', 'nffc', 'wesley', 'verhoek', 'tpanic', 'demonstration', 'appear', 'extras', 'aboriginal', 'cricketer', 'decision', 'indictment', 'point‰û', 'usami', 'hooligan', 'uknews', 'insurers163', 'tolerated', 'rubble', 'shovel', 'china‰ûªs', 'su', 'churchill', 'impulsive', 'redesigned', 'jpmorgan', 'wamu', 'badcredit', 'bricks', 'crazyideascollege', '360wisenews', 'forbes', 'pemantaujkt48', 'melodyjkt‰û', 'clearing', 'bulls', 'betting', 'rebound', 'd‰û', 'firms', 'alibaba', 'baba', 'tencent', 'jd', 'revenue', 'jun', 'yemenis', 'san‰ûªa', 'forbesasia', 'buscemi', 'firefightr', 'workd', '12hr', 'shifts', 'diggin', 'wtc', 'lookg', 'rococo', 'alan', 'perlis', 'smothered', 'jayelectronica', 'eurpoe', 'mustered', 'collecting', 'nickelodeon', 'paw', 'pup', 'lifes', 'lyricaleyes', 'tnn', 'roimentor', 'yycwalks', 'screams', 'buries', 'aleppo', 'postapocalypticflimflam', 'prodding', 'manners', 'jfc', 'peens', 'suh', 'carpooling', 'uncomfortable', 'smokers', 'mta', 'sorrybutitstrue', 'yuppies', 'tourists', 'fic', 'raunchy', 'phenomenally', 'raised', 'beings', 'unhappy', 'purposely', 'lookss', 'terrific', 'holidays', 'wordk', 'zmne', 'wale', 'bleed', 'masterpiece', 'foo', 'sour', 'freezer', 'dummy', 'harvey', 'burger', 'metaphor', 'nooo', 'batch', 'greedy', 'bastards', 'censorship', 'spoiler', 'reboot', 'bel', 'cervix', 'odell', 'babe', 'sandstorm', 'swallowed', 'wouldnt', 'darude', 'coated', 'east‰ûªs', 'layer', 'grit', 'woo', 'hoo', 'booze', 'socialwots', 'globi', 'inclusion', 'middleeast', 'engulfs', 'caravans', 'tents', 'zaatari', 'remixes', 'merged', '15th', 'tryout', '6pm', 'airhorns', 'negatively', 'amazingracecanada', 'ahahahga', 'lyrics', 'sidjsjdjekdjskdjd', 'daggers', 'jammed', 'mina', 'thigh', 'sif', 'rosie', 'o‰ûªdonnell', 'fosters', 'awe', 'microchip', 'steven', 'chonce', 'cryibg', 'loudest', 'higuain', 'offside', 'whyyyy', 'redwedding', 'politely', 'jared', 'wahlburgers', 'mommys', 'brooke', 'timed', 'femnism', 'aunts', 'keller', 'yessss', 'properly', 'omlette', 'twenty', 'cedarglade2015', 'gma', 'ooorrrr', 'sbujdjsjs', 'xuskak', 'asb', 'fierce', 'wwa', 'languages', 'oamsgajagahahah', 'laighign', 'verrry', 'addtexastonext1dtour', 'hond', 'slsp', 'encore', 'externally', 'quiet', 'phandom', 'fangirling', 'mannequin', 'shawn', 'akfnejf', 'gotdamn', 'jariana', 'swiming', 'lhh', 'mastered', 'harshness', 'pacing', 'camila', 'spree', 'yell', 'chords', 'funnydadcoach', '9', 'hsbfuckjsj', 'idols', '22days', 'wdym', 'beyoncì©', 'fy', 'tunes', 'yaaasss', 'xfactor', 'rendition', 'burna', 'nochilllukehammings', 'imm', 'advertise', 'prodigy', 'graphic', 'omgggg', 'ooooohshit', 'ooohshit', 'kitchen', 'avocado', 'patiently', 'jaileens', 'caked', 'lydia', '4x11', 'loft', 'ram', 'shove', 'pillows', 'muffle', 'rhiannon', 'hungover', 'uhmmmm', 'tailor', 'kay', 'attached', 'scare', 'animatronics', 'echoes', 'jimin', 'casually', 'jasmine', 'hanayo', 'curvaceous', 'kot', 'mature', 'scream', 'rly', 'vibrates', 'saku', 'genitals', 'followed', 'thankyou', 'dell', 'win10', 'appropriation', 'buddhas', 'griffin', 'mash', 'anytime', 'death2usa', 'angels', 'aaaa', 'roomr', 'dicks', 'touches', 'convenient', 'bury', 'enhance', '15t', 'sa15t', 'padded', 'speaker', 'qty', 'subcontractor', 'cgg', 'w‰û', 'exploration', 'oppose', 'updating', 'delivering', 'sales', 'studies', 'calabria', 'malta', 'derivative', 'formula', 'gabon', 'somalia', 'fj', 'migration', 'humane', 'andreas', 'lancashire', 'axwave', 'enables', '2d', 'gpu', '27jst', 'aug06', 'chiba', 'pref', '10km', 'insight', 'ey', 'worldoil', 'subscription', 'alabamaquake', 'summary', 'channels', 'vibrating', 'mri', 'readout', 'faultline', 'zar', 'cringes', 'marek', 'toss', 'tbi', 'aging', 'analogy', 'braininjury', 'detectado', 'japì', 'jst', 'worldoilåê', 'retrofitting', 'perforated', 'shear', 'sfor', '6', 'm3', '5', 'ibaraki', 'prefecture', 'offing', 'm5', '60km', 'benson', 'clegg', 'kml', 'vessels', 'offshore', 'yor', 'powered', 'brassiere', 'oilandgas', 'ipa', 'radler', 'oddball', 'observer', 'stellar', 'undercard', 'filler', 'enablement', 'panoramic', 'cuts', 'dogger', 'westward', 'regent', 'towing', 'metre', 'miyagi', 'visualise', 'belie', 'mrw', 'beneath', 'ifunny', 'goz', 'manually', 'domains', 'sen', 'yarbrough', 'surprises', 'swallows', 'lowndes', 'sinkhole‰û', 'occasion2b', '10news', 'disrupts', 'trolley', 'evansville', 'usage', 'falmer', 'bethlehem', 'crater', 'scientist', 'deceased', 'gaping', 'wctv', 'yonews', 'accidentalprophecy', 'algeria', 'lomasvisto', 'hipsters', 'devours', 'intersectio', 'cadenadeseguidores', 'caved', '64th', 'twit', 'asphalt', 'sa‰û', 'sel', 'leaking', 'sewage', 'mtsalert', 'large‰û', 'afloat', 'pension', 'hogan', 'thanking', 'publicity', 'unsigned', 'you‰ûªve', 'realise', 'snapping', 'abbandoned', 'darsena', 'castello', 'scaligero', 'sirmione', 'muh', 'hoke', 'excepting', 'versus', 'dfljev', 'currency', 'transgress', 'ward', 'unsecured', 'jbumzqpk', 'cesspool', 'onnnn', 'plank', 'scarlet', 'lenore', 'saison', 'titanic', 'blunt', '‰û¢‰û¢if', 'onå¡å¡', 'gander', 'tna', 'appease', 'morbid', 'destinationimpact', 'exercised', 'keurig', 'lloyds', 'insure', 'slipper', 'darkest', 'jota', 'esse', 'consultative', 'subconscious', 'xkdrx', 'buildingmuseum', 'thebeachdc', 'vscocam', 'acreativedc', 'dctography', 'vscodc‰û', 'clawing', 'wonderfully', 'mafia', 'installment', 'wasting', 'tribe', 'pitched', 'siren', 'ofnsixjks', 'corii', 'spoil', 'wishlist', 'imeshika', 'hapa', 'mats', 'bumper', 'aar', 'piga', 'kijan', 'amateur', 'reprises', 'horrormovies', 'revs', 'coursing', 'reviving', 'demoness', 'beckoning', 'this‰û', 'whelen', '295ss', 'amplifier', 'liveonstreamate', 'frusciante', 'jennifer', 'aniston', 'announce', 'dull', 'monotonous', 'hunterston', 'process', 'smithereens', 'intending', 'signal', 'cybersecurity', 'wishes', 'boo', 'angelina', 'jolie', 'sef', 'countering', 'skewed', 'askh3cz', 'elgato', 'bday', 'fre', 'aquarius', 'queenmy', 'pretenses', 'overtures', 'songfor', 'pharma', 'overloaded', 'bucks', 'nsf', 'argue', 'snipe', 'bracket', 'screws', 'dyersburg', 'heavydirtysoul', 'concluded', 'serephina', 'fgcu', 'indyfest', 'screeching', 'accompanying', 'warped', 'attila', 'thu', 'millcityio', 'theramin', 'lemonade', 'semi', 'anthology', 'thinner', 'netflix', 'awn', 'sirensicebreaker', 'diverse', 'hago', 'escuchando', 'goo', 'dolls', 'pedo', 'dill', 'pickle', 'marketforce', 'perth', 'iinet', 'nbn', 'buffering', 'helo', 'goooooooo', 'reminding', 'complained', 'wails', 'chord', 'fckng', 'midfield', 'soni', 'soner', 'hakogaku', 'åêi', 'kurd', 'gunfire', 'underskirt', 'cancelled', 'abc7eyewitness', 'hometownglory', 'connor', 'franta', 'howell', 'sonic', 'postcards', 'polaroids', 'gostei', 'um', 'deo', 'marketforce‰ûªs', '‰ûïcat', 'shark‰û\\x9d', 'cher', 'vai', 'vir', 'pra', 'promotion', 'blunts', 'snoop', 'collie', 'buddz', 'tre', 'hmmm', 'radneck', 'kidneys', 'crqck', 'becyme', 'mayor', 'includes', 'foursquare', 'burp', 'smokes', 'selling', 'misocapnist', 'tobacco', 'unusualwords', 'youngins', 'taxis', '55436', 'locomotives', 'magne', 'traction', 'instructions', 'ciggs', 'toooooo', 'bck', '55433', 'trynna', 'tj', 'asthma', 'cigars', 'austin', 'ounce', 'disrespectful', 'spliff', '55432', 'cigs', 'tray', 'zouis', 'josie', 'splifs', 'reminders', 'mino', 'commas', 'snowstorm', 'x36', 'manuel', 'hoping', 'accuracy', 'improves', 'chann', 'tess', 'vbac', 'naturalbirth', 'lofty', 'position', 'transported', 'oz', '3am', 'footed', 'pajamas', 'toed', 'sassy', 'hunk', 'smoky', 'aoms', 'ibooklove', 'bookboost', 'creepy', 'overpass', 'southdowns', 'treeporn', 'purified', 'pale', 'moonlight', 'lalaloopsy', 'seed', 'sunburst', 'seashore', 'sweater', 'spice', 'tic', 'tac', 'battleships', 'matchwood', 'writerslife', 'rtphotographyuk', 'art‰û', 'casey', 'veggies', 'cone', 'growingupincolorado‰û\\x9d', 'snowstormi', 'snowmobiles', 'numb', 'thermostat', 'wsaz', 'technically', 'geologic', 'sippin', 'lakeeffect', 'twill', 'denim', 'jackets', 'transportation', 'wheelers', '‰ûïmake', 'amssummer', 'inches', 'snowbacksunday', 'shining', 'benjamin', 'leftwich', 'treescape', 'boeing', 'takeoff', 'cockpit', 'atc', 'thundersnow', 'uncommon', 'go‰û', 'parallel', 'refer', 'boi', 'he‰ûªs', '‰ûïsippin‰ûª', 'effective', 'orphan', 'gazing', 'cozy', 'affluent', 'lobster', 'au', 'gamefeed', 'inspired', 'videogame', 'trooper', 'bobble', 'funko', 'kesabaran', 'membuahkan', 'hasil', 'indah', 'pada', 'saat', 'tepat', 'comeeeee', 'flaunt', 'vortex', 'catcher', 'happenings', 'eventspalmbeach', 'gamechanger', 'ama', 'hawaiianpaddlesports', 'pillow', 'prints', 'lulu', 'mypillowstudio', 'expanded', 'slight', 'twcnews', 'ncwx', 'calgarians', 'finna', 'boutta', 'hurting', '45pm', 'throwbackthursday', 'kinky', 'kristy', 'rehearsing', 'doinghashtagsright', 'sara', 'nasahurricane', 'satellite', 'hilda', 'th‰û', 'dota', 'legends', 'temp', 'doves', 'proms', 'pt4', 'tomorrow‰ûªs', 'greet', 'bask', 'warmth', 'bliss', '‰û÷sexist‰ûª', 'violently', 'periodstories', 'lumbar', 'extender', 'renewing', 'cabinets', 'ferno', 'engineering', 'inspect', 'components', 'siding', 'min', 'pctool', 'niggaeven', 'expander', 'fujiwara', 'shunichiro', 'freeze', 'wnba', 'stablize', 'homemade', 'yogurt', 'aiden', 'salivation', 'beds', 'kegm', '1pack', '2pack', '3pack', 'fleek', '‰ûïstretcher', 'deck‰û\\x9d', 'wedne‰û', 'capoeira', 'bearer', 'favorited', 'stressing', 'mxaaaa', 'adjust', 'shaper', 'width', 'adjustable', 'niqqa', 'yc', 'bearers', 'hc', 'georgegallagher', 'robin‰û', 'foreskin', 'virgin', 'galactic', 'spaceship', 'braking', 'spacex', 'musk', 'ntsb', 'failure‰û', 'rightways', 'defects', 'testing', 'correcting', 'excessive', 'emerging', 'examiner', 'coercion', 'weakness', 'ensuring', 'co‰û', 'preventative', 'cabling', 'bracing', 'cts', 'imagination', 'institutional', 'spaceshiptwo', 'imprudent', 'lookout', 'bbclive', 'represents', 'shortfalls', 'sabotage', 'deeply', 'solved', 'slums', 'manifestation', 'illegality', 'discourse', 'confounds', 'stopevictions', 'competence', 'soc', 'parties', 'illogical', 'virg', 'negate', 'vest', 'rembr', 'bestnaijamade', '16yr', 'be‰û', 'committing', 'trench‰û', 'grupdates', 'homs', 'zaman', 'alwsl', 'harun', 'ìàekdar', 'hashd', 'shaabi', 'theft', '19th', 'jul', 'mercados', 'tripoli', 'explosives', 'rigged', 'compound', 'noticias', 'shi', 'ite', 'saud', 'saudiarabia', 'qtszg', 'canadasuicide', 's‰ûªarabia', 'aseer', 'detonates', 'barbarism', 'qn', 'asir', 'deai', 'saudiåêmosque', 'jou', 'stowing', 'aboard', 'sticky', 'thursd', 'kabari', 'jihadist', 'detona', 'taught', '1970s', 'piracy', 'slavery', 'purely', 'suruì¤', 'launches', 'airstrikes', 'kurdistan', 'imam', 'chopping', 'rooftops', 'psychos', 'esh', 'rightly', 'despicable', 'ocalan', 'marxism', 'reprisal', 'erdogan‰ûªs', 'zirngast', 'jacobin', 'gawker', 'f35', 'capabilities', 't4', 'airbase', 'offshoot', 'wasthe', 'smartest', 'thing2', 'godjesus', 'muhammad', 'killedsomebody', 'kurdish', 'huffington', 'premonitions', 'rebecca', 'roga', 'hamas', 'egged', 'infographic', 'suruc', 'sgt', 'roni', 'ghanem', 'maghar', 'saadthe', 'kpdied', '2007he', 'kppolice', 'kabul', 'employed', 'joined', 'confesses', 'muzzies', 'payback', 'reached', 'erdogan', 'socialists', 'percentages', 'pew', 'yaounde', 'mosques', '911bombing', 'barracks', 'bombers', 'regime', 'checkpoints', 'qaryatayn', 'hara', 'kiri', 'mordechai', 'yehuda', 'friedman', 'ramat', 'shemesh', 'marlene', 'menahem', 'moshav', 'safsufa', 'absence', 'interactions', 'sunk', 'tabloids', 'iceberg', 'backty', 'swarmed', 'canines', 'peeped', 'frontin', 'jeepåêsunk', 'tinted', 'bumpin', 'diver', 'steamship', 'shattered', 'visage', 'aquarium', 'ornament', 'sailing', 'destroyer', 'long‰û', 'somethin‰ûª', 'descended', 'shadowed', 'harshly', 'capsize', 'fuso', 'yamashiro', 'cachet', 'kumasian', 'torpedoed', 'crewlist', 'blaaaaaaa', 'vibrate', 'marr', 'primal', 'sunk‰û', 'side‰û', 'pull‰û', 'one‰û', 'demonstrated', 'idol', 'sansa', 'blinked', 'stil', 'collaborating', 'lonelyness', 'court‰ûªs', 'prestige', 'prosser', 'jeezus', 'trp', 'mockery', 'lightroom', '‰ûïjordyne', 'lincoln', 'sunk‰û\\x9d', 'rbs', 'disposition', 'romero', 'dreaming', 'mlk', 'seas', 'giannis', 'submerged', 'reef', 'thinkin', 'yal', 'hank', 'parental', 'offspring', 'preconditioning', 'corals', 'idek', 'ish', 'ayhhhhhdjjfjrjjrdjjeks', 'martial', 'admired', 'trading', 'thruuu', 'xcom', 'tootrue', 'superheroes', 'theyll', 'repopulate', 'superior', 'thewalkingdead', 'dorrian', 'marketers', 'marketer', 'thezlong', 'energyqfor', 'elitist', 'sciencedaily', 'thomassmonson', 'lds', 'mormon', 'chim', 'gloria', 'gaynor', 'oktaviana', 'devi', 'captors', 'driverless', 'stylishly', 'separated', 'pizzeria', 'teamsurvivors', 'zombiefunrun2014', 'ww', 'wew', 'idkidk', 'purchases', 'definition', 'sgm', 't34', 'zeros', 'autoinsurance', 'clueless', 'healthinsurance', 'driverlesscars', 'lanparty', 'superpower', '2025', 'buchana', 'navigating', 'fastest', 'mahalo', 'nui', 'loa', '20s', 'holomua', 'drawn', 'bombeffects', 'scofield', 'hotbox', 'sona', 'miracle', 'rainstorms', 'pompey', 'trigger', 'dreamland', 'flights', 'bucket', 'presentations', 'daubt', 'wud', 'thalapathi', 'destination', 'sessions', 'klitschko', 'om', 'pleased', 'makinmemories', '2am', 'bonsai', 'tsutomi', 'yamaguchi', 'otd', 'chronicillness', 'mylifestory', 'livin', 'zoom', 'achievements', 'pow', 'talked', 'thr', 'thrarchives', 'plotted', 'ritual', 'setsuko', 'thurlow', 'haunting', 'ì¢', 'tricycle', 'survivorsguidetoearth', 'incubustour2015', 'metastatic', 'colorectal', 'humanityi', 'apologized', 'nuclearweapons', 'coppednews', 'sudan‰ûªs', 'aya', 'kano‰ûªs', 'niamh', 'orlando', 'shanghai', 'ghetto', 'reunite', 'bums', 'bowel', 'molecularly', 'lungcancer', 'violators', 'improved', 'hurled', 'nuked', 'cnnbrk', 'hardwell', 'dannic', 'remake', 'flp', 'narrates', 'progessive', 'absurd', 'satire', 'indistinguishable', '‰û÷faceless', 'sister‰ûª', 'schoolgirls', 'documentary', 'narrated', 'parter', 'holed', 'glenn', 'morales', 'andrea', 'jacqui', 'merle', 'stemming', 'cubs', 'rosters', 'haley', 'richardson', 'isabel', 'hodgins', 'danny', 'miller', 'laura', 'norton', 'charnock', 'behindthescenes', 'handed', 'sponsored', 'judges', 'radicalisation', 'news786', 'islamist', 'anjem', 'choudary', 'ldnr', 'preacher', 'sneaks', 'democracy‰ûªs', 'dawabsha', 'erode', 'homegrown', 'explores', 'rayner', 'ctd', 'orangi', 'sindh', 'appraisal', 'pakistan‰ûªs', 'diretube', 'fightåêterrorism', 'combating', 'terrorismturn', 'vfp', 'catholicism', 'homophobia', 'jihadi', 'proto', 'chattanooga', '‰û÷islamic', 'terrorism‰ûª', 'ifs', 'ands', 'buts', 'incitement', 'beinart', 'newsarama', 'urges', 'critics', 'supporter', 'unity', '1980s', 'negotiating', 'initiative', 'naved', 'lubrication', 'metrofmtalk', 'convivted', 'nia', 'quizzed', 'denies', 'haaretz', 'mohammed', 'pulwama', 'elections', 'achedin', 'lupe', 'warra', 'jammu', 'disowned', 'disowns', 'an‰û', 'polls', 'unborn', 'mothers', 'spared', 'kasabwe', 'biryani', 'overnight', 'faisal', 'devji', 'extremists', 'sympathyonlf', 'affiliated', 'shabab', 'tltltltltlttlt', 'gymnastics', 'wololo', 'roles', 'whom', 'tht', 'bldy', 'killin', 'bstrd', 'takig', 'sculrismfinis', 'mccain‰ûªs', 'whoops', 'photographed', 'isis‰û', 'deres', 'anoder', 'contingency', 'layers', 'congi', 'presstitutes', 'sympathising', 'udhampuragain', 'perturbs', 'buzzfeed', 'shedid', '4the', 'washard', 'acquire', 'traitor', 'keepingtheviginaclean', 'dfir', 'threatintel', 'slowed', 'devices', 'pose', 'lawmakers', 'cider', 'exploding', 'bottles', 'moblin', 'barrel', 'threat‰û', 'duh', 'generational', '‰û÷british', 'schism‰ûª', 'privacy', 'bhusa', 'jihad', '‰ûïall', 'islamaphobe', 'definite', 'crown', 'drake‰ûªs', 'wedgie', 'prescient', 'tropic', 'fart', 'comedies', 'illusoria', 'icarus', 'ws', 'soundtrack', 'playingnow', 'bloodbound', 'types', 'convection', 'spits', 'nlwx', 'goddess', 'perk', 'nas', 'praam\\x81', 'ius', 'dievas', 'buddys', 'waldo', '12u', 'cooperstown', 'joestrong', 'gokitgo', 'heheh', 'interrupted', 'frequent', 'uptown', 'midtown', 'cn', 'driller', 'boxed', 'torrential', 'relaxing', 'soothmyslumber', 'watermeloann', 'populardemand', 'fatloss', 'wc', 'bolts', 'l9udest', 'sheeting', 'aaaaaand', 'mama', 'essenceofme', 'gloomy', 'shakes', 'flowers', 'icouldsitinthismomentforever', 'durant', 'adidas', 'swingman', 'ithats', 'trashcans', 'rumbling', 'didn‰ûªt', 'lorr', 'usnwsgov', '40pm', '31pm', 'oun', 'deer', '05th', 'myswc', '38pm', 'continued', 'tryin', 'settling', 'okc', 'gsp', 'portions', 'northeastern', 'pickens', 'greater', 'mountain‰û', 'buren', 'inws', 'spsgsp', 'cest', 'fforecast', '33pm', 'skywarn', 'russellville', 'clarksville', 'dardanelle', 'vivaargentina', 'pea', 'scwx', 'choctaw', 'lethbridge', 'helsinki', 'lightningstrike', 'helsinki‰û', 'mainly', 'cloudy', 'ocd', 'chadbourn', 'tornadogiveaway', 'thebookclub', 'lily', 'xo', 'cowgirl', 'courtney', 'laudner', 'panties', '73rd', 'goode', 'championships', 'mon', '12pm', 'sunday‰ûªs', 'singapore', 'cookbook', 'horny', 'juicy', '29pm', 'lexi', 'belle', 'eastward', 'hammer', 'headlinesapp', '44pm', 'superman', 'slowpoke', 'poc', 'saam', 'mythology', 'woken', 'yer', 'hymn', 'abba', 'pod', 'heather', 'ava', 'sparxxx', 'threesome', 'brunette', 'stretches', 'victorian', 'sofa', 'libertyville', 'reference', 'heller', 'marley', 'brinx', 'striptease', 'pounding', 'distinct', 'rotation', 'condenses', 'mcv', 'lasso', 'giselle', 'end‰û', 'amanda', 'homers', 'tulowitzki', 'poses', 'strips', 'recount', 'timesofindia', 'soulja', 'maaaaan', '‰ûïwhen', 'plunging', 'sorrowful', 'redemption', 'platt', 'for‰û', 'weisberg', '‰ûïif', 'gat', 'statistic', 'monica', 'railways', 'abortions', 'theocracy', 'owe', 'apology', '‰û÷vulnerable‰ûª', 'ofcourse', 'caued', 'washing', 'laced', 'monologue', 'charlize', 'coulda', 'tbr', 'browsing', 'homepage', 'remedyyyy', 'ownership', 'jiwa', 'bonded', 'gagnon', 'imposing', 'my‰û', 'gunning', 'heartache', 'hirochii0', 'ariana', 'grande', 'yezidi', 'leitchfield', 'bella', 'rosalie', 'sponsorships', 'suvs', 'prettyboyshyflizzy', 'chile', 'starring', 'explosive', 'tween', 'quell', 'introvert', 'teleported', 'somewhere', 'decides', 'billionaires', 'westie', 'believes', 'eudrylantiqua', 'holly', 'victorious', 'rv', 'teambrianmundial', 'santiago', 'hollyw', 'remodeled', 'lilourry', 'stan', 'zarry', 'narry', 'hugomatz', 'mottas', 'duly', 'involuntary', 'wince', 'holibobs', 'wozni', 'trapping', 'circumstances', 'jsett', 'lavenderpoetrycafe', 'encoded', 'sensory', 'cognitive', 'divorce', 'addicts', 'defensive', 'decreases', 'vulnerability', 'mme', 'hempoil', 'cann‰û', 'nissannews', 'a1a', 'bing', 'sickmund', 'ncjfcj', 'byrne', 'nat', 'clevel‰û', 'inflict', 'consistent', 'dimensions', 'agdq', 'kororinpa', 'marble', 'tloz', 'oracle', 'metroid', 'understandable', 'ptsdchat', 'unaddressed', 'counciling', 'newauthors', 'eighty', 'affliction', 'maimonides', 'onbeingwithkristatippett', 'extraordinaire', 'rosenthal', 'communicate', 'gravitychat', '60s', 'trans', 'resolved', 'theirs', 'fricken', 'cannabis', 'marijuana‰û', 'intragenerational', 'sandra', 'bland', 'haircuts', 'minimal', 'oppressed', 'parent', 'usg', 'paeds', 'imaging', 'foamed', 'foamcc', 'marijuananews', 'partially', 'gutted', 'fracture', 'clinic', 'gnr', 'mocked', 'simmering', 'refill', 'tourniquet', 'ipok', 'richmond', 'faculty', 'aims', 'defines', 'perpetrators', 'oneborn', 'parisian', 'jamie', 'spell', 'tat', 'makoto', 'dub', 'orphanage', '600', 'yessum', 'stare', 'royale', 'jamesbond', 'dawg', 'huddling', 'snapchatselfie', 'wrongperson', 'understand‰û\\x9d', 'renewed', 'measly', 'å£3million', 'fringe', 'topic', 'hogging', 'sunakawa', 'varagesale', 'rotations', 'leaning', 'learni', 'hiss', 'edsa', 'cubao', 'occupied', 'afrikaan', 'preorder', 'thebargain', '‰ûïboonew', 'boonew‰û\\x9d', 'double‰û\\x9d', 'pl‰ûªs', 'midi', 'farther', 'noel', 'wbu', 'tribulation', 'happing', 'wrld', 'sauntered', 'fred', 'shallwedance', 'summerunderthestars', 'tcmparty', 'bribe', 'efcc', 'operatives', 'fartanxiety', 'ryans', 'boyd', '‰û\\x9dyeah', 'stable', 'buffett', 'sectors', 'mouna', 'caaaaaall', 'nikki', 'barber', 'egg', 'trashed', 'bak', 'stunningly', 'pitcher', 'bats', 'mia', 'frickin', 'great‰û', 'motivated', 'donnelly', 'puth', 'reddit‰ûªs', 'kian', 'pretended', 'tink', 'nopower', 'helene', 'mods', 'baan', 'thai', 'sushi', 'thediyhacks', 'illusionimagess', 'bbshelli', 'crptotech', 'banks', 'banking', 'bitcoing', 'blockchain', 'optical', 'illusion', 'switzerland', 'wasabi', 'dvbbs', 'borgeous', 'arceen', 'snowman', 'trends', 'ripples', 'clears', 'tides', 'eyesss', 'ghosts', 'walktrough', 'dang', 'stlcards', 'nostalgia', 'youuu', 'sphere', 'campanha', 'brinco', 'bbmeg', 'hope4japan', 'pray4japan', 'alil', 'twister', 'gail', 'russell', 'dalroy', '‰û÷nother‰û\\x9d', 'other‰û\\x9d', 'tumbles', 'todayi', 'sweeps', 'maddie', 'tae', 'oktxduo', 'homefolks', 'opinionated', 'proposal', 'modernized', 'omw', 'parson', 'parse', 'woodchucks', 'friend59', 'sharper', 'viper', 'hardside', 'quezon', 'structuring', 'edcxo', 'dunking', 'titty', 'otto', 'reggie', 'outbid', 'catlow', 'c720', 'swivels', '3dc', 'shar', 'recentlu', 'oneself', 'discount', 'redesigning', 'itrawcwb', 'riser', 'dierks', 'bentley', 'iheartradio', 'bulgarian', 'tittie', 'noemotion', 'edk', 'pathfinders', 'nexus', 'shifter', 'å£9', 'toosoon', 'friend50', 'paxton', 'helen', 'sticking', 'hew', 'boost', 'wilden', 'llegaste', 'tu', 'm6x1', 'thread', 'dolla', 'potter', 'breed', 'pug', 'shortest', 'twisterlovesshania', 'curls', 'repped', 'milne', 'liguistic', 'narrator', 'chemically', 'lavatory', 'db5', 'breaking144', 'declarat', 'acenewsdesk', 'landfall', 'precipitation', 'measurement', 'makurazaki', 'territory', 'cnmi', '2slow2report', 'nbanews', 'typhoon‰û', 'vegetables', 'remnants', 'andåêchina', 'spies', 'gpm', 'bullseye', 'viral', '4yygb', 'strongest', 'upheaval', 'buddha', 'urbanisation', 'brahmans', 'dominance', 'usw', 'abandoning', 'uncertainty', 'lyeh', 'ferguson‰ûªs', 'finale', 'thegame', 'newberg', 'jacque', 'betz', 'answer‰û', 'companionship', 'chester', 'aladdin', 'indepth', 'economies', 'mayan', 'hieroglyphics', 'honors', 'lowly', 'timbering', 'entryway', 'fjizztxk', 'bharat', 'fulfill', 'retired', 'dgm', 'nabard', 'rich', 'tt', 'kettlebell', 'lopez', 'hindsight', 'jhmnye', 'roman', 'mgs4', 'mgsv', 'iffy', 'foreclosed', 'tejc', 'jungle', 'buzz', 'pvdrdljvc', 'postexistence', 'elevation', 'perquisite', 'brzjc', 'livescience', 'permutable', 'qwkd', 'diageo', 'stresses', 'impacted', 'horoscope', 'lyf', 'winik', 'navigate', 'audit', 'orcot', 'orpol', 'prognosis', 'retailers', 'consumers', 'scandal', 'parliamentary', 'expenses', 'subsequent', 'sackings', 'manayunk', 'pov', 'amsterdam', 'cyclonic', 'sumthng', 'evng', 'approachng', 'watertown', 'suddendly', 'proclaims', 'pounds', 'bruise', 'stormchase', 'ef', 'dryden', 'spotted', 'spun', 'sylvan', 'schiphol', 'northland', 'battered', 'uprooting', 'agony', 'tunein', 'jupiter', 'trophy', 'badchoices', 'bantrophyhunting', 'bravo', 'scourgue', 'disappears', 'swell', 'unqualified', 'treaty', 'evergreen', 'kjc', 'darken', 'ungodly', 'slightest', 'stirring', 'blitzes', 'traverse', 'seminars', 'blitzed', 'tra', 'axegressor', 'psalm', 'belligerent', 'unfold', 'yikes', 'uninformed', 'uprootin', 'clap', 'rotating', 'drilling', 'towline', 'drifted', 'shellno', 'jetstar', 'bali', 'raung', 'nside', 'kamchatka', 'å©daniel', 'aogashima', 'asics', 'fieg', 'kith', '3m', 'maailiss', 'diaporama', 'sixpenceee', 'karymsky', 'located', 'volcanoåêinåêrussia', 'capsule', 'indonesian', 'hil', 'humidifier', 'sicklife', 'illuminati', 'ketep', 'earthquakes', 'rnb', 'starz', 'kiddo', 'gi', 'sang', 'epicente', 'hickson', 'kenneth', 'faried', 'lamarcus', 'aldridge', 'west‰ûªs', 'zeal', 'indecisiveness', 'csismica', 'cityofmemphis', 'enders', 'mgs2', 'ps2', 'punisher', 'thuggin', 'roving', 'raccoons', 'toughens', 'gears', 'jasmines', 'littlewomenla', 'jamal', 'sundays', 'seasonfrom', 'onshit', 'thugging', 'scone', 'tackle', 'condom', 'packets', 'homies', 'inmate', 'worldwatchesferguson', 'changin', 'packing', 'flour', 'frying', 'resistance', 'guerrilla', 'kpa', 'torn', 'whooped', 'teamduval', 'terrellt', 'decision‰û', 'jsdf', 'reiterate', 'coats', 'sprite', 'lethal', 'surgeon', 'neutron', 'callofmini', 'doubleshot', 'xii', 'nightmarishly', 'brutal', 'ritualistic', 'vector', 'cutter', 'rapid', 'slosher', 'splattling', 'kwwwkwwwk', 'jiahahahha', 'yeyeulala', 'esoteric', 'astrologian', 'pulse', 'fucboi', 'whitehouse', 'es', 'tps', 'tdm', '400t', 'shatter', 'delusions', 'choppas', 'boyxboy', 'splatdown', 'switching', 'splatling', 'splatoon', 'default', 'splattershot', 'nelson', 'mandela', 'nowlike', 'usthe', 'truely', 'connected', 'catalogue', 'citing', 'casing', 'infested', 'wimp', 'servicin', 'lurkin', 'equalizer', 'hendrixonfire', 'noob', 'violated', 'legitimate', 'needing', 'easier', 'incredulous', 'outcry', 'taxpayers', 'objection', 'å£100bn', 'lcc', 'geno', 'benefit', 'believer', 'bloggers', 'ineedexposure', 'engineer', 'rpm', 'helpful', 'nuking', 'hardline', 'throwingknifes', 'uswarcrimes', 'wooooooo', 'dismantling', 'knives', 'ojoubot', 'typewriters', 'unauthorized', '1915‰ûókill', 'italians', 'excel', 'salary', 'impunity', 'argues', 'pelosi', 'supporting', 'mere', 'conflicts', 'tactics', 'infiltration', 'byow', 'abolishing', 'router', 'ddos', 'deco', 'trickier', 'retirement', 'instruction', 'bookmobile', 'libraries', 'bigbrother', '37b', '66m', 'cmdr', 'sidearm', 'nosc', 'pledged', 'skynet', 'upgrad', 'bokoharm', 'adamantly', 'opposed', 'finsup', 'certificates', 'safes', 'arranged', 'guatemalan', 'submissions', 'whirlwind', 'bombarded', 'kunais', 'moan', 'demeanor', 'staid', 'louisan', 'cramming', 'jaiden', 'referential', 'affair', 'luhan', 'exo', 'millennium', 'plaza', 'pawsox', 'durham', 'peek', 'wip', 'amwriting', 'tacoma', 'rona', 'medusa', 'snake', 'inputs', 'baekhyun', 'suho', 'syjexo', 'tacit', 'mantra', 'south‰û', 'lasted', 'standstill', '30pcs', '12mm', 'ab', 'resin', 'flatback', 'rhinestone', 'decoration', '150806', 'youku', 'scissor', 'ktfounder', 'remymarcel', 'frofrofro‰û', 'drained', 'jitsu', 'hexagon', 'yelled', 'freshoutofthebox', 'getitbeforeitsgone', 'under50', 'newnewnew', 'titania', 'reimagining', 'shakespeare', 'midsummer', 'scourge', 'fanged', 'cantwaittoplayinminneapolis', 'picthis', 'amazingness', 'finall‰û', 'athens', 'lisowski', 'whitewashes', 'masters', 'quals', 'snooker', 'saddles', 'blacken', 'parched', 'harris', 'complain', 'articals', 'opted', 'historically', 'bonfires', 'riooooos', 'cal', 'bernardino', 'sanonofre', 'netnewsledger', 'thereåêwere', 'foxdebatequestions', 'sharia', 'darwinism', 'becuase', 'excess', 'noting', 'uncontrolled', 'droughts', 'stampedes', 'tame', 'audiobook', 'bynr', 'connecticut', 'troubling', 'wn', 'morels', 'ambleside', 'farmr', 'mushroom', 'foragesecret', 'donated', 'handi', 'wipes', 'profittothepeople', 'doessnt', 'rejoice', 'calamities', 'ect', 'effected', 'foliage', 'ignited', 'hiker', 'fingerrockfire', 'azwx', 'kc5kh', 'wsoc', 'sheet', 'idfire', 'vail', '57am', 'mynabirds', 'lovers', 'hearths', 'freaks', 'timelapse', '1am', 'ember', 'wawildfire', 'chelan', 'wolverine', 'kcrw', 'salad', 'scariest', 'bengston', '‰ûïnumbers', 'upward', 'smem', 'khq', 'firenews', 'utfire', 'lancasteronline', 'easternoregon‰û', 'mulan', 'calwildfires', 'slows', 'smhrn', 'hikers', 'trailheads', 'scfd', 'lakecounty', 'katu', 'wqow', 'windstorm', 'galvnews', 'lastingness', 'acquiesce', 'retreat', 'ziuw', 'fifty', 'nook', 'thebachelorette', 'patricio', 'lozano', 'inspection', 'ij', 'niiiice', 'windstormåêinsurer', 'wsvr1686b', 'hull', 'runabout', 'twia', 'approves', 'hike', 'association', 'directors', 'ekiti', 'ode', 'gbonyin', 'lga', 'wzbt', 'txlege', 'vixen', '2in1', 'marc', 'bolan', 'hardball', 'browner', 'shirley', 'caesar', 'patio', 'umbrella', 'flipped', 'mystical', 'stillness', 'aspects', 'leelanau', '2b', 'extended', 'besafe', 'presqu', 'ile', 'pqphistoryweekend', 'jeez', 'pu', 'rhodeisland', 'bong', 'datingtips', 'goodreads', 'gunmen', 'salvadoran', 'exchanging', 'retooled', 'retirees', 'handicapped', 'nomorehandouts', 'bit‰û', 'exc', 'fatally', 'takeshima', 'fisherman', 'occupies', 'twilight', 'jacquie', 'biggar', 'kindlecountdown', 'mfrwauthor', 'mgtab', 'phillip', 'amritsar', '‰ûïthat‰ûªs', 'exaggerated', 'wounded‰û\\x9d', 'dime', 'miloko', 'suspe', 'claimin', 'zenit', 'academia', 'an247', 'ushed', 'assured', 'investigated', 'chiraq', 'travelled', 'rural‰û', 'serving', '75k', '52k', 'oif', 'oef', 'invisible', 'donations', 'senzu', 'gohan‰ûªs', 'pouch', 'iniquities', 'healed', 'isa', 'gunshot', 'bicep', 'kerricktrial', 'jonathanferrell', 'rub', 'lizeth', 'nout', 'rubbin', 'unhealed', 'unending', 'kashmir', 'endoccupation', 'endconflict', 'freekashmir', 'lick', 'mirrors', 'reflected', 'insomniac', 'heals', 'conducted', 'skims', 'morethan', 'disorders', 'kashmirconflict', 'fester', 'andåêword', 'offdishduty', 'owen', 'twcnewsclt', 'pour', 'policemen', 'indicate', 'celebrety', 'rams', 'wounding', 'emm', 'surgical', 'woodlawn', 'burnin', 'bishopfred', 'fromåêwounds', 'scrolling', 'exact', 'baked', 'alaskan', 'neverforget', 'numbing', 'gums', 'session', 'discussing', '‰ûóher', 'arm‰ûò', 'friggin', 'icicle', 'projectiles‰ûò', 'miniature', 'more‰ûó', 'strip', 'covering', 'scabs', 'gently', 'dabbed', 'rag', 'crawling', 'hea', 'soldi', 'sorrower', 'hangin', 'watchin', 'destiel', 'gazette', 'scratching', 'pedals', 'therapist', 'kindof', 'restrospect', 'ralph', 'rental', 'artectura', 'pop2015', 'nå¼36', 'fml', 'gimp', 'newave', 'progressives', '‰ûïnews‰û\\x9d', 'uncles', 'edmund', 'fitzgerald', 'competetion', 'claudiomeloni', 'penetrator', 'blockage', 'woodward', 'davison', 'shoalstraffic', 'upload', 'whatstheimportantvideo', 'blinker', 'nervous', 'greer', 'amazondeals', 'skylanders', 'staged', 'locomotive', 'uneven', 'sequel', 'lynch', 'larious', 'ombudsmanship', 'takeaways', 'amazon‰ûªs', 'magnificent', 'furious', 'janeenorman', 'probability', 'kuala', 'lumpur', 'vanished', 'najibrazak', 'malaysiaairlines', 'wrecked', 'pastie', 'industrial', 'costing', 'apiece', 'cramer', 'iger‰ûªs', 'disney‰ûªs', '‰ûòåêcnbc', 'iger', 'liv', 'thatswhatfriendsarefor', 'manner', 'parcel', 'dtom2', 'kunstler', 'residualincome', 'mlm', 'ease', 'coleslaw', 'smackdown', 'tyme', '300k', 'exotic', 'jsyk', 'abt', 'remus', 'slumped', 'riddler', 'presidential', 'adorable', 'begovic', 'reserve', 'topnews', 'barra', 'hattrick', 'goner', 'shoutout', 'fx', 'ebolaoutbreak', 'ala', 'boxes', 'gameofkittens', 'explodingkittens‰û', 'iwate', 'ayyo', 'dei', 'tnwx', 'overtaking', 'bathandnortheastsomerset', '9km', 'rajman', 'hasaka', 'risen', 'forney', 'fasteners', 'xrwn', 'developing', 'symptoms', 'cityofcalgary']\n"
     ]
    }
   ],
   "source": [
    "print(keys)"
   ]
  },
  {
   "cell_type": "markdown",
   "metadata": {},
   "source": [
    "#### Converting our string sents into integeres"
   ]
  },
  {
   "cell_type": "code",
   "execution_count": 14,
   "metadata": {},
   "outputs": [
    {
     "name": "stdout",
     "output_type": "stream",
     "text": [
      "[[1, [1, 2, 3, 4, 5, 6]], [1, [7, 8, 9, 10, 11, 12, 13, 14, 15, 16, 17, 18, 19]], [1, [20, 21, 14, 22, 23, 24, 25, 26, 27]]]\n"
     ]
    }
   ],
   "source": [
    "x=0\n",
    "for items in indexed_data:\n",
    "    sent=[]\n",
    "    numb=\"\"\n",
    "    for char in items[1]:\n",
    "        if char == \" \":\n",
    "            sent.append(int(numb))\n",
    "            numb=\"\"\n",
    "        else:\n",
    "            numb+=char\n",
    "    indexed_data[x][1]=sent\n",
    "    x+=1\n",
    "print(indexed_data[0:3])"
   ]
  },
  {
   "cell_type": "markdown",
   "metadata": {},
   "source": [
    "#### Spliting inputs and outputs"
   ]
  },
  {
   "cell_type": "code",
   "execution_count": 15,
   "metadata": {},
   "outputs": [],
   "source": [
    "inputs = []\n",
    "outputs = []\n",
    "for items in indexed_data:\n",
    "    inputs.append(items[1])\n",
    "    outputs.append(items[0])"
   ]
  },
  {
   "cell_type": "markdown",
   "metadata": {},
   "source": [
    "#### Loading Dependencies for all models"
   ]
  },
  {
   "cell_type": "code",
   "execution_count": 16,
   "metadata": {},
   "outputs": [
    {
     "name": "stderr",
     "output_type": "stream",
     "text": [
      "Using TensorFlow backend.\n"
     ]
    }
   ],
   "source": [
    "import keras\n",
    "from keras.models import Sequential, Model\n",
    "from keras.preprocessing.sequence import pad_sequences\n",
    "from keras.layers import Dense, Flatten, Embedding, Dropout, GRU, LSTM, Bidirectional, SimpleRNN,SpatialDropout1D\n",
    "from keras.layers import Conv1D, GlobalMaxPool1D,Input, concatenate, GlobalMaxPooling1D\n",
    "from keras.callbacks import ModelCheckpoint\n",
    "import os\n",
    "from sklearn.metrics import roc_auc_score\n",
    "import pandas as pd\n",
    "import matplotlib.pyplot as plt\n",
    "%matplotlib inline"
   ]
  },
  {
   "cell_type": "markdown",
   "metadata": {},
   "source": [
    "#### Hyperparameters for Dence model"
   ]
  },
  {
   "cell_type": "code",
   "execution_count": 17,
   "metadata": {},
   "outputs": [],
   "source": [
    "out_dir = \"model_output/dense/\"\n",
    "\n",
    "epochs = 5\n",
    "batch_size = 128\n",
    "\n",
    "n_dim = 64\n",
    "n_unique_words = 20090\n",
    "n_words_to_skip = 50\n",
    "max_review_lenght = 200\n",
    "pad_type = trunc_type = 'pre'\n",
    "\n",
    "n_dence = 64\n",
    "dropout = 0.5"
   ]
  },
  {
   "cell_type": "markdown",
   "metadata": {},
   "source": [
    "#### Pad-sequnece inputs (pre) to make all inputs the same lenght"
   ]
  },
  {
   "cell_type": "code",
   "execution_count": 18,
   "metadata": {},
   "outputs": [
    {
     "name": "stdout",
     "output_type": "stream",
     "text": [
      "200\n",
      "200\n",
      "200\n",
      "200\n",
      "200\n"
     ]
    }
   ],
   "source": [
    "inputs = pad_sequences(inputs, maxlen=max_review_lenght,padding=pad_type, truncating=trunc_type, value=0)\n",
    "x=0\n",
    "for items in inputs:\n",
    "    print(len(items))\n",
    "    if(x>3):\n",
    "        break\n",
    "    x+=1"
   ]
  },
  {
   "cell_type": "markdown",
   "metadata": {},
   "source": [
    "### Dence Model"
   ]
  },
  {
   "cell_type": "code",
   "execution_count": 19,
   "metadata": {},
   "outputs": [
    {
     "name": "stdout",
     "output_type": "stream",
     "text": [
      "_________________________________________________________________\n",
      "Layer (type)                 Output Shape              Param #   \n",
      "=================================================================\n",
      "embedding_1 (Embedding)      (None, 200, 64)           1285760   \n",
      "_________________________________________________________________\n",
      "flatten_1 (Flatten)          (None, 12800)             0         \n",
      "_________________________________________________________________\n",
      "dense_1 (Dense)              (None, 64)                819264    \n",
      "_________________________________________________________________\n",
      "dropout_1 (Dropout)          (None, 64)                0         \n",
      "_________________________________________________________________\n",
      "dense_2 (Dense)              (None, 1)                 65        \n",
      "=================================================================\n",
      "Total params: 2,105,089\n",
      "Trainable params: 2,105,089\n",
      "Non-trainable params: 0\n",
      "_________________________________________________________________\n"
     ]
    }
   ],
   "source": [
    "model = Sequential()\n",
    "model.add(Embedding(n_unique_words, n_dim, input_length=max_review_lenght))\n",
    "model.add(Flatten())\n",
    "model.add(Dense(n_dence, activation='relu'))\n",
    "model.add(Dropout(dropout))\n",
    "model.add(Dense(1, activation='sigmoid'))\n",
    "\n",
    "model.summary()"
   ]
  },
  {
   "cell_type": "markdown",
   "metadata": {},
   "source": [
    "#### Configure model"
   ]
  },
  {
   "cell_type": "code",
   "execution_count": 20,
   "metadata": {},
   "outputs": [],
   "source": [
    "model.compile(loss=\"binary_crossentropy\", optimizer='adam', metrics=['accuracy'])"
   ]
  },
  {
   "cell_type": "markdown",
   "metadata": {},
   "source": [
    "#### Model Checkpoints"
   ]
  },
  {
   "cell_type": "code",
   "execution_count": 21,
   "metadata": {},
   "outputs": [],
   "source": [
    "modelcheckpoint = ModelCheckpoint(filepath=out_dir+'weight.{epoch:02d}.hdf5')\n",
    "if not os.path.exists(out_dir):\n",
    "    os.makedirs(out_dir)"
   ]
  },
  {
   "cell_type": "markdown",
   "metadata": {},
   "source": [
    "#### Training model"
   ]
  },
  {
   "cell_type": "code",
   "execution_count": 22,
   "metadata": {},
   "outputs": [
    {
     "name": "stdout",
     "output_type": "stream",
     "text": [
      "Train on 8688 samples, validate on 2172 samples\n",
      "Epoch 1/5\n",
      "8688/8688 [==============================] - 5s 566us/step - loss: 0.6665 - acc: 0.5998 - val_loss: 0.6200 - val_acc: 0.6745\n",
      "Epoch 2/5\n",
      "8688/8688 [==============================] - 5s 534us/step - loss: 0.5125 - acc: 0.7730 - val_loss: 0.4994 - val_acc: 0.7758\n",
      "Epoch 3/5\n",
      "8688/8688 [==============================] - 4s 518us/step - loss: 0.3475 - acc: 0.8749 - val_loss: 0.4807 - val_acc: 0.7670\n",
      "Epoch 4/5\n",
      "8688/8688 [==============================] - 4s 514us/step - loss: 0.2289 - acc: 0.9266 - val_loss: 0.4858 - val_acc: 0.7859\n",
      "Epoch 5/5\n",
      "8688/8688 [==============================] - 4s 504us/step - loss: 0.1564 - acc: 0.9548 - val_loss: 0.5198 - val_acc: 0.7841\n"
     ]
    },
    {
     "data": {
      "text/plain": [
       "<keras.callbacks.History at 0x1cc50596e48>"
      ]
     },
     "execution_count": 22,
     "metadata": {},
     "output_type": "execute_result"
    }
   ],
   "source": [
    "model.fit(inputs,outputs,batch_size=batch_size, epochs=epochs, verbose=1, validation_split=0.2, callbacks=[modelcheckpoint])"
   ]
  },
  {
   "cell_type": "markdown",
   "metadata": {},
   "source": [
    "#### Hyperparameters for Conv-net model"
   ]
  },
  {
   "cell_type": "code",
   "execution_count": 23,
   "metadata": {},
   "outputs": [],
   "source": [
    "out_dir = \"model_output/Conv-net/\"\n",
    "\n",
    "epochs = 5\n",
    "batch_size = 128\n",
    "\n",
    "n_dim = 64\n",
    "n_unique_words = 20090\n",
    "n_words_to_skip = 50\n",
    "max_review_lenght = 200\n",
    "pad_type = trunc_type = 'pre'\n",
    "drop_embed = 0.2\n",
    "\n",
    "n_dence = 256\n",
    "dropout = 0.2\n",
    "\n",
    "n_conv = 256\n",
    "k_conv = 3"
   ]
  },
  {
   "cell_type": "markdown",
   "metadata": {},
   "source": [
    "#### Conv-net Model"
   ]
  },
  {
   "cell_type": "code",
   "execution_count": 24,
   "metadata": {},
   "outputs": [
    {
     "name": "stdout",
     "output_type": "stream",
     "text": [
      "_________________________________________________________________\n",
      "Layer (type)                 Output Shape              Param #   \n",
      "=================================================================\n",
      "embedding_2 (Embedding)      (None, 200, 64)           1285760   \n",
      "_________________________________________________________________\n",
      "spatial_dropout1d_1 (Spatial (None, 200, 64)           0         \n",
      "_________________________________________________________________\n",
      "conv1d_1 (Conv1D)            (None, 198, 256)          49408     \n",
      "_________________________________________________________________\n",
      "global_max_pooling1d_1 (Glob (None, 256)               0         \n",
      "_________________________________________________________________\n",
      "dense_3 (Dense)              (None, 256)               65792     \n",
      "_________________________________________________________________\n",
      "dropout_2 (Dropout)          (None, 256)               0         \n",
      "_________________________________________________________________\n",
      "dense_4 (Dense)              (None, 1)                 257       \n",
      "=================================================================\n",
      "Total params: 1,401,217\n",
      "Trainable params: 1,401,217\n",
      "Non-trainable params: 0\n",
      "_________________________________________________________________\n"
     ]
    }
   ],
   "source": [
    "model = Sequential()\n",
    "model.add(Embedding(n_unique_words, n_dim, input_length=max_review_lenght))\n",
    "model.add(SpatialDropout1D(drop_embed))\n",
    "model.add(Conv1D(n_conv, k_conv, activation='relu'))\n",
    "model.add(GlobalMaxPool1D())\n",
    "model.add(Dense(n_dence, activation='relu'))\n",
    "model.add(Dropout(dropout))\n",
    "model.add(Dense(1, activation='sigmoid'))\n",
    "\n",
    "model.summary()"
   ]
  },
  {
   "cell_type": "markdown",
   "metadata": {},
   "source": [
    "#### Configure model"
   ]
  },
  {
   "cell_type": "code",
   "execution_count": 25,
   "metadata": {},
   "outputs": [],
   "source": [
    "model.compile(loss=\"binary_crossentropy\", optimizer='adam', metrics=['accuracy'])"
   ]
  },
  {
   "cell_type": "markdown",
   "metadata": {},
   "source": [
    "#### Model Checkpoints"
   ]
  },
  {
   "cell_type": "code",
   "execution_count": 26,
   "metadata": {},
   "outputs": [],
   "source": [
    "modelcheckpoint = ModelCheckpoint(filepath=out_dir+'weight.{epoch:02d}.hdf5')\n",
    "if not os.path.exists(out_dir):\n",
    "    os.makedirs(out_dir)"
   ]
  },
  {
   "cell_type": "code",
   "execution_count": 27,
   "metadata": {},
   "outputs": [
    {
     "name": "stdout",
     "output_type": "stream",
     "text": [
      "Train on 8688 samples, validate on 2172 samples\n",
      "Epoch 1/5\n",
      "8688/8688 [==============================] - 25s 3ms/step - loss: 0.6136 - acc: 0.6560 - val_loss: 0.5272 - val_acc: 0.7486\n",
      "Epoch 2/5\n",
      "8688/8688 [==============================] - 22s 3ms/step - loss: 0.3835 - acc: 0.8400 - val_loss: 0.4615 - val_acc: 0.7901\n",
      "Epoch 3/5\n",
      "8688/8688 [==============================] - 22s 3ms/step - loss: 0.2538 - acc: 0.9020 - val_loss: 0.5679 - val_acc: 0.7348\n",
      "Epoch 4/5\n",
      "8688/8688 [==============================] - 22s 3ms/step - loss: 0.1670 - acc: 0.9403 - val_loss: 0.6650 - val_acc: 0.7357\n",
      "Epoch 5/5\n",
      "8688/8688 [==============================] - 23s 3ms/step - loss: 0.1153 - acc: 0.9618 - val_loss: 0.7777 - val_acc: 0.7339\n"
     ]
    },
    {
     "data": {
      "text/plain": [
       "<keras.callbacks.History at 0x1cc52990e10>"
      ]
     },
     "execution_count": 27,
     "metadata": {},
     "output_type": "execute_result"
    }
   ],
   "source": [
    "model.fit(inputs,outputs,batch_size=batch_size, epochs=epochs, verbose=1, validation_split=0.2, callbacks=[modelcheckpoint])"
   ]
  },
  {
   "cell_type": "markdown",
   "metadata": {},
   "source": [
    "#### Hyperparameters for Simple-RNN model"
   ]
  },
  {
   "cell_type": "code",
   "execution_count": 28,
   "metadata": {},
   "outputs": [],
   "source": [
    "out_dir = \"model_output/Simple-RNN/\"\n",
    "\n",
    "epochs = 10\n",
    "batch_size = 128\n",
    "\n",
    "n_dim = 64\n",
    "n_unique_words = 20090\n",
    "n_words_to_skip = 50\n",
    "max_review_lenght = 200\n",
    "pad_type = trunc_type = 'pre'\n",
    "drop_embed = 0.2\n",
    "\n",
    "\n",
    "n_rnn = 256\n",
    "droup_rnn = 0.2"
   ]
  },
  {
   "cell_type": "markdown",
   "metadata": {},
   "source": [
    "#### Simple-RNN model"
   ]
  },
  {
   "cell_type": "code",
   "execution_count": 29,
   "metadata": {},
   "outputs": [
    {
     "name": "stdout",
     "output_type": "stream",
     "text": [
      "_________________________________________________________________\n",
      "Layer (type)                 Output Shape              Param #   \n",
      "=================================================================\n",
      "embedding_3 (Embedding)      (None, 200, 64)           1285760   \n",
      "_________________________________________________________________\n",
      "spatial_dropout1d_2 (Spatial (None, 200, 64)           0         \n",
      "_________________________________________________________________\n",
      "simple_rnn_1 (SimpleRNN)     (None, 256)               82176     \n",
      "_________________________________________________________________\n",
      "dense_5 (Dense)              (None, 1)                 257       \n",
      "=================================================================\n",
      "Total params: 1,368,193\n",
      "Trainable params: 1,368,193\n",
      "Non-trainable params: 0\n",
      "_________________________________________________________________\n"
     ]
    }
   ],
   "source": [
    "model = Sequential()\n",
    "model.add(Embedding(n_unique_words, n_dim, input_length=max_review_lenght))\n",
    "model.add(SpatialDropout1D(drop_embed))\n",
    "model.add(SimpleRNN(n_rnn, dropout=droup_rnn))\n",
    "model.add(Dense(1, activation='sigmoid'))\n",
    "\n",
    "model.summary()"
   ]
  },
  {
   "cell_type": "markdown",
   "metadata": {},
   "source": [
    "#### Configure model"
   ]
  },
  {
   "cell_type": "code",
   "execution_count": 30,
   "metadata": {},
   "outputs": [],
   "source": [
    "model.compile(loss=\"binary_crossentropy\", optimizer='adam', metrics=['accuracy'])"
   ]
  },
  {
   "cell_type": "markdown",
   "metadata": {},
   "source": [
    "#### Model Checkpoints"
   ]
  },
  {
   "cell_type": "code",
   "execution_count": 31,
   "metadata": {},
   "outputs": [],
   "source": [
    "modelcheckpoint = ModelCheckpoint(filepath=out_dir+'weight.{epoch:02d}.hdf5')\n",
    "if not os.path.exists(out_dir):\n",
    "    os.makedirs(out_dir)"
   ]
  },
  {
   "cell_type": "code",
   "execution_count": 32,
   "metadata": {},
   "outputs": [
    {
     "name": "stdout",
     "output_type": "stream",
     "text": [
      "Train on 8688 samples, validate on 2172 samples\n",
      "Epoch 1/10\n",
      "8688/8688 [==============================] - 19s 2ms/step - loss: 0.6857 - acc: 0.5742 - val_loss: 0.6757 - val_acc: 0.5267\n",
      "Epoch 2/10\n",
      "8688/8688 [==============================] - 18s 2ms/step - loss: 0.6759 - acc: 0.5841 - val_loss: 0.8092 - val_acc: 0.4738\n",
      "Epoch 3/10\n",
      "8688/8688 [==============================] - 19s 2ms/step - loss: 0.6607 - acc: 0.5971 - val_loss: 0.6599 - val_acc: 0.6050\n",
      "Epoch 4/10\n",
      "8688/8688 [==============================] - 19s 2ms/step - loss: 0.6271 - acc: 0.6605 - val_loss: 0.6749 - val_acc: 0.5603\n",
      "Epoch 5/10\n",
      "8688/8688 [==============================] - 18s 2ms/step - loss: 0.5361 - acc: 0.7544 - val_loss: 0.6645 - val_acc: 0.5985\n",
      "Epoch 6/10\n",
      "8688/8688 [==============================] - 18s 2ms/step - loss: 0.4725 - acc: 0.7962 - val_loss: 0.6384 - val_acc: 0.6280\n",
      "Epoch 7/10\n",
      "8688/8688 [==============================] - 18s 2ms/step - loss: 0.3595 - acc: 0.8682 - val_loss: 0.7201 - val_acc: 0.6340\n",
      "Epoch 8/10\n",
      "8688/8688 [==============================] - 19s 2ms/step - loss: 0.2544 - acc: 0.9046 - val_loss: 0.6763 - val_acc: 0.6865\n",
      "Epoch 9/10\n",
      "8688/8688 [==============================] - 18s 2ms/step - loss: 0.1992 - acc: 0.9276 - val_loss: 0.7610 - val_acc: 0.6575\n",
      "Epoch 10/10\n",
      "8688/8688 [==============================] - 18s 2ms/step - loss: 0.1497 - acc: 0.9460 - val_loss: 0.7742 - val_acc: 0.6713\n"
     ]
    },
    {
     "data": {
      "text/plain": [
       "<keras.callbacks.History at 0x1cc555e9160>"
      ]
     },
     "execution_count": 32,
     "metadata": {},
     "output_type": "execute_result"
    }
   ],
   "source": [
    "model.fit(inputs,outputs,batch_size=batch_size, epochs=epochs, verbose=1, validation_split=0.2, callbacks=[modelcheckpoint])"
   ]
  },
  {
   "cell_type": "markdown",
   "metadata": {},
   "source": [
    "#### Hyperparameters for LSTM model"
   ]
  },
  {
   "cell_type": "code",
   "execution_count": 33,
   "metadata": {},
   "outputs": [],
   "source": [
    "out_dir = \"model_output/LSTM-vanila/\"\n",
    "\n",
    "epochs = 5\n",
    "batch_size = 128\n",
    "\n",
    "n_dim = 64\n",
    "n_unique_words = 20090\n",
    "n_words_to_skip = 50\n",
    "max_review_lenght = 200\n",
    "pad_type = trunc_type = 'pre'\n",
    "drop_embed = 0.2\n",
    "\n",
    "\n",
    "n_lstm = 256\n",
    "droup_lstm = 0.2"
   ]
  },
  {
   "cell_type": "markdown",
   "metadata": {},
   "source": [
    "#### LSTM model"
   ]
  },
  {
   "cell_type": "code",
   "execution_count": 34,
   "metadata": {},
   "outputs": [
    {
     "name": "stdout",
     "output_type": "stream",
     "text": [
      "_________________________________________________________________\n",
      "Layer (type)                 Output Shape              Param #   \n",
      "=================================================================\n",
      "embedding_4 (Embedding)      (None, 200, 64)           1285760   \n",
      "_________________________________________________________________\n",
      "spatial_dropout1d_3 (Spatial (None, 200, 64)           0         \n",
      "_________________________________________________________________\n",
      "lstm_1 (LSTM)                (None, 256)               328704    \n",
      "_________________________________________________________________\n",
      "dense_6 (Dense)              (None, 1)                 257       \n",
      "=================================================================\n",
      "Total params: 1,614,721\n",
      "Trainable params: 1,614,721\n",
      "Non-trainable params: 0\n",
      "_________________________________________________________________\n"
     ]
    }
   ],
   "source": [
    "model = Sequential()\n",
    "model.add(Embedding(n_unique_words, n_dim, input_length=max_review_lenght))\n",
    "model.add(SpatialDropout1D(drop_embed))\n",
    "model.add(LSTM(n_lstm, dropout=droup_lstm))\n",
    "model.add(Dense(1, activation='sigmoid'))\n",
    "\n",
    "model.summary()"
   ]
  },
  {
   "cell_type": "markdown",
   "metadata": {},
   "source": [
    "#### Configure model"
   ]
  },
  {
   "cell_type": "code",
   "execution_count": 35,
   "metadata": {},
   "outputs": [],
   "source": [
    "model.compile(loss=\"binary_crossentropy\", optimizer='adam', metrics=['accuracy'])"
   ]
  },
  {
   "cell_type": "markdown",
   "metadata": {},
   "source": [
    "#### Model Checkpoints"
   ]
  },
  {
   "cell_type": "code",
   "execution_count": 36,
   "metadata": {},
   "outputs": [],
   "source": [
    "modelcheckpoint = ModelCheckpoint(filepath=out_dir+'weight.{epoch:02d}.hdf5')\n",
    "if not os.path.exists(out_dir):\n",
    "    os.makedirs(out_dir)"
   ]
  },
  {
   "cell_type": "code",
   "execution_count": 37,
   "metadata": {},
   "outputs": [
    {
     "name": "stdout",
     "output_type": "stream",
     "text": [
      "Train on 8688 samples, validate on 2172 samples\n",
      "Epoch 1/5\n",
      "8688/8688 [==============================] - 86s 10ms/step - loss: 0.6302 - acc: 0.6717 - val_loss: 0.5996 - val_acc: 0.7270\n",
      "Epoch 2/5\n",
      "8688/8688 [==============================] - 90s 10ms/step - loss: 0.4462 - acc: 0.8096 - val_loss: 0.4682 - val_acc: 0.7864\n",
      "Epoch 3/5\n",
      "8688/8688 [==============================] - 90s 10ms/step - loss: 0.3093 - acc: 0.8759 - val_loss: 0.5086 - val_acc: 0.7574\n",
      "Epoch 4/5\n",
      "8688/8688 [==============================] - 89s 10ms/step - loss: 0.2357 - acc: 0.9083 - val_loss: 0.5292 - val_acc: 0.7781\n",
      "Epoch 5/5\n",
      "8688/8688 [==============================] - 89s 10ms/step - loss: 0.1819 - acc: 0.9315 - val_loss: 0.6090 - val_acc: 0.7495\n"
     ]
    },
    {
     "data": {
      "text/plain": [
       "<keras.callbacks.History at 0x1cc5b2a0fd0>"
      ]
     },
     "execution_count": 37,
     "metadata": {},
     "output_type": "execute_result"
    }
   ],
   "source": [
    "model.fit(inputs,outputs,batch_size=batch_size, epochs=epochs, verbose=1, validation_split=0.2, callbacks=[modelcheckpoint])"
   ]
  },
  {
   "cell_type": "markdown",
   "metadata": {},
   "source": [
    "#### Hyperparameters for GRU model"
   ]
  },
  {
   "cell_type": "code",
   "execution_count": 38,
   "metadata": {},
   "outputs": [],
   "source": [
    "out_dir = \"model_output/GRU/\"\n",
    "\n",
    "epochs = 5\n",
    "batch_size = 128\n",
    "\n",
    "n_dim = 64\n",
    "n_unique_words = 20090\n",
    "n_words_to_skip = 50\n",
    "max_review_lenght = 200\n",
    "pad_type = trunc_type = 'pre'\n",
    "drop_embed = 0.2\n",
    "\n",
    "\n",
    "n_gru = 256\n",
    "droup_gru = 0.2"
   ]
  },
  {
   "cell_type": "markdown",
   "metadata": {},
   "source": [
    "#### GRU model"
   ]
  },
  {
   "cell_type": "code",
   "execution_count": 39,
   "metadata": {},
   "outputs": [
    {
     "name": "stdout",
     "output_type": "stream",
     "text": [
      "_________________________________________________________________\n",
      "Layer (type)                 Output Shape              Param #   \n",
      "=================================================================\n",
      "embedding_5 (Embedding)      (None, 200, 64)           1285760   \n",
      "_________________________________________________________________\n",
      "spatial_dropout1d_4 (Spatial (None, 200, 64)           0         \n",
      "_________________________________________________________________\n",
      "gru_1 (GRU)                  (None, 256)               246528    \n",
      "_________________________________________________________________\n",
      "dense_7 (Dense)              (None, 1)                 257       \n",
      "=================================================================\n",
      "Total params: 1,532,545\n",
      "Trainable params: 1,532,545\n",
      "Non-trainable params: 0\n",
      "_________________________________________________________________\n"
     ]
    }
   ],
   "source": [
    "model = Sequential()\n",
    "model.add(Embedding(n_unique_words, n_dim, input_length=max_review_lenght))\n",
    "model.add(SpatialDropout1D(drop_embed))\n",
    "model.add(GRU(n_gru, dropout=droup_gru))\n",
    "model.add(Dense(1, activation='sigmoid'))\n",
    "\n",
    "model.summary()"
   ]
  },
  {
   "cell_type": "markdown",
   "metadata": {},
   "source": [
    "#### Configure model"
   ]
  },
  {
   "cell_type": "code",
   "execution_count": 40,
   "metadata": {},
   "outputs": [],
   "source": [
    "model.compile(loss=\"binary_crossentropy\", optimizer='adam', metrics=['accuracy'])"
   ]
  },
  {
   "cell_type": "markdown",
   "metadata": {},
   "source": [
    "#### Model Checkpoints"
   ]
  },
  {
   "cell_type": "code",
   "execution_count": 41,
   "metadata": {},
   "outputs": [],
   "source": [
    "modelcheckpoint = ModelCheckpoint(filepath=out_dir+'weight.{epoch:02d}.hdf5')\n",
    "if not os.path.exists(out_dir):\n",
    "    os.makedirs(out_dir)"
   ]
  },
  {
   "cell_type": "code",
   "execution_count": 42,
   "metadata": {},
   "outputs": [
    {
     "name": "stdout",
     "output_type": "stream",
     "text": [
      "Train on 8688 samples, validate on 2172 samples\n",
      "Epoch 1/5\n",
      "8688/8688 [==============================] - 67s 8ms/step - loss: 0.5886 - acc: 0.6919 - val_loss: 0.4847 - val_acc: 0.7652\n",
      "Epoch 2/5\n",
      "8688/8688 [==============================] - 64s 7ms/step - loss: 0.5189 - acc: 0.8234 - val_loss: 0.5630 - val_acc: 0.7325\n",
      "Epoch 3/5\n",
      "8688/8688 [==============================] - 65s 7ms/step - loss: 0.3190 - acc: 0.8736 - val_loss: 0.4863 - val_acc: 0.7670\n",
      "Epoch 4/5\n",
      "8688/8688 [==============================] - 64s 7ms/step - loss: 0.2206 - acc: 0.9122 - val_loss: 0.5371 - val_acc: 0.7463\n",
      "Epoch 5/5\n",
      "8688/8688 [==============================] - 65s 7ms/step - loss: 0.1692 - acc: 0.9378 - val_loss: 0.6064 - val_acc: 0.7606\n"
     ]
    },
    {
     "data": {
      "text/plain": [
       "<keras.callbacks.History at 0x1cc003caf28>"
      ]
     },
     "execution_count": 42,
     "metadata": {},
     "output_type": "execute_result"
    }
   ],
   "source": [
    "model.fit(inputs,outputs,batch_size=batch_size, epochs=epochs, verbose=1, validation_split=0.2, callbacks=[modelcheckpoint])"
   ]
  },
  {
   "cell_type": "markdown",
   "metadata": {},
   "source": [
    "#### Hyperparameters for Bidirectional-LSTM model"
   ]
  },
  {
   "cell_type": "code",
   "execution_count": 43,
   "metadata": {},
   "outputs": [],
   "source": [
    "out_dir = \"model_output/Bidirectional-LSTM/\"\n",
    "\n",
    "epochs = 8\n",
    "batch_size = 128\n",
    "\n",
    "n_dim = 64\n",
    "n_unique_words = 20090\n",
    "n_words_to_skip = 50\n",
    "max_review_lenght = 200\n",
    "pad_type = trunc_type = 'pre'\n",
    "drop_embed = 0.2\n",
    "\n",
    "\n",
    "n_lstm = 256\n",
    "droup_lstm = 0.2"
   ]
  },
  {
   "cell_type": "markdown",
   "metadata": {},
   "source": [
    "#### Bidirectional-LSTM model"
   ]
  },
  {
   "cell_type": "code",
   "execution_count": 44,
   "metadata": {},
   "outputs": [
    {
     "name": "stdout",
     "output_type": "stream",
     "text": [
      "_________________________________________________________________\n",
      "Layer (type)                 Output Shape              Param #   \n",
      "=================================================================\n",
      "embedding_6 (Embedding)      (None, 200, 64)           1285760   \n",
      "_________________________________________________________________\n",
      "spatial_dropout1d_5 (Spatial (None, 200, 64)           0         \n",
      "_________________________________________________________________\n",
      "bidirectional_1 (Bidirection (None, 512)               657408    \n",
      "_________________________________________________________________\n",
      "dense_8 (Dense)              (None, 1)                 513       \n",
      "=================================================================\n",
      "Total params: 1,943,681\n",
      "Trainable params: 1,943,681\n",
      "Non-trainable params: 0\n",
      "_________________________________________________________________\n"
     ]
    }
   ],
   "source": [
    "model = Sequential()\n",
    "model.add(Embedding(n_unique_words, n_dim, input_length=max_review_lenght))\n",
    "model.add(SpatialDropout1D(drop_embed))\n",
    "model.add(Bidirectional(LSTM(n_lstm, dropout=droup_lstm)))\n",
    "model.add(Dense(1, activation='sigmoid'))\n",
    "\n",
    "model.summary()"
   ]
  },
  {
   "cell_type": "markdown",
   "metadata": {},
   "source": [
    "#### Configure model"
   ]
  },
  {
   "cell_type": "code",
   "execution_count": 45,
   "metadata": {},
   "outputs": [],
   "source": [
    "model.compile(loss='binary_crossentropy', optimizer='adam', metrics=['accuracy'])"
   ]
  },
  {
   "cell_type": "markdown",
   "metadata": {},
   "source": [
    "#### Model Checkpoints"
   ]
  },
  {
   "cell_type": "code",
   "execution_count": 46,
   "metadata": {},
   "outputs": [],
   "source": [
    "modelcheckpoint = ModelCheckpoint(filepath=out_dir+'weight.{epoch:02d}.hdf5')\n",
    "if not os.path.exists(out_dir):\n",
    "    os.makedirs(out_dir)"
   ]
  },
  {
   "cell_type": "code",
   "execution_count": 47,
   "metadata": {},
   "outputs": [
    {
     "name": "stdout",
     "output_type": "stream",
     "text": [
      "Train on 8688 samples, validate on 2172 samples\n",
      "Epoch 1/8\n",
      "8688/8688 [==============================] - 244s 28ms/step - loss: 0.6221 - acc: 0.6664 - val_loss: 0.5013 - val_acc: 0.7620\n",
      "Epoch 2/8\n",
      "8688/8688 [==============================] - 260s 30ms/step - loss: 0.4009 - acc: 0.8325 - val_loss: 0.4561 - val_acc: 0.8029\n",
      "Epoch 3/8\n",
      "8688/8688 [==============================] - 264s 30ms/step - loss: 0.2925 - acc: 0.8827 - val_loss: 0.4796 - val_acc: 0.7919\n",
      "Epoch 4/8\n",
      "8688/8688 [==============================] - 277s 32ms/step - loss: 0.2173 - acc: 0.9172 - val_loss: 0.5205 - val_acc: 0.7739\n",
      "Epoch 5/8\n",
      "8688/8688 [==============================] - 265s 31ms/step - loss: 0.2627 - acc: 0.8992 - val_loss: 0.6086 - val_acc: 0.7330\n",
      "Epoch 6/8\n",
      "8688/8688 [==============================] - 265s 31ms/step - loss: 0.1591 - acc: 0.9424 - val_loss: 0.6860 - val_acc: 0.7274\n",
      "Epoch 7/8\n",
      "8688/8688 [==============================] - 267s 31ms/step - loss: 0.1266 - acc: 0.9549 - val_loss: 0.6858 - val_acc: 0.7509\n",
      "Epoch 8/8\n",
      "8688/8688 [==============================] - 266s 31ms/step - loss: 0.1083 - acc: 0.9629 - val_loss: 0.6871 - val_acc: 0.7574\n"
     ]
    },
    {
     "data": {
      "text/plain": [
       "<keras.callbacks.History at 0x1cc00fc5470>"
      ]
     },
     "execution_count": 47,
     "metadata": {},
     "output_type": "execute_result"
    }
   ],
   "source": [
    "model.fit(inputs,outputs,batch_size=batch_size, epochs=epochs, verbose=1, validation_split=0.2, callbacks=[modelcheckpoint])"
   ]
  },
  {
   "cell_type": "markdown",
   "metadata": {},
   "source": [
    "#### Hyperparameters forAdvanced-conv-net model"
   ]
  },
  {
   "cell_type": "code",
   "execution_count": 48,
   "metadata": {},
   "outputs": [],
   "source": [
    "output_dir = 'model_output/Advanced-conv-net/'\n",
    "\n",
    "epochs = 4\n",
    "batch_size = 128\n",
    "\n",
    "n_dim = 64\n",
    "n_unique_words = 20090 \n",
    "max_review_length = 200\n",
    "pad_type = trunc_type = 'pre'\n",
    "drop_embed = 0.2 \n",
    "\n",
    "n_conv_1 = n_conv_2 = n_conv_3 = 256 \n",
    "k_conv_1 = 3\n",
    "k_conv_2 = 2\n",
    "k_conv_3 = 4\n",
    "\n",
    "n_dense = 256\n",
    "dropout = 0.2"
   ]
  },
  {
   "cell_type": "markdown",
   "metadata": {},
   "source": [
    "#### Advanced-conv-net model"
   ]
  },
  {
   "cell_type": "code",
   "execution_count": 49,
   "metadata": {},
   "outputs": [
    {
     "name": "stdout",
     "output_type": "stream",
     "text": [
      "__________________________________________________________________________________________________\n",
      "Layer (type)                    Output Shape         Param #     Connected to                     \n",
      "==================================================================================================\n",
      "input (InputLayer)              (None, 200)          0                                            \n",
      "__________________________________________________________________________________________________\n",
      "embedding (Embedding)           (None, 200, 64)      1285760     input[0][0]                      \n",
      "__________________________________________________________________________________________________\n",
      "drop_embed (SpatialDropout1D)   (None, 200, 64)      0           embedding[0][0]                  \n",
      "__________________________________________________________________________________________________\n",
      "conv_1 (Conv1D)                 (None, 198, 256)     49408       drop_embed[0][0]                 \n",
      "__________________________________________________________________________________________________\n",
      "conv_2 (Conv1D)                 (None, 199, 256)     33024       drop_embed[0][0]                 \n",
      "__________________________________________________________________________________________________\n",
      "conv_3 (Conv1D)                 (None, 197, 256)     65792       drop_embed[0][0]                 \n",
      "__________________________________________________________________________________________________\n",
      "maxp_1 (GlobalMaxPooling1D)     (None, 256)          0           conv_1[0][0]                     \n",
      "__________________________________________________________________________________________________\n",
      "maxp_2 (GlobalMaxPooling1D)     (None, 256)          0           conv_2[0][0]                     \n",
      "__________________________________________________________________________________________________\n",
      "maxp_3 (GlobalMaxPooling1D)     (None, 256)          0           conv_3[0][0]                     \n",
      "__________________________________________________________________________________________________\n",
      "concatenate_1 (Concatenate)     (None, 768)          0           maxp_1[0][0]                     \n",
      "                                                                 maxp_2[0][0]                     \n",
      "                                                                 maxp_3[0][0]                     \n",
      "__________________________________________________________________________________________________\n",
      "dense (Dense)                   (None, 256)          196864      concatenate_1[0][0]              \n",
      "__________________________________________________________________________________________________\n",
      "drop_dense (Dropout)            (None, 256)          0           dense[0][0]                      \n",
      "__________________________________________________________________________________________________\n",
      "dense_2 (Dense)                 (None, 64)           16448       drop_dense[0][0]                 \n",
      "__________________________________________________________________________________________________\n",
      "drop_dense_2 (Dropout)          (None, 64)           0           dense_2[0][0]                    \n",
      "__________________________________________________________________________________________________\n",
      "output (Dense)                  (None, 1)            65          drop_dense_2[0][0]               \n",
      "==================================================================================================\n",
      "Total params: 1,647,361\n",
      "Trainable params: 1,647,361\n",
      "Non-trainable params: 0\n",
      "__________________________________________________________________________________________________\n"
     ]
    }
   ],
   "source": [
    "input_layer = Input(shape=(max_review_length,), dtype='int16', name='input')\n",
    "embedding_layer = Embedding(n_unique_words, n_dim, input_length=max_review_length, name='embedding')(input_layer)\n",
    "drop_embed_layer = SpatialDropout1D(drop_embed, name='drop_embed')(embedding_layer)\n",
    "\n",
    "conv_1 = Conv1D(n_conv_1, k_conv_1, activation='relu', name='conv_1')(drop_embed_layer)\n",
    "maxp_1 = GlobalMaxPooling1D(name='maxp_1')(conv_1)\n",
    "\n",
    "conv_2 = Conv1D(n_conv_2, k_conv_2, activation='relu', name='conv_2')(drop_embed_layer)\n",
    "maxp_2 = GlobalMaxPooling1D(name='maxp_2')(conv_2)\n",
    "\n",
    "conv_3 = Conv1D(n_conv_3, k_conv_3, activation='relu', name='conv_3')(drop_embed_layer)\n",
    "maxp_3 = GlobalMaxPooling1D(name='maxp_3')(conv_3)\n",
    "\n",
    "concat = concatenate([maxp_1, maxp_2, maxp_3])\n",
    "\n",
    "dense_layer = Dense(n_dense, activation='relu', name='dense')(concat)\n",
    "drop_dense_layer = Dropout(dropout, name='drop_dense')(dense_layer)\n",
    "dense_2 = Dense(64, activation='relu', name='dense_2')(drop_dense_layer)\n",
    "dropout_2 = Dropout(dropout, name='drop_dense_2')(dense_2)\n",
    "\n",
    "predictions = Dense(1, activation='sigmoid', name='output')(dropout_2)\n",
    "\n",
    "model = Model(input_layer, predictions)\n",
    "model.summary()"
   ]
  },
  {
   "cell_type": "markdown",
   "metadata": {},
   "source": [
    "#### Configure model"
   ]
  },
  {
   "cell_type": "code",
   "execution_count": 50,
   "metadata": {},
   "outputs": [],
   "source": [
    "model.compile(loss='binary_crossentropy', optimizer='adam', metrics=['accuracy'])"
   ]
  },
  {
   "cell_type": "markdown",
   "metadata": {},
   "source": [
    "#### Model Checkpoints"
   ]
  },
  {
   "cell_type": "code",
   "execution_count": 51,
   "metadata": {},
   "outputs": [],
   "source": [
    "modelcheckpoint = ModelCheckpoint(filepath=out_dir+'weight.{epoch:02d}.hdf5')\n",
    "if not os.path.exists(out_dir):\n",
    "    os.makedirs(out_dir)"
   ]
  },
  {
   "cell_type": "code",
   "execution_count": 52,
   "metadata": {},
   "outputs": [
    {
     "name": "stdout",
     "output_type": "stream",
     "text": [
      "Train on 8688 samples, validate on 2172 samples\n",
      "Epoch 1/4\n",
      "8688/8688 [==============================] - 59s 7ms/step - loss: 0.6015 - acc: 0.6724 - val_loss: 0.4807 - val_acc: 0.7730\n",
      "Epoch 2/4\n",
      "8688/8688 [==============================] - 58s 7ms/step - loss: 0.3756 - acc: 0.8405 - val_loss: 0.4996 - val_acc: 0.7482\n",
      "Epoch 3/4\n",
      "8688/8688 [==============================] - 58s 7ms/step - loss: 0.2449 - acc: 0.9093 - val_loss: 0.5260 - val_acc: 0.7703\n",
      "Epoch 4/4\n",
      "8688/8688 [==============================] - 58s 7ms/step - loss: 0.1633 - acc: 0.9401 - val_loss: 0.6031 - val_acc: 0.7597\n"
     ]
    },
    {
     "data": {
      "text/plain": [
       "<keras.callbacks.History at 0x1cc0be0fe48>"
      ]
     },
     "execution_count": 52,
     "metadata": {},
     "output_type": "execute_result"
    }
   ],
   "source": [
    "model.fit(inputs,outputs,batch_size=batch_size, epochs=epochs, verbose=1, validation_split=0.2, callbacks=[modelcheckpoint])"
   ]
  }
 ],
 "metadata": {
  "kernelspec": {
   "display_name": "Python 3",
   "language": "python",
   "name": "python3"
  },
  "language_info": {
   "codemirror_mode": {
    "name": "ipython",
    "version": 3
   },
   "file_extension": ".py",
   "mimetype": "text/x-python",
   "name": "python",
   "nbconvert_exporter": "python",
   "pygments_lexer": "ipython3",
   "version": "3.6.8"
  }
 },
 "nbformat": 4,
 "nbformat_minor": 2
}
